{
 "cells": [
  {
   "cell_type": "code",
   "execution_count": 1,
   "metadata": {},
   "outputs": [
    {
     "name": "stderr",
     "output_type": "stream",
     "text": [
      "/tmp/ipykernel_2912732/1061586373.py:25: DeprecationWarning: Importing display from IPython.core.display is deprecated since IPython 7.14, please import from IPython display\n",
      "  from IPython.core.display import display, HTML\n"
     ]
    }
   ],
   "source": [
    "import sys,os,re\n",
    "#from dotenv import load_dotenv, find_dotenv\n",
    "\n",
    "#load_dotenv(find_dotenv())\n",
    "\n",
    "#os.environ['PYTHONPATH']=os.environ.get('SRC')\n",
    "#if not os.environ.get('SRC') in sys.path: \n",
    "#    sys.path.insert(0,os.environ.get('SRC'))\n",
    "\n",
    "#%load_ext autoreload\n",
    "#%autoreload 2\n",
    "#%pylab inline\n",
    "%matplotlib inline\n",
    "\n",
    "\n",
    "import pandas as pd\n",
    "import numpy as np\n",
    "import pylab as pl\n",
    "import scipy as sp\n",
    "import seaborn as sns\n",
    "from scipy import stats\n",
    "from box import Box\n",
    "import warnings\n",
    "\n",
    "from IPython.core.display import display, HTML\n",
    "\n",
    "warnings.simplefilter('ignore')\n",
    "\n",
    "#D1 = os.environ.get('DAT')+'/shah-2016/'\n",
    "#FIG_DIR = os.environ.get('FIG')"
   ]
  },
  {
   "cell_type": "code",
   "execution_count": 2,
   "metadata": {},
   "outputs": [
    {
     "data": {
      "text/plain": [
       "'/home/grace/Documents/python/genra-py/notebooks/app-note'"
      ]
     },
     "execution_count": 2,
     "metadata": {},
     "output_type": "execute_result"
    }
   ],
   "source": [
    "TOP = os.getcwd()\n",
    "TOP"
   ]
  },
  {
   "cell_type": "code",
   "execution_count": 3,
   "metadata": {},
   "outputs": [],
   "source": [
    "TOP = os.getcwd().replace('notebooks/app-note', '')"
   ]
  },
  {
   "cell_type": "code",
   "execution_count": 5,
   "metadata": {},
   "outputs": [],
   "source": [
    "D1 = TOP + 'data/shah-2016/'"
   ]
  },
  {
   "cell_type": "markdown",
   "metadata": {},
   "source": [
    "# Hazard identification: Repeat-dose toxicity\n",
    "\n",
    "We demonstrate the application of genra-py for hazard classification, which is the assignment of a chemical to toxicological category ($\\beta$) using two main types of descriptors ($\\bf{x}^\\alpha$): chemical ($\\alpha$=chm) and bioactivity ($\\alpha$=bio). Complete details about the source of these data are described in the Methods section of our prior publication [(Shah, Imran, Jie Liu, Richard S. Judson, Russell S. Thomas, and Grace Patlewicz. 2016. “Systematically Evaluating Read-across Prediction and Performance Using a Local Validity Approach Characterized by Chemical Structure and Bioactivity Information.” Regulatory Toxicology and Pharmacology 79: 12–24.)](https://doi.org/10.1016/j.yrtph.2016.05.008).  \n",
    "\n",
    "    "
   ]
  },
  {
   "cell_type": "markdown",
   "metadata": {},
   "source": [
    "# Data "
   ]
  },
  {
   "cell_type": "markdown",
   "metadata": {},
   "source": [
    "## Supplemental Material\n",
    "\n",
    "The data files were downloaded from the [supplemental material zip file](https://doi.org/10.1016/j.yrtph.2016.05.008)   (Shah et al 2016) and extracted it in the [data/shah-2016](data/shah-2016) folder. These data files were loaded into pandas dataframes for further analysis. We used a unique chemical identifier (based on the CASRN) for each chemical. "
   ]
  },
  {
   "cell_type": "markdown",
   "metadata": {},
   "source": [
    "### Chemical data \n",
    "$\\bf{x}^{chm}$"
   ]
  },
  {
   "cell_type": "markdown",
   "metadata": {},
   "source": [
    "Split up data for chemical structure morgan (mrgn), torsion (tptr) and MACCS (mccs) fingperprints in a dictionary. "
   ]
  },
  {
   "cell_type": "code",
   "execution_count": 6,
   "metadata": {},
   "outputs": [],
   "source": [
    "CHM1 = pd.read_csv(D1+'S3-chm.tsv',sep='\\t')\n",
    "CHM1_nm = CHM1[['ID','chemical_casrn','chemical_name']].set_index('ID')\n",
    "X = CHM1 = CHM1.drop(['chemical_casrn','chemical_name'],axis=1).set_index('ID')\n",
    "\n",
    "CHM11 = Box()\n",
    "for i in set([i[0] for i in X.columns.str.split('_') ]):\n",
    "    CHM11[i] = X[X.columns[X.columns.str.match(i)]]\n",
    "CHM11['all'] = X"
   ]
  },
  {
   "cell_type": "markdown",
   "metadata": {},
   "source": [
    "Summary"
   ]
  },
  {
   "cell_type": "code",
   "execution_count": 7,
   "metadata": {},
   "outputs": [
    {
     "data": {
      "text/html": [
       "<div>\n",
       "<style scoped>\n",
       "    .dataframe tbody tr th:only-of-type {\n",
       "        vertical-align: middle;\n",
       "    }\n",
       "\n",
       "    .dataframe tbody tr th {\n",
       "        vertical-align: top;\n",
       "    }\n",
       "\n",
       "    .dataframe thead th {\n",
       "        text-align: right;\n",
       "    }\n",
       "</style>\n",
       "<table border=\"1\" class=\"dataframe\">\n",
       "  <thead>\n",
       "    <tr style=\"text-align: right;\">\n",
       "      <th></th>\n",
       "      <th>descriptor_type</th>\n",
       "      <th>n_chemicals</th>\n",
       "      <th>n_descriptors</th>\n",
       "    </tr>\n",
       "  </thead>\n",
       "  <tbody>\n",
       "    <tr>\n",
       "      <th>0</th>\n",
       "      <td>chm-tptr</td>\n",
       "      <td>1792</td>\n",
       "      <td>2048</td>\n",
       "    </tr>\n",
       "    <tr>\n",
       "      <th>1</th>\n",
       "      <td>chm-mccs</td>\n",
       "      <td>1792</td>\n",
       "      <td>167</td>\n",
       "    </tr>\n",
       "    <tr>\n",
       "      <th>2</th>\n",
       "      <td>chm-mrgn</td>\n",
       "      <td>1792</td>\n",
       "      <td>1024</td>\n",
       "    </tr>\n",
       "    <tr>\n",
       "      <th>3</th>\n",
       "      <td>chm-all</td>\n",
       "      <td>1792</td>\n",
       "      <td>3239</td>\n",
       "    </tr>\n",
       "  </tbody>\n",
       "</table>\n",
       "</div>"
      ],
      "text/plain": [
       "  descriptor_type  n_chemicals  n_descriptors\n",
       "0        chm-tptr         1792           2048\n",
       "1        chm-mccs         1792            167\n",
       "2        chm-mrgn         1792           1024\n",
       "3         chm-all         1792           3239"
      ]
     },
     "execution_count": 7,
     "metadata": {},
     "output_type": "execute_result"
    }
   ],
   "source": [
    "pd.DataFrame([dict(descriptor_type='chm-'+k,\n",
    "                   n_chemicals=v.shape[0],\n",
    "                   n_descriptors=v.shape[1]) for k,v in CHM11.items()])"
   ]
  },
  {
   "cell_type": "markdown",
   "metadata": {},
   "source": [
    "### Bioactivity data \n",
    "$\\bf{x}^{bio}$"
   ]
  },
  {
   "cell_type": "markdown",
   "metadata": {},
   "source": [
    "Split up the dataframe based on technology platform type"
   ]
  },
  {
   "cell_type": "code",
   "execution_count": 8,
   "metadata": {},
   "outputs": [],
   "source": [
    "BIO1 = pd.read_excel(D1+'S1-bio.xlsx')\n",
    "BIO1 = BIO1.drop(['chemical_casrn','chemical_name'],axis=1).set_index('ID')\n",
    "BIO11 = Box()\n",
    "for i in ['ACEA', 'APR', 'ATG', 'BSK', 'NVS', 'OT', 'Tox21']:\n",
    "    BIO11[i] = BIO1[BIO1.columns[BIO1.columns.str.match(i)]]\n",
    "BIO11['all']=BIO1"
   ]
  },
  {
   "cell_type": "code",
   "execution_count": 9,
   "metadata": {},
   "outputs": [
    {
     "data": {
      "text/html": [
       "<div>\n",
       "<style scoped>\n",
       "    .dataframe tbody tr th:only-of-type {\n",
       "        vertical-align: middle;\n",
       "    }\n",
       "\n",
       "    .dataframe tbody tr th {\n",
       "        vertical-align: top;\n",
       "    }\n",
       "\n",
       "    .dataframe thead th {\n",
       "        text-align: right;\n",
       "    }\n",
       "</style>\n",
       "<table border=\"1\" class=\"dataframe\">\n",
       "  <thead>\n",
       "    <tr style=\"text-align: right;\">\n",
       "      <th></th>\n",
       "      <th>descriptor_type</th>\n",
       "      <th>n_chemicals</th>\n",
       "      <th>n_descriptors</th>\n",
       "    </tr>\n",
       "  </thead>\n",
       "  <tbody>\n",
       "    <tr>\n",
       "      <th>0</th>\n",
       "      <td>bio-ACEA</td>\n",
       "      <td>1792</td>\n",
       "      <td>2</td>\n",
       "    </tr>\n",
       "    <tr>\n",
       "      <th>1</th>\n",
       "      <td>bio-APR</td>\n",
       "      <td>1792</td>\n",
       "      <td>60</td>\n",
       "    </tr>\n",
       "    <tr>\n",
       "      <th>2</th>\n",
       "      <td>bio-ATG</td>\n",
       "      <td>1792</td>\n",
       "      <td>83</td>\n",
       "    </tr>\n",
       "    <tr>\n",
       "      <th>3</th>\n",
       "      <td>bio-BSK</td>\n",
       "      <td>1792</td>\n",
       "      <td>174</td>\n",
       "    </tr>\n",
       "    <tr>\n",
       "      <th>4</th>\n",
       "      <td>bio-NVS</td>\n",
       "      <td>1792</td>\n",
       "      <td>420</td>\n",
       "    </tr>\n",
       "    <tr>\n",
       "      <th>5</th>\n",
       "      <td>bio-OT</td>\n",
       "      <td>1792</td>\n",
       "      <td>17</td>\n",
       "    </tr>\n",
       "    <tr>\n",
       "      <th>6</th>\n",
       "      <td>bio-Tox21</td>\n",
       "      <td>1792</td>\n",
       "      <td>65</td>\n",
       "    </tr>\n",
       "    <tr>\n",
       "      <th>7</th>\n",
       "      <td>bio-all</td>\n",
       "      <td>1792</td>\n",
       "      <td>821</td>\n",
       "    </tr>\n",
       "  </tbody>\n",
       "</table>\n",
       "</div>"
      ],
      "text/plain": [
       "  descriptor_type  n_chemicals  n_descriptors\n",
       "0        bio-ACEA         1792              2\n",
       "1         bio-APR         1792             60\n",
       "2         bio-ATG         1792             83\n",
       "3         bio-BSK         1792            174\n",
       "4         bio-NVS         1792            420\n",
       "5          bio-OT         1792             17\n",
       "6       bio-Tox21         1792             65\n",
       "7         bio-all         1792            821"
      ]
     },
     "execution_count": 9,
     "metadata": {},
     "output_type": "execute_result"
    }
   ],
   "source": [
    "pd.DataFrame([dict(descriptor_type='bio-'+k,\n",
    "                   n_chemicals=v.shape[0],\n",
    "                   n_descriptors=v.shape[1]) for k,v in BIO11.items()])"
   ]
  },
  {
   "cell_type": "markdown",
   "metadata": {},
   "source": [
    "A description of the above platforms is available [here](https://www.epa.gov/chemical-research/exploring-toxcast-data-downloadable-data)."
   ]
  },
  {
   "cell_type": "markdown",
   "metadata": {},
   "source": [
    "### Toxicity data\n",
    "$\\bf{x}^{tox}$\n",
    "\n",
    "These data were obtained from [ToxRefDB v1](https://cfpub.epa.gov/si/si_public_record_report.cfm?Lab=NCCT&dirEntryId=227139)"
   ]
  },
  {
   "cell_type": "code",
   "execution_count": 10,
   "metadata": {},
   "outputs": [],
   "source": [
    "TOX1 = pd.read_excel(D1+'S2-tox.xls')\n",
    "TOX1.set_index('ID',inplace=True)\n",
    "\n",
    "#set([i[0] for i in BIO1.columns.str.split('_') ])\n",
    "TOX11 = Box()\n",
    "for i in set([i[0] for i in TOX1.columns.str.split('_') ]):\n",
    "    TOX11[i] = TOX1[TOX1.columns[TOX1.columns.str.match(i)]]\n",
    "    \n",
    "TOX11['all'] = TOX1"
   ]
  },
  {
   "cell_type": "markdown",
   "metadata": {},
   "source": [
    "Divide the toxicity data based on repeat-dose guideline animal testing study type:"
   ]
  },
  {
   "cell_type": "code",
   "execution_count": 11,
   "metadata": {},
   "outputs": [
    {
     "data": {
      "text/html": [
       "<div>\n",
       "<style scoped>\n",
       "    .dataframe tbody tr th:only-of-type {\n",
       "        vertical-align: middle;\n",
       "    }\n",
       "\n",
       "    .dataframe tbody tr th {\n",
       "        vertical-align: top;\n",
       "    }\n",
       "\n",
       "    .dataframe thead th {\n",
       "        text-align: right;\n",
       "    }\n",
       "</style>\n",
       "<table border=\"1\" class=\"dataframe\">\n",
       "  <thead>\n",
       "    <tr style=\"text-align: right;\">\n",
       "      <th></th>\n",
       "      <th>descriptor_type</th>\n",
       "      <th>n_chemicals</th>\n",
       "      <th>n_descriptors</th>\n",
       "    </tr>\n",
       "  </thead>\n",
       "  <tbody>\n",
       "    <tr>\n",
       "      <th>0</th>\n",
       "      <td>tox-mgr</td>\n",
       "      <td>607</td>\n",
       "      <td>2</td>\n",
       "    </tr>\n",
       "    <tr>\n",
       "      <th>1</th>\n",
       "      <td>tox-acu</td>\n",
       "      <td>607</td>\n",
       "      <td>18</td>\n",
       "    </tr>\n",
       "    <tr>\n",
       "      <th>2</th>\n",
       "      <td>tox-dnt</td>\n",
       "      <td>607</td>\n",
       "      <td>57</td>\n",
       "    </tr>\n",
       "    <tr>\n",
       "      <th>3</th>\n",
       "      <td>tox-chr</td>\n",
       "      <td>607</td>\n",
       "      <td>83</td>\n",
       "    </tr>\n",
       "    <tr>\n",
       "      <th>4</th>\n",
       "      <td>tox-dev</td>\n",
       "      <td>607</td>\n",
       "      <td>95</td>\n",
       "    </tr>\n",
       "    <tr>\n",
       "      <th>5</th>\n",
       "      <td>tox-all</td>\n",
       "      <td>607</td>\n",
       "      <td>255</td>\n",
       "    </tr>\n",
       "  </tbody>\n",
       "</table>\n",
       "</div>"
      ],
      "text/plain": [
       "  descriptor_type  n_chemicals  n_descriptors\n",
       "0         tox-mgr          607              2\n",
       "1         tox-acu          607             18\n",
       "2         tox-dnt          607             57\n",
       "3         tox-chr          607             83\n",
       "4         tox-dev          607             95\n",
       "5         tox-all          607            255"
      ]
     },
     "execution_count": 11,
     "metadata": {},
     "output_type": "execute_result"
    }
   ],
   "source": [
    "pd.DataFrame([dict(descriptor_type='tox-'+k,\n",
    "                   n_chemicals=v.shape[0],\n",
    "                   n_descriptors=v.shape[1]) for k,v in TOX11.items()])"
   ]
  },
  {
   "cell_type": "markdown",
   "metadata": {},
   "source": [
    "Put all data in one data structure and create a \"hybrid\" bio+chm descriptor set"
   ]
  },
  {
   "cell_type": "code",
   "execution_count": 12,
   "metadata": {
    "scrolled": true
   },
   "outputs": [],
   "source": [
    "DATA = Box(chm=CHM11,bio=BIO11,tox=TOX11)"
   ]
  },
  {
   "cell_type": "code",
   "execution_count": 13,
   "metadata": {
    "scrolled": true
   },
   "outputs": [
    {
     "name": "stdout",
     "output_type": "stream",
     "text": [
      "ACEA tptr\n",
      "APR tptr\n",
      "ATG tptr\n",
      "BSK tptr\n",
      "NVS tptr\n",
      "OT tptr\n",
      "Tox21 tptr\n",
      "all tptr\n",
      "ACEA mccs\n",
      "APR mccs\n",
      "ATG mccs\n",
      "BSK mccs\n",
      "NVS mccs\n",
      "OT mccs\n",
      "Tox21 mccs\n",
      "all mccs\n",
      "ACEA mrgn\n",
      "APR mrgn\n",
      "ATG mrgn\n",
      "BSK mrgn\n",
      "NVS mrgn\n",
      "OT mrgn\n",
      "Tox21 mrgn\n",
      "all mrgn\n",
      "ACEA all\n",
      "APR all\n",
      "ATG all\n",
      "BSK all\n",
      "NVS all\n",
      "OT all\n",
      "Tox21 all\n",
      "all all\n"
     ]
    }
   ],
   "source": [
    "DATA['bc'] = Box()\n",
    "\n",
    "for c,b in [(i,j) for i in CHM11.keys() for j in BIO11.keys()]:\n",
    "    print(b,c)\n",
    "    DATA['bc']['{}_{}'.format(b,c)] = CHM11[c].merge(BIO11[b],left_index=True,right_index=True)"
   ]
  },
  {
   "cell_type": "markdown",
   "metadata": {},
   "source": [
    "## Chemical structure data\n",
    "\n",
    "Downloading the structure data is optional: do this only if you want to visualize the nearest neighbours. \n",
    "\n",
    "Go to the [US EPA CompTox Dashboard](https://comptox.epa.gov/dashboard/dsstoxdb/batch_search) to download the structures for these chemicals. Open S3-chm.tsv, select the chemical_name column and paste them into the \"Enter Identifiers to Search\" box. Download the results with dtxsid, name, casrn and smiles (saved below as \"genra-2016-smiles-2020-09-15_16_18_44.tsv\"). "
   ]
  },
  {
   "cell_type": "code",
   "execution_count": 14,
   "metadata": {},
   "outputs": [
    {
     "data": {
      "text/html": [
       "<div>\n",
       "<style scoped>\n",
       "    .dataframe tbody tr th:only-of-type {\n",
       "        vertical-align: middle;\n",
       "    }\n",
       "\n",
       "    .dataframe tbody tr th {\n",
       "        vertical-align: top;\n",
       "    }\n",
       "\n",
       "    .dataframe thead th {\n",
       "        text-align: right;\n",
       "    }\n",
       "</style>\n",
       "<table border=\"1\" class=\"dataframe\">\n",
       "  <thead>\n",
       "    <tr style=\"text-align: right;\">\n",
       "      <th></th>\n",
       "      <th>dtxsid</th>\n",
       "      <th>name</th>\n",
       "      <th>casrn</th>\n",
       "      <th>smiles</th>\n",
       "    </tr>\n",
       "  </thead>\n",
       "  <tbody>\n",
       "    <tr>\n",
       "      <th>0</th>\n",
       "      <td>DTXSID7020005</td>\n",
       "      <td>Acetamide</td>\n",
       "      <td>60-35-5</td>\n",
       "      <td>CC(N)=O</td>\n",
       "    </tr>\n",
       "    <tr>\n",
       "      <th>1</th>\n",
       "      <td>DTXSID2020006</td>\n",
       "      <td>Acetaminophen</td>\n",
       "      <td>103-90-2</td>\n",
       "      <td>CC(=O)NC1=CC=C(O)C=C1</td>\n",
       "    </tr>\n",
       "    <tr>\n",
       "      <th>2</th>\n",
       "      <td>DTXSID6020014</td>\n",
       "      <td>Dehydroacetic acid</td>\n",
       "      <td>520-45-6</td>\n",
       "      <td>CC(=O)C1C(=O)OC(C)=CC1=O</td>\n",
       "    </tr>\n",
       "    <tr>\n",
       "      <th>3</th>\n",
       "      <td>DTXSID0020022</td>\n",
       "      <td>5-(2-Chloro-4-(trifluoromethyl)phenoxy)-2-nitr...</td>\n",
       "      <td>50594-66-6</td>\n",
       "      <td>OC(=O)C1=C(C=CC(OC2=CC=C(C=C2Cl)C(F)(F)F)=C1)[...</td>\n",
       "    </tr>\n",
       "    <tr>\n",
       "      <th>4</th>\n",
       "      <td>DTXSID5020027</td>\n",
       "      <td>Acrylamide</td>\n",
       "      <td>79-06-1</td>\n",
       "      <td>NC(=O)C=C</td>\n",
       "    </tr>\n",
       "  </tbody>\n",
       "</table>\n",
       "</div>"
      ],
      "text/plain": [
       "          dtxsid                                               name  \\\n",
       "0  DTXSID7020005                                          Acetamide   \n",
       "1  DTXSID2020006                                      Acetaminophen   \n",
       "2  DTXSID6020014                                 Dehydroacetic acid   \n",
       "3  DTXSID0020022  5-(2-Chloro-4-(trifluoromethyl)phenoxy)-2-nitr...   \n",
       "4  DTXSID5020027                                         Acrylamide   \n",
       "\n",
       "        casrn                                             smiles  \n",
       "0     60-35-5                                            CC(N)=O  \n",
       "1    103-90-2                              CC(=O)NC1=CC=C(O)C=C1  \n",
       "2    520-45-6                           CC(=O)C1C(=O)OC(C)=CC1=O  \n",
       "3  50594-66-6  OC(=O)C1=C(C=CC(OC2=CC=C(C=C2Cl)C(F)(F)F)=C1)[...  \n",
       "4     79-06-1                                          NC(=O)C=C  "
      ]
     },
     "execution_count": 14,
     "metadata": {},
     "output_type": "execute_result"
    }
   ],
   "source": [
    "SMI=pd.read_csv(D1+'genra-2016-smiles-2020-09-15_16_18_44.tsv',sep='\\t')\\\n",
    "        .drop(['INPUT','FOUND_BY'],axis=1)\n",
    "SMI.columns=SMI.columns.str.lower()\n",
    "SMI.rename(columns=dict(preferred_name='name',qsar_ready_smiles='smiles'),inplace=True)\n",
    "SMI.head()"
   ]
  },
  {
   "cell_type": "markdown",
   "metadata": {},
   "source": [
    "NB - Some chemicals don't have smiles structures"
   ]
  },
  {
   "cell_type": "code",
   "execution_count": 15,
   "metadata": {},
   "outputs": [
    {
     "data": {
      "text/plain": [
       "65"
      ]
     },
     "execution_count": 15,
     "metadata": {},
     "output_type": "execute_result"
    }
   ],
   "source": [
    "SMI.loc[SMI.smiles=='-'].shape[0]"
   ]
  },
  {
   "cell_type": "markdown",
   "metadata": {},
   "source": [
    "# GenRA Analysis"
   ]
  },
  {
   "cell_type": "markdown",
   "metadata": {},
   "source": [
    "## Chronic liver toxicity\n",
    "\n",
    "The chronic liver toxicity data is stored in the TOX1 dataframe (column: chr_liver). We need to create a subset of the data for this analysis."
   ]
  },
  {
   "cell_type": "markdown",
   "metadata": {},
   "source": [
    "Get the data through a function -- make life easy"
   ]
  },
  {
   "cell_type": "code",
   "execution_count": 16,
   "metadata": {},
   "outputs": [],
   "source": [
    "\n",
    "def getData(b,dt='chm',st='all',Data=DATA):\n",
    "    \"\"\"\n",
    "    Return an input and output dataframe for analysis\n",
    "    \n",
    "    b = toxicity class\n",
    "    dt= input data type (chm or bio)\n",
    "    st= inpute subdata type ()\n",
    "    \"\"\"\n",
    "    \n",
    "    Y = Data.tox.all[b].dropna()\n",
    "    Yf= Y.copy()\n",
    "    Yf[Yf>0]=1\n",
    "    Yb = Yf.copy()\n",
    "    Yb = Yb.astype(np.int)\n",
    "    X  = Data[dt][st].loc[Y.index].fillna(0)\n",
    "    \n",
    "    return X,Yb\n",
    "    "
   ]
  },
  {
   "cell_type": "markdown",
   "metadata": {},
   "source": [
    "There are 433 chemicals with chronic liver toxicity data. "
   ]
  },
  {
   "cell_type": "markdown",
   "metadata": {},
   "source": [
    "## Performance for Chronic liver toxicity "
   ]
  },
  {
   "cell_type": "markdown",
   "metadata": {},
   "source": [
    "### Using chemical-morgan descriptors for cross-validation testing with k=10"
   ]
  },
  {
   "cell_type": "code",
   "execution_count": 17,
   "metadata": {},
   "outputs": [
    {
     "data": {
      "text/html": [
       "<div>\n",
       "<style scoped>\n",
       "    .dataframe tbody tr th:only-of-type {\n",
       "        vertical-align: middle;\n",
       "    }\n",
       "\n",
       "    .dataframe tbody tr th {\n",
       "        vertical-align: top;\n",
       "    }\n",
       "\n",
       "    .dataframe thead th {\n",
       "        text-align: right;\n",
       "    }\n",
       "</style>\n",
       "<table border=\"1\" class=\"dataframe\">\n",
       "  <thead>\n",
       "    <tr style=\"text-align: right;\">\n",
       "      <th></th>\n",
       "      <th>mn</th>\n",
       "      <th>sd</th>\n",
       "    </tr>\n",
       "  </thead>\n",
       "  <tbody>\n",
       "    <tr>\n",
       "      <th>fit_time</th>\n",
       "      <td>0.034882</td>\n",
       "      <td>0.007029</td>\n",
       "    </tr>\n",
       "    <tr>\n",
       "      <th>score_time</th>\n",
       "      <td>0.043015</td>\n",
       "      <td>0.003941</td>\n",
       "    </tr>\n",
       "    <tr>\n",
       "      <th>test_f1_score</th>\n",
       "      <td>0.873696</td>\n",
       "      <td>0.023787</td>\n",
       "    </tr>\n",
       "    <tr>\n",
       "      <th>test_precision_score</th>\n",
       "      <td>0.800565</td>\n",
       "      <td>0.017066</td>\n",
       "    </tr>\n",
       "    <tr>\n",
       "      <th>test_recall_score</th>\n",
       "      <td>0.962353</td>\n",
       "      <td>0.042967</td>\n",
       "    </tr>\n",
       "    <tr>\n",
       "      <th>test_roc_auc</th>\n",
       "      <td>0.530621</td>\n",
       "      <td>0.044011</td>\n",
       "    </tr>\n",
       "  </tbody>\n",
       "</table>\n",
       "</div>"
      ],
      "text/plain": [
       "                            mn        sd\n",
       "fit_time              0.034882  0.007029\n",
       "score_time            0.043015  0.003941\n",
       "test_f1_score         0.873696  0.023787\n",
       "test_precision_score  0.800565  0.017066\n",
       "test_recall_score     0.962353  0.042967\n",
       "test_roc_auc          0.530621  0.044011"
      ]
     },
     "execution_count": 17,
     "metadata": {},
     "output_type": "execute_result"
    }
   ],
   "source": [
    "from sklearn.model_selection import cross_validate\n",
    "from sklearn.metrics import make_scorer,f1_score,precision_score,recall_score,roc_auc_score\n",
    "from genra.rax.skl.cls import *\n",
    "\n",
    "Scorers = dict(f1_score=make_scorer(f1_score),\n",
    "              precision_score= make_scorer(precision_score),\n",
    "              recall_score= make_scorer(recall_score),\n",
    "              roc_auc=make_scorer(roc_auc_score))\n",
    "\n",
    "GP = GenRAPredClass(n_neighbors=10,metric='jaccard',n_jobs=-1)\n",
    "\n",
    "X_mrgn,Y_liver = getData('chr_liver',dt='chm',st='all')\n",
    "\n",
    "P = pd.DataFrame(cross_validate(GP,X_mrgn,Y_liver,cv=10,scoring=Scorers))\n",
    "R1 = pd.DataFrame(dict(mn=P.mean(),sd=P.std()))\n",
    "R1"
   ]
  },
  {
   "cell_type": "code",
   "execution_count": 20,
   "metadata": {},
   "outputs": [
    {
     "name": "stderr",
     "output_type": "stream",
     "text": [
      "/home/grace/anaconda3/envs/aim/lib/python3.8/site-packages/sklearn/metrics/pairwise.py:1975: DataConversionWarning: Data was converted to boolean for metric jaccard\n",
      "  warnings.warn(msg, DataConversionWarning)\n",
      "/home/grace/anaconda3/envs/aim/lib/python3.8/site-packages/sklearn/metrics/pairwise.py:1975: DataConversionWarning: Data was converted to boolean for metric jaccard\n",
      "  warnings.warn(msg, DataConversionWarning)\n",
      "/home/grace/anaconda3/envs/aim/lib/python3.8/site-packages/sklearn/metrics/pairwise.py:1975: DataConversionWarning: Data was converted to boolean for metric jaccard\n",
      "  warnings.warn(msg, DataConversionWarning)\n",
      "/home/grace/anaconda3/envs/aim/lib/python3.8/site-packages/sklearn/metrics/pairwise.py:1975: DataConversionWarning: Data was converted to boolean for metric jaccard\n",
      "  warnings.warn(msg, DataConversionWarning)\n",
      "/home/grace/anaconda3/envs/aim/lib/python3.8/site-packages/sklearn/metrics/pairwise.py:1975: DataConversionWarning: Data was converted to boolean for metric jaccard\n",
      "  warnings.warn(msg, DataConversionWarning)\n",
      "/home/grace/anaconda3/envs/aim/lib/python3.8/site-packages/sklearn/metrics/pairwise.py:1975: DataConversionWarning: Data was converted to boolean for metric jaccard\n",
      "  warnings.warn(msg, DataConversionWarning)\n",
      "/home/grace/anaconda3/envs/aim/lib/python3.8/site-packages/sklearn/metrics/pairwise.py:1975: DataConversionWarning: Data was converted to boolean for metric jaccard\n",
      "  warnings.warn(msg, DataConversionWarning)\n",
      "/home/grace/anaconda3/envs/aim/lib/python3.8/site-packages/sklearn/metrics/pairwise.py:1975: DataConversionWarning: Data was converted to boolean for metric jaccard\n",
      "  warnings.warn(msg, DataConversionWarning)\n",
      "/home/grace/anaconda3/envs/aim/lib/python3.8/site-packages/sklearn/metrics/pairwise.py:1975: DataConversionWarning: Data was converted to boolean for metric jaccard\n",
      "  warnings.warn(msg, DataConversionWarning)\n",
      "/home/grace/anaconda3/envs/aim/lib/python3.8/site-packages/sklearn/metrics/pairwise.py:1975: DataConversionWarning: Data was converted to boolean for metric jaccard\n",
      "  warnings.warn(msg, DataConversionWarning)\n",
      "/home/grace/anaconda3/envs/aim/lib/python3.8/site-packages/sklearn/metrics/pairwise.py:1975: DataConversionWarning: Data was converted to boolean for metric jaccard\n",
      "  warnings.warn(msg, DataConversionWarning)\n",
      "/home/grace/anaconda3/envs/aim/lib/python3.8/site-packages/sklearn/metrics/pairwise.py:1975: DataConversionWarning: Data was converted to boolean for metric jaccard\n",
      "  warnings.warn(msg, DataConversionWarning)\n",
      "/home/grace/anaconda3/envs/aim/lib/python3.8/site-packages/sklearn/metrics/pairwise.py:1975: DataConversionWarning: Data was converted to boolean for metric jaccard\n",
      "  warnings.warn(msg, DataConversionWarning)\n",
      "/home/grace/anaconda3/envs/aim/lib/python3.8/site-packages/sklearn/metrics/pairwise.py:1975: DataConversionWarning: Data was converted to boolean for metric jaccard\n",
      "  warnings.warn(msg, DataConversionWarning)\n",
      "/home/grace/anaconda3/envs/aim/lib/python3.8/site-packages/sklearn/metrics/pairwise.py:1975: DataConversionWarning: Data was converted to boolean for metric jaccard\n",
      "  warnings.warn(msg, DataConversionWarning)\n",
      "/home/grace/anaconda3/envs/aim/lib/python3.8/site-packages/sklearn/metrics/pairwise.py:1975: DataConversionWarning: Data was converted to boolean for metric jaccard\n",
      "  warnings.warn(msg, DataConversionWarning)\n",
      "/home/grace/anaconda3/envs/aim/lib/python3.8/site-packages/sklearn/metrics/pairwise.py:1975: DataConversionWarning: Data was converted to boolean for metric jaccard\n",
      "  warnings.warn(msg, DataConversionWarning)\n",
      "/home/grace/anaconda3/envs/aim/lib/python3.8/site-packages/sklearn/metrics/pairwise.py:1975: DataConversionWarning: Data was converted to boolean for metric jaccard\n",
      "  warnings.warn(msg, DataConversionWarning)\n",
      "/home/grace/anaconda3/envs/aim/lib/python3.8/site-packages/sklearn/metrics/pairwise.py:1975: DataConversionWarning: Data was converted to boolean for metric jaccard\n",
      "  warnings.warn(msg, DataConversionWarning)\n",
      "/home/grace/anaconda3/envs/aim/lib/python3.8/site-packages/sklearn/metrics/pairwise.py:1975: DataConversionWarning: Data was converted to boolean for metric jaccard\n",
      "  warnings.warn(msg, DataConversionWarning)\n",
      "/home/grace/anaconda3/envs/aim/lib/python3.8/site-packages/sklearn/metrics/pairwise.py:1975: DataConversionWarning: Data was converted to boolean for metric jaccard\n",
      "  warnings.warn(msg, DataConversionWarning)\n",
      "/home/grace/anaconda3/envs/aim/lib/python3.8/site-packages/sklearn/metrics/pairwise.py:1975: DataConversionWarning: Data was converted to boolean for metric jaccard\n",
      "  warnings.warn(msg, DataConversionWarning)\n",
      "/home/grace/anaconda3/envs/aim/lib/python3.8/site-packages/sklearn/metrics/pairwise.py:1975: DataConversionWarning: Data was converted to boolean for metric jaccard\n",
      "  warnings.warn(msg, DataConversionWarning)\n",
      "/home/grace/anaconda3/envs/aim/lib/python3.8/site-packages/sklearn/metrics/pairwise.py:1975: DataConversionWarning: Data was converted to boolean for metric jaccard\n",
      "  warnings.warn(msg, DataConversionWarning)\n",
      "/home/grace/anaconda3/envs/aim/lib/python3.8/site-packages/sklearn/metrics/pairwise.py:1975: DataConversionWarning: Data was converted to boolean for metric jaccard\n",
      "  warnings.warn(msg, DataConversionWarning)\n",
      "/home/grace/anaconda3/envs/aim/lib/python3.8/site-packages/sklearn/metrics/pairwise.py:1975: DataConversionWarning: Data was converted to boolean for metric jaccard\n",
      "  warnings.warn(msg, DataConversionWarning)\n",
      "/home/grace/anaconda3/envs/aim/lib/python3.8/site-packages/sklearn/metrics/pairwise.py:1975: DataConversionWarning: Data was converted to boolean for metric jaccard\n",
      "  warnings.warn(msg, DataConversionWarning)\n",
      "/home/grace/anaconda3/envs/aim/lib/python3.8/site-packages/sklearn/metrics/pairwise.py:1975: DataConversionWarning: Data was converted to boolean for metric jaccard\n",
      "  warnings.warn(msg, DataConversionWarning)\n",
      "/home/grace/anaconda3/envs/aim/lib/python3.8/site-packages/sklearn/metrics/pairwise.py:1975: DataConversionWarning: Data was converted to boolean for metric jaccard\n",
      "  warnings.warn(msg, DataConversionWarning)\n",
      "/home/grace/anaconda3/envs/aim/lib/python3.8/site-packages/sklearn/metrics/pairwise.py:1975: DataConversionWarning: Data was converted to boolean for metric jaccard\n",
      "  warnings.warn(msg, DataConversionWarning)\n",
      "/home/grace/anaconda3/envs/aim/lib/python3.8/site-packages/sklearn/metrics/pairwise.py:1975: DataConversionWarning: Data was converted to boolean for metric jaccard\n",
      "  warnings.warn(msg, DataConversionWarning)\n",
      "/home/grace/anaconda3/envs/aim/lib/python3.8/site-packages/sklearn/metrics/pairwise.py:1975: DataConversionWarning: Data was converted to boolean for metric jaccard\n",
      "  warnings.warn(msg, DataConversionWarning)\n",
      "/home/grace/anaconda3/envs/aim/lib/python3.8/site-packages/sklearn/metrics/pairwise.py:1975: DataConversionWarning: Data was converted to boolean for metric jaccard\n",
      "  warnings.warn(msg, DataConversionWarning)\n",
      "/home/grace/anaconda3/envs/aim/lib/python3.8/site-packages/sklearn/metrics/pairwise.py:1975: DataConversionWarning: Data was converted to boolean for metric jaccard\n",
      "  warnings.warn(msg, DataConversionWarning)\n",
      "/home/grace/anaconda3/envs/aim/lib/python3.8/site-packages/sklearn/metrics/pairwise.py:1975: DataConversionWarning: Data was converted to boolean for metric jaccard\n",
      "  warnings.warn(msg, DataConversionWarning)\n",
      "/home/grace/anaconda3/envs/aim/lib/python3.8/site-packages/sklearn/metrics/pairwise.py:1975: DataConversionWarning: Data was converted to boolean for metric jaccard\n",
      "  warnings.warn(msg, DataConversionWarning)\n",
      "/home/grace/anaconda3/envs/aim/lib/python3.8/site-packages/sklearn/metrics/pairwise.py:1975: DataConversionWarning: Data was converted to boolean for metric jaccard\n",
      "  warnings.warn(msg, DataConversionWarning)\n",
      "/home/grace/anaconda3/envs/aim/lib/python3.8/site-packages/sklearn/metrics/pairwise.py:1975: DataConversionWarning: Data was converted to boolean for metric jaccard\n",
      "  warnings.warn(msg, DataConversionWarning)\n",
      "/home/grace/anaconda3/envs/aim/lib/python3.8/site-packages/sklearn/metrics/pairwise.py:1975: DataConversionWarning: Data was converted to boolean for metric jaccard\n",
      "  warnings.warn(msg, DataConversionWarning)\n",
      "/home/grace/anaconda3/envs/aim/lib/python3.8/site-packages/sklearn/metrics/pairwise.py:1975: DataConversionWarning: Data was converted to boolean for metric jaccard\n",
      "  warnings.warn(msg, DataConversionWarning)\n",
      "/home/grace/anaconda3/envs/aim/lib/python3.8/site-packages/sklearn/metrics/pairwise.py:1975: DataConversionWarning: Data was converted to boolean for metric jaccard\n",
      "  warnings.warn(msg, DataConversionWarning)\n",
      "/home/grace/anaconda3/envs/aim/lib/python3.8/site-packages/sklearn/metrics/pairwise.py:1975: DataConversionWarning: Data was converted to boolean for metric jaccard\n",
      "  warnings.warn(msg, DataConversionWarning)\n",
      "/home/grace/anaconda3/envs/aim/lib/python3.8/site-packages/sklearn/metrics/pairwise.py:1975: DataConversionWarning: Data was converted to boolean for metric jaccard\n",
      "  warnings.warn(msg, DataConversionWarning)\n",
      "/home/grace/anaconda3/envs/aim/lib/python3.8/site-packages/sklearn/metrics/pairwise.py:1975: DataConversionWarning: Data was converted to boolean for metric jaccard\n",
      "  warnings.warn(msg, DataConversionWarning)\n",
      "/home/grace/anaconda3/envs/aim/lib/python3.8/site-packages/sklearn/metrics/pairwise.py:1975: DataConversionWarning: Data was converted to boolean for metric jaccard\n",
      "  warnings.warn(msg, DataConversionWarning)\n",
      "/home/grace/anaconda3/envs/aim/lib/python3.8/site-packages/sklearn/metrics/pairwise.py:1975: DataConversionWarning: Data was converted to boolean for metric jaccard\n",
      "  warnings.warn(msg, DataConversionWarning)\n",
      "/home/grace/anaconda3/envs/aim/lib/python3.8/site-packages/sklearn/metrics/pairwise.py:1975: DataConversionWarning: Data was converted to boolean for metric jaccard\n",
      "  warnings.warn(msg, DataConversionWarning)\n",
      "/home/grace/anaconda3/envs/aim/lib/python3.8/site-packages/sklearn/metrics/pairwise.py:1975: DataConversionWarning: Data was converted to boolean for metric jaccard\n",
      "  warnings.warn(msg, DataConversionWarning)\n",
      "/home/grace/anaconda3/envs/aim/lib/python3.8/site-packages/sklearn/metrics/pairwise.py:1975: DataConversionWarning: Data was converted to boolean for metric jaccard\n",
      "  warnings.warn(msg, DataConversionWarning)\n",
      "/home/grace/anaconda3/envs/aim/lib/python3.8/site-packages/sklearn/metrics/pairwise.py:1975: DataConversionWarning: Data was converted to boolean for metric jaccard\n",
      "  warnings.warn(msg, DataConversionWarning)\n",
      "/home/grace/anaconda3/envs/aim/lib/python3.8/site-packages/sklearn/metrics/pairwise.py:1975: DataConversionWarning: Data was converted to boolean for metric jaccard\n",
      "  warnings.warn(msg, DataConversionWarning)\n",
      "/home/grace/anaconda3/envs/aim/lib/python3.8/site-packages/sklearn/metrics/pairwise.py:1975: DataConversionWarning: Data was converted to boolean for metric jaccard\n",
      "  warnings.warn(msg, DataConversionWarning)\n",
      "/home/grace/anaconda3/envs/aim/lib/python3.8/site-packages/sklearn/metrics/pairwise.py:1975: DataConversionWarning: Data was converted to boolean for metric jaccard\n",
      "  warnings.warn(msg, DataConversionWarning)\n",
      "/home/grace/anaconda3/envs/aim/lib/python3.8/site-packages/sklearn/metrics/pairwise.py:1975: DataConversionWarning: Data was converted to boolean for metric jaccard\n",
      "  warnings.warn(msg, DataConversionWarning)\n",
      "/home/grace/anaconda3/envs/aim/lib/python3.8/site-packages/sklearn/metrics/pairwise.py:1975: DataConversionWarning: Data was converted to boolean for metric jaccard\n",
      "  warnings.warn(msg, DataConversionWarning)\n",
      "/home/grace/anaconda3/envs/aim/lib/python3.8/site-packages/sklearn/metrics/pairwise.py:1975: DataConversionWarning: Data was converted to boolean for metric jaccard\n",
      "  warnings.warn(msg, DataConversionWarning)\n",
      "/home/grace/anaconda3/envs/aim/lib/python3.8/site-packages/sklearn/metrics/pairwise.py:1975: DataConversionWarning: Data was converted to boolean for metric jaccard\n",
      "  warnings.warn(msg, DataConversionWarning)\n",
      "/home/grace/anaconda3/envs/aim/lib/python3.8/site-packages/sklearn/metrics/pairwise.py:1975: DataConversionWarning: Data was converted to boolean for metric jaccard\n",
      "  warnings.warn(msg, DataConversionWarning)\n",
      "/home/grace/anaconda3/envs/aim/lib/python3.8/site-packages/sklearn/metrics/pairwise.py:1975: DataConversionWarning: Data was converted to boolean for metric jaccard\n",
      "  warnings.warn(msg, DataConversionWarning)\n",
      "/home/grace/anaconda3/envs/aim/lib/python3.8/site-packages/sklearn/metrics/pairwise.py:1975: DataConversionWarning: Data was converted to boolean for metric jaccard\n",
      "  warnings.warn(msg, DataConversionWarning)\n",
      "/home/grace/anaconda3/envs/aim/lib/python3.8/site-packages/sklearn/metrics/pairwise.py:1975: DataConversionWarning: Data was converted to boolean for metric jaccard\n",
      "  warnings.warn(msg, DataConversionWarning)\n",
      "/home/grace/anaconda3/envs/aim/lib/python3.8/site-packages/sklearn/metrics/pairwise.py:1975: DataConversionWarning: Data was converted to boolean for metric jaccard\n",
      "  warnings.warn(msg, DataConversionWarning)\n",
      "/home/grace/anaconda3/envs/aim/lib/python3.8/site-packages/sklearn/metrics/pairwise.py:1975: DataConversionWarning: Data was converted to boolean for metric jaccard\n",
      "  warnings.warn(msg, DataConversionWarning)\n",
      "/home/grace/anaconda3/envs/aim/lib/python3.8/site-packages/sklearn/metrics/pairwise.py:1975: DataConversionWarning: Data was converted to boolean for metric jaccard\n",
      "  warnings.warn(msg, DataConversionWarning)\n",
      "/home/grace/anaconda3/envs/aim/lib/python3.8/site-packages/sklearn/metrics/pairwise.py:1975: DataConversionWarning: Data was converted to boolean for metric jaccard\n",
      "  warnings.warn(msg, DataConversionWarning)\n",
      "/home/grace/anaconda3/envs/aim/lib/python3.8/site-packages/sklearn/metrics/pairwise.py:1975: DataConversionWarning: Data was converted to boolean for metric jaccard\n",
      "  warnings.warn(msg, DataConversionWarning)\n",
      "/home/grace/anaconda3/envs/aim/lib/python3.8/site-packages/sklearn/metrics/pairwise.py:1975: DataConversionWarning: Data was converted to boolean for metric jaccard\n",
      "  warnings.warn(msg, DataConversionWarning)\n",
      "/home/grace/anaconda3/envs/aim/lib/python3.8/site-packages/sklearn/metrics/pairwise.py:1975: DataConversionWarning: Data was converted to boolean for metric jaccard\n",
      "  warnings.warn(msg, DataConversionWarning)\n",
      "/home/grace/anaconda3/envs/aim/lib/python3.8/site-packages/sklearn/metrics/pairwise.py:1975: DataConversionWarning: Data was converted to boolean for metric jaccard\n",
      "  warnings.warn(msg, DataConversionWarning)\n",
      "/home/grace/anaconda3/envs/aim/lib/python3.8/site-packages/sklearn/metrics/pairwise.py:1975: DataConversionWarning: Data was converted to boolean for metric jaccard\n",
      "  warnings.warn(msg, DataConversionWarning)\n",
      "/home/grace/anaconda3/envs/aim/lib/python3.8/site-packages/sklearn/metrics/pairwise.py:1975: DataConversionWarning: Data was converted to boolean for metric jaccard\n",
      "  warnings.warn(msg, DataConversionWarning)\n",
      "/home/grace/anaconda3/envs/aim/lib/python3.8/site-packages/sklearn/metrics/pairwise.py:1975: DataConversionWarning: Data was converted to boolean for metric jaccard\n",
      "  warnings.warn(msg, DataConversionWarning)\n",
      "/home/grace/anaconda3/envs/aim/lib/python3.8/site-packages/sklearn/metrics/pairwise.py:1975: DataConversionWarning: Data was converted to boolean for metric jaccard\n",
      "  warnings.warn(msg, DataConversionWarning)\n",
      "/home/grace/anaconda3/envs/aim/lib/python3.8/site-packages/sklearn/metrics/pairwise.py:1975: DataConversionWarning: Data was converted to boolean for metric jaccard\n",
      "  warnings.warn(msg, DataConversionWarning)\n",
      "/home/grace/anaconda3/envs/aim/lib/python3.8/site-packages/sklearn/metrics/pairwise.py:1975: DataConversionWarning: Data was converted to boolean for metric jaccard\n",
      "  warnings.warn(msg, DataConversionWarning)\n",
      "/home/grace/anaconda3/envs/aim/lib/python3.8/site-packages/sklearn/metrics/pairwise.py:1975: DataConversionWarning: Data was converted to boolean for metric jaccard\n",
      "  warnings.warn(msg, DataConversionWarning)\n",
      "/home/grace/anaconda3/envs/aim/lib/python3.8/site-packages/sklearn/metrics/pairwise.py:1975: DataConversionWarning: Data was converted to boolean for metric jaccard\n",
      "  warnings.warn(msg, DataConversionWarning)\n",
      "/home/grace/anaconda3/envs/aim/lib/python3.8/site-packages/sklearn/metrics/pairwise.py:1975: DataConversionWarning: Data was converted to boolean for metric jaccard\n",
      "  warnings.warn(msg, DataConversionWarning)\n",
      "/home/grace/anaconda3/envs/aim/lib/python3.8/site-packages/sklearn/metrics/pairwise.py:1975: DataConversionWarning: Data was converted to boolean for metric jaccard\n",
      "  warnings.warn(msg, DataConversionWarning)\n",
      "/home/grace/anaconda3/envs/aim/lib/python3.8/site-packages/sklearn/metrics/pairwise.py:1975: DataConversionWarning: Data was converted to boolean for metric jaccard\n",
      "  warnings.warn(msg, DataConversionWarning)\n",
      "/home/grace/anaconda3/envs/aim/lib/python3.8/site-packages/sklearn/metrics/pairwise.py:1975: DataConversionWarning: Data was converted to boolean for metric jaccard\n",
      "  warnings.warn(msg, DataConversionWarning)\n",
      "/home/grace/anaconda3/envs/aim/lib/python3.8/site-packages/sklearn/metrics/pairwise.py:1975: DataConversionWarning: Data was converted to boolean for metric jaccard\n",
      "  warnings.warn(msg, DataConversionWarning)\n",
      "/home/grace/anaconda3/envs/aim/lib/python3.8/site-packages/sklearn/metrics/pairwise.py:1975: DataConversionWarning: Data was converted to boolean for metric jaccard\n",
      "  warnings.warn(msg, DataConversionWarning)\n",
      "/home/grace/anaconda3/envs/aim/lib/python3.8/site-packages/sklearn/metrics/pairwise.py:1975: DataConversionWarning: Data was converted to boolean for metric jaccard\n",
      "  warnings.warn(msg, DataConversionWarning)\n",
      "/home/grace/anaconda3/envs/aim/lib/python3.8/site-packages/sklearn/metrics/pairwise.py:1975: DataConversionWarning: Data was converted to boolean for metric jaccard\n",
      "  warnings.warn(msg, DataConversionWarning)\n",
      "/home/grace/anaconda3/envs/aim/lib/python3.8/site-packages/sklearn/metrics/pairwise.py:1975: DataConversionWarning: Data was converted to boolean for metric jaccard\n",
      "  warnings.warn(msg, DataConversionWarning)\n",
      "/home/grace/anaconda3/envs/aim/lib/python3.8/site-packages/sklearn/metrics/pairwise.py:1975: DataConversionWarning: Data was converted to boolean for metric jaccard\n",
      "  warnings.warn(msg, DataConversionWarning)\n",
      "/home/grace/anaconda3/envs/aim/lib/python3.8/site-packages/sklearn/metrics/pairwise.py:1975: DataConversionWarning: Data was converted to boolean for metric jaccard\n",
      "  warnings.warn(msg, DataConversionWarning)\n",
      "/home/grace/anaconda3/envs/aim/lib/python3.8/site-packages/sklearn/metrics/pairwise.py:1975: DataConversionWarning: Data was converted to boolean for metric jaccard\n",
      "  warnings.warn(msg, DataConversionWarning)\n",
      "/home/grace/anaconda3/envs/aim/lib/python3.8/site-packages/sklearn/metrics/pairwise.py:1975: DataConversionWarning: Data was converted to boolean for metric jaccard\n",
      "  warnings.warn(msg, DataConversionWarning)\n",
      "/home/grace/anaconda3/envs/aim/lib/python3.8/site-packages/sklearn/metrics/pairwise.py:1975: DataConversionWarning: Data was converted to boolean for metric jaccard\n",
      "  warnings.warn(msg, DataConversionWarning)\n",
      "/home/grace/anaconda3/envs/aim/lib/python3.8/site-packages/sklearn/metrics/pairwise.py:1975: DataConversionWarning: Data was converted to boolean for metric jaccard\n",
      "  warnings.warn(msg, DataConversionWarning)\n",
      "/home/grace/anaconda3/envs/aim/lib/python3.8/site-packages/sklearn/metrics/pairwise.py:1975: DataConversionWarning: Data was converted to boolean for metric jaccard\n",
      "  warnings.warn(msg, DataConversionWarning)\n",
      "/home/grace/anaconda3/envs/aim/lib/python3.8/site-packages/sklearn/metrics/pairwise.py:1975: DataConversionWarning: Data was converted to boolean for metric jaccard\n",
      "  warnings.warn(msg, DataConversionWarning)\n",
      "/home/grace/anaconda3/envs/aim/lib/python3.8/site-packages/sklearn/metrics/pairwise.py:1975: DataConversionWarning: Data was converted to boolean for metric jaccard\n",
      "  warnings.warn(msg, DataConversionWarning)\n",
      "/home/grace/anaconda3/envs/aim/lib/python3.8/site-packages/sklearn/metrics/pairwise.py:1975: DataConversionWarning: Data was converted to boolean for metric jaccard\n",
      "  warnings.warn(msg, DataConversionWarning)\n",
      "/home/grace/anaconda3/envs/aim/lib/python3.8/site-packages/sklearn/metrics/pairwise.py:1975: DataConversionWarning: Data was converted to boolean for metric jaccard\n",
      "  warnings.warn(msg, DataConversionWarning)\n",
      "/home/grace/anaconda3/envs/aim/lib/python3.8/site-packages/sklearn/metrics/pairwise.py:1975: DataConversionWarning: Data was converted to boolean for metric jaccard\n",
      "  warnings.warn(msg, DataConversionWarning)\n",
      "/home/grace/anaconda3/envs/aim/lib/python3.8/site-packages/sklearn/metrics/pairwise.py:1975: DataConversionWarning: Data was converted to boolean for metric jaccard\n",
      "  warnings.warn(msg, DataConversionWarning)\n",
      "/home/grace/anaconda3/envs/aim/lib/python3.8/site-packages/sklearn/metrics/pairwise.py:1975: DataConversionWarning: Data was converted to boolean for metric jaccard\n",
      "  warnings.warn(msg, DataConversionWarning)\n",
      "/home/grace/anaconda3/envs/aim/lib/python3.8/site-packages/sklearn/metrics/pairwise.py:1975: DataConversionWarning: Data was converted to boolean for metric jaccard\n",
      "  warnings.warn(msg, DataConversionWarning)\n",
      "/home/grace/anaconda3/envs/aim/lib/python3.8/site-packages/sklearn/metrics/pairwise.py:1975: DataConversionWarning: Data was converted to boolean for metric jaccard\n",
      "  warnings.warn(msg, DataConversionWarning)\n",
      "/home/grace/anaconda3/envs/aim/lib/python3.8/site-packages/sklearn/metrics/pairwise.py:1975: DataConversionWarning: Data was converted to boolean for metric jaccard\n",
      "  warnings.warn(msg, DataConversionWarning)\n",
      "/home/grace/anaconda3/envs/aim/lib/python3.8/site-packages/sklearn/metrics/pairwise.py:1975: DataConversionWarning: Data was converted to boolean for metric jaccard\n",
      "  warnings.warn(msg, DataConversionWarning)\n",
      "/home/grace/anaconda3/envs/aim/lib/python3.8/site-packages/sklearn/metrics/pairwise.py:1975: DataConversionWarning: Data was converted to boolean for metric jaccard\n",
      "  warnings.warn(msg, DataConversionWarning)\n",
      "/home/grace/anaconda3/envs/aim/lib/python3.8/site-packages/sklearn/metrics/pairwise.py:1975: DataConversionWarning: Data was converted to boolean for metric jaccard\n",
      "  warnings.warn(msg, DataConversionWarning)\n",
      "/home/grace/anaconda3/envs/aim/lib/python3.8/site-packages/sklearn/metrics/pairwise.py:1975: DataConversionWarning: Data was converted to boolean for metric jaccard\n",
      "  warnings.warn(msg, DataConversionWarning)\n",
      "/home/grace/anaconda3/envs/aim/lib/python3.8/site-packages/sklearn/metrics/pairwise.py:1975: DataConversionWarning: Data was converted to boolean for metric jaccard\n",
      "  warnings.warn(msg, DataConversionWarning)\n",
      "/home/grace/anaconda3/envs/aim/lib/python3.8/site-packages/sklearn/metrics/pairwise.py:1975: DataConversionWarning: Data was converted to boolean for metric jaccard\n",
      "  warnings.warn(msg, DataConversionWarning)\n",
      "/home/grace/anaconda3/envs/aim/lib/python3.8/site-packages/sklearn/metrics/pairwise.py:1975: DataConversionWarning: Data was converted to boolean for metric jaccard\n",
      "  warnings.warn(msg, DataConversionWarning)\n",
      "/home/grace/anaconda3/envs/aim/lib/python3.8/site-packages/sklearn/metrics/pairwise.py:1975: DataConversionWarning: Data was converted to boolean for metric jaccard\n",
      "  warnings.warn(msg, DataConversionWarning)\n",
      "/home/grace/anaconda3/envs/aim/lib/python3.8/site-packages/sklearn/metrics/pairwise.py:1975: DataConversionWarning: Data was converted to boolean for metric jaccard\n",
      "  warnings.warn(msg, DataConversionWarning)\n",
      "/home/grace/anaconda3/envs/aim/lib/python3.8/site-packages/sklearn/metrics/pairwise.py:1975: DataConversionWarning: Data was converted to boolean for metric jaccard\n",
      "  warnings.warn(msg, DataConversionWarning)\n",
      "/home/grace/anaconda3/envs/aim/lib/python3.8/site-packages/sklearn/metrics/pairwise.py:1975: DataConversionWarning: Data was converted to boolean for metric jaccard\n",
      "  warnings.warn(msg, DataConversionWarning)\n",
      "/home/grace/anaconda3/envs/aim/lib/python3.8/site-packages/sklearn/metrics/pairwise.py:1975: DataConversionWarning: Data was converted to boolean for metric jaccard\n",
      "  warnings.warn(msg, DataConversionWarning)\n",
      "/home/grace/anaconda3/envs/aim/lib/python3.8/site-packages/sklearn/metrics/pairwise.py:1975: DataConversionWarning: Data was converted to boolean for metric jaccard\n",
      "  warnings.warn(msg, DataConversionWarning)\n",
      "/home/grace/anaconda3/envs/aim/lib/python3.8/site-packages/sklearn/metrics/pairwise.py:1975: DataConversionWarning: Data was converted to boolean for metric jaccard\n",
      "  warnings.warn(msg, DataConversionWarning)\n",
      "/home/grace/anaconda3/envs/aim/lib/python3.8/site-packages/sklearn/metrics/pairwise.py:1975: DataConversionWarning: Data was converted to boolean for metric jaccard\n",
      "  warnings.warn(msg, DataConversionWarning)\n",
      "/home/grace/anaconda3/envs/aim/lib/python3.8/site-packages/sklearn/metrics/pairwise.py:1975: DataConversionWarning: Data was converted to boolean for metric jaccard\n",
      "  warnings.warn(msg, DataConversionWarning)\n",
      "/home/grace/anaconda3/envs/aim/lib/python3.8/site-packages/sklearn/metrics/pairwise.py:1975: DataConversionWarning: Data was converted to boolean for metric jaccard\n",
      "  warnings.warn(msg, DataConversionWarning)\n",
      "/home/grace/anaconda3/envs/aim/lib/python3.8/site-packages/sklearn/metrics/pairwise.py:1975: DataConversionWarning: Data was converted to boolean for metric jaccard\n",
      "  warnings.warn(msg, DataConversionWarning)\n",
      "/home/grace/anaconda3/envs/aim/lib/python3.8/site-packages/sklearn/metrics/pairwise.py:1975: DataConversionWarning: Data was converted to boolean for metric jaccard\n",
      "  warnings.warn(msg, DataConversionWarning)\n",
      "/home/grace/anaconda3/envs/aim/lib/python3.8/site-packages/sklearn/metrics/pairwise.py:1975: DataConversionWarning: Data was converted to boolean for metric jaccard\n",
      "  warnings.warn(msg, DataConversionWarning)\n",
      "/home/grace/anaconda3/envs/aim/lib/python3.8/site-packages/sklearn/metrics/pairwise.py:1975: DataConversionWarning: Data was converted to boolean for metric jaccard\n",
      "  warnings.warn(msg, DataConversionWarning)\n",
      "/home/grace/anaconda3/envs/aim/lib/python3.8/site-packages/sklearn/metrics/pairwise.py:1975: DataConversionWarning: Data was converted to boolean for metric jaccard\n",
      "  warnings.warn(msg, DataConversionWarning)\n",
      "/home/grace/anaconda3/envs/aim/lib/python3.8/site-packages/sklearn/metrics/pairwise.py:1975: DataConversionWarning: Data was converted to boolean for metric jaccard\n",
      "  warnings.warn(msg, DataConversionWarning)\n",
      "/home/grace/anaconda3/envs/aim/lib/python3.8/site-packages/sklearn/metrics/pairwise.py:1975: DataConversionWarning: Data was converted to boolean for metric jaccard\n",
      "  warnings.warn(msg, DataConversionWarning)\n",
      "/home/grace/anaconda3/envs/aim/lib/python3.8/site-packages/sklearn/metrics/pairwise.py:1975: DataConversionWarning: Data was converted to boolean for metric jaccard\n",
      "  warnings.warn(msg, DataConversionWarning)\n",
      "/home/grace/anaconda3/envs/aim/lib/python3.8/site-packages/sklearn/metrics/pairwise.py:1975: DataConversionWarning: Data was converted to boolean for metric jaccard\n",
      "  warnings.warn(msg, DataConversionWarning)\n",
      "/home/grace/anaconda3/envs/aim/lib/python3.8/site-packages/sklearn/metrics/pairwise.py:1975: DataConversionWarning: Data was converted to boolean for metric jaccard\n",
      "  warnings.warn(msg, DataConversionWarning)\n",
      "/home/grace/anaconda3/envs/aim/lib/python3.8/site-packages/sklearn/metrics/pairwise.py:1975: DataConversionWarning: Data was converted to boolean for metric jaccard\n",
      "  warnings.warn(msg, DataConversionWarning)\n",
      "/home/grace/anaconda3/envs/aim/lib/python3.8/site-packages/sklearn/metrics/pairwise.py:1975: DataConversionWarning: Data was converted to boolean for metric jaccard\n",
      "  warnings.warn(msg, DataConversionWarning)\n",
      "/home/grace/anaconda3/envs/aim/lib/python3.8/site-packages/sklearn/metrics/pairwise.py:1975: DataConversionWarning: Data was converted to boolean for metric jaccard\n",
      "  warnings.warn(msg, DataConversionWarning)\n",
      "/home/grace/anaconda3/envs/aim/lib/python3.8/site-packages/sklearn/metrics/pairwise.py:1975: DataConversionWarning: Data was converted to boolean for metric jaccard\n",
      "  warnings.warn(msg, DataConversionWarning)\n",
      "/home/grace/anaconda3/envs/aim/lib/python3.8/site-packages/sklearn/metrics/pairwise.py:1975: DataConversionWarning: Data was converted to boolean for metric jaccard\n",
      "  warnings.warn(msg, DataConversionWarning)\n",
      "/home/grace/anaconda3/envs/aim/lib/python3.8/site-packages/sklearn/metrics/pairwise.py:1975: DataConversionWarning: Data was converted to boolean for metric jaccard\n",
      "  warnings.warn(msg, DataConversionWarning)\n",
      "/home/grace/anaconda3/envs/aim/lib/python3.8/site-packages/sklearn/metrics/pairwise.py:1975: DataConversionWarning: Data was converted to boolean for metric jaccard\n",
      "  warnings.warn(msg, DataConversionWarning)\n",
      "/home/grace/anaconda3/envs/aim/lib/python3.8/site-packages/sklearn/metrics/pairwise.py:1975: DataConversionWarning: Data was converted to boolean for metric jaccard\n",
      "  warnings.warn(msg, DataConversionWarning)\n",
      "/home/grace/anaconda3/envs/aim/lib/python3.8/site-packages/sklearn/metrics/pairwise.py:1975: DataConversionWarning: Data was converted to boolean for metric jaccard\n",
      "  warnings.warn(msg, DataConversionWarning)\n",
      "/home/grace/anaconda3/envs/aim/lib/python3.8/site-packages/sklearn/metrics/pairwise.py:1975: DataConversionWarning: Data was converted to boolean for metric jaccard\n",
      "  warnings.warn(msg, DataConversionWarning)\n",
      "/home/grace/anaconda3/envs/aim/lib/python3.8/site-packages/sklearn/metrics/pairwise.py:1975: DataConversionWarning: Data was converted to boolean for metric jaccard\n",
      "  warnings.warn(msg, DataConversionWarning)\n",
      "/home/grace/anaconda3/envs/aim/lib/python3.8/site-packages/sklearn/metrics/pairwise.py:1975: DataConversionWarning: Data was converted to boolean for metric jaccard\n",
      "  warnings.warn(msg, DataConversionWarning)\n",
      "/home/grace/anaconda3/envs/aim/lib/python3.8/site-packages/sklearn/metrics/pairwise.py:1975: DataConversionWarning: Data was converted to boolean for metric jaccard\n",
      "  warnings.warn(msg, DataConversionWarning)\n",
      "/home/grace/anaconda3/envs/aim/lib/python3.8/site-packages/sklearn/metrics/pairwise.py:1975: DataConversionWarning: Data was converted to boolean for metric jaccard\n",
      "  warnings.warn(msg, DataConversionWarning)\n",
      "/home/grace/anaconda3/envs/aim/lib/python3.8/site-packages/sklearn/metrics/pairwise.py:1975: DataConversionWarning: Data was converted to boolean for metric jaccard\n",
      "  warnings.warn(msg, DataConversionWarning)\n",
      "/home/grace/anaconda3/envs/aim/lib/python3.8/site-packages/sklearn/metrics/pairwise.py:1975: DataConversionWarning: Data was converted to boolean for metric jaccard\n",
      "  warnings.warn(msg, DataConversionWarning)\n",
      "/home/grace/anaconda3/envs/aim/lib/python3.8/site-packages/sklearn/metrics/pairwise.py:1975: DataConversionWarning: Data was converted to boolean for metric jaccard\n",
      "  warnings.warn(msg, DataConversionWarning)\n",
      "/home/grace/anaconda3/envs/aim/lib/python3.8/site-packages/sklearn/metrics/pairwise.py:1975: DataConversionWarning: Data was converted to boolean for metric jaccard\n",
      "  warnings.warn(msg, DataConversionWarning)\n",
      "/home/grace/anaconda3/envs/aim/lib/python3.8/site-packages/sklearn/metrics/pairwise.py:1975: DataConversionWarning: Data was converted to boolean for metric jaccard\n",
      "  warnings.warn(msg, DataConversionWarning)\n",
      "/home/grace/anaconda3/envs/aim/lib/python3.8/site-packages/sklearn/metrics/pairwise.py:1975: DataConversionWarning: Data was converted to boolean for metric jaccard\n",
      "  warnings.warn(msg, DataConversionWarning)\n",
      "/home/grace/anaconda3/envs/aim/lib/python3.8/site-packages/sklearn/metrics/pairwise.py:1975: DataConversionWarning: Data was converted to boolean for metric jaccard\n",
      "  warnings.warn(msg, DataConversionWarning)\n",
      "/home/grace/anaconda3/envs/aim/lib/python3.8/site-packages/sklearn/metrics/pairwise.py:1975: DataConversionWarning: Data was converted to boolean for metric jaccard\n",
      "  warnings.warn(msg, DataConversionWarning)\n",
      "/home/grace/anaconda3/envs/aim/lib/python3.8/site-packages/sklearn/metrics/pairwise.py:1975: DataConversionWarning: Data was converted to boolean for metric jaccard\n",
      "  warnings.warn(msg, DataConversionWarning)\n",
      "/home/grace/anaconda3/envs/aim/lib/python3.8/site-packages/sklearn/metrics/pairwise.py:1975: DataConversionWarning: Data was converted to boolean for metric jaccard\n",
      "  warnings.warn(msg, DataConversionWarning)\n",
      "/home/grace/anaconda3/envs/aim/lib/python3.8/site-packages/sklearn/metrics/pairwise.py:1975: DataConversionWarning: Data was converted to boolean for metric jaccard\n",
      "  warnings.warn(msg, DataConversionWarning)\n",
      "/home/grace/anaconda3/envs/aim/lib/python3.8/site-packages/sklearn/metrics/pairwise.py:1975: DataConversionWarning: Data was converted to boolean for metric jaccard\n",
      "  warnings.warn(msg, DataConversionWarning)\n",
      "/home/grace/anaconda3/envs/aim/lib/python3.8/site-packages/sklearn/metrics/pairwise.py:1975: DataConversionWarning: Data was converted to boolean for metric jaccard\n",
      "  warnings.warn(msg, DataConversionWarning)\n",
      "/home/grace/anaconda3/envs/aim/lib/python3.8/site-packages/sklearn/metrics/pairwise.py:1975: DataConversionWarning: Data was converted to boolean for metric jaccard\n",
      "  warnings.warn(msg, DataConversionWarning)\n",
      "/home/grace/anaconda3/envs/aim/lib/python3.8/site-packages/sklearn/metrics/pairwise.py:1975: DataConversionWarning: Data was converted to boolean for metric jaccard\n",
      "  warnings.warn(msg, DataConversionWarning)\n",
      "/home/grace/anaconda3/envs/aim/lib/python3.8/site-packages/sklearn/metrics/pairwise.py:1975: DataConversionWarning: Data was converted to boolean for metric jaccard\n",
      "  warnings.warn(msg, DataConversionWarning)\n",
      "/home/grace/anaconda3/envs/aim/lib/python3.8/site-packages/sklearn/metrics/pairwise.py:1975: DataConversionWarning: Data was converted to boolean for metric jaccard\n",
      "  warnings.warn(msg, DataConversionWarning)\n",
      "/home/grace/anaconda3/envs/aim/lib/python3.8/site-packages/sklearn/metrics/pairwise.py:1975: DataConversionWarning: Data was converted to boolean for metric jaccard\n",
      "  warnings.warn(msg, DataConversionWarning)\n",
      "/home/grace/anaconda3/envs/aim/lib/python3.8/site-packages/sklearn/metrics/pairwise.py:1975: DataConversionWarning: Data was converted to boolean for metric jaccard\n",
      "  warnings.warn(msg, DataConversionWarning)\n",
      "/home/grace/anaconda3/envs/aim/lib/python3.8/site-packages/sklearn/metrics/pairwise.py:1975: DataConversionWarning: Data was converted to boolean for metric jaccard\n",
      "  warnings.warn(msg, DataConversionWarning)\n",
      "/home/grace/anaconda3/envs/aim/lib/python3.8/site-packages/sklearn/metrics/pairwise.py:1975: DataConversionWarning: Data was converted to boolean for metric jaccard\n",
      "  warnings.warn(msg, DataConversionWarning)\n",
      "/home/grace/anaconda3/envs/aim/lib/python3.8/site-packages/sklearn/metrics/pairwise.py:1975: DataConversionWarning: Data was converted to boolean for metric jaccard\n",
      "  warnings.warn(msg, DataConversionWarning)\n",
      "/home/grace/anaconda3/envs/aim/lib/python3.8/site-packages/sklearn/metrics/pairwise.py:1975: DataConversionWarning: Data was converted to boolean for metric jaccard\n",
      "  warnings.warn(msg, DataConversionWarning)\n",
      "/home/grace/anaconda3/envs/aim/lib/python3.8/site-packages/sklearn/metrics/pairwise.py:1975: DataConversionWarning: Data was converted to boolean for metric jaccard\n",
      "  warnings.warn(msg, DataConversionWarning)\n",
      "/home/grace/anaconda3/envs/aim/lib/python3.8/site-packages/sklearn/metrics/pairwise.py:1975: DataConversionWarning: Data was converted to boolean for metric jaccard\n",
      "  warnings.warn(msg, DataConversionWarning)\n",
      "/home/grace/anaconda3/envs/aim/lib/python3.8/site-packages/sklearn/metrics/pairwise.py:1975: DataConversionWarning: Data was converted to boolean for metric jaccard\n",
      "  warnings.warn(msg, DataConversionWarning)\n",
      "/home/grace/anaconda3/envs/aim/lib/python3.8/site-packages/sklearn/metrics/pairwise.py:1975: DataConversionWarning: Data was converted to boolean for metric jaccard\n",
      "  warnings.warn(msg, DataConversionWarning)\n",
      "/home/grace/anaconda3/envs/aim/lib/python3.8/site-packages/sklearn/metrics/pairwise.py:1975: DataConversionWarning: Data was converted to boolean for metric jaccard\n",
      "  warnings.warn(msg, DataConversionWarning)\n",
      "/home/grace/anaconda3/envs/aim/lib/python3.8/site-packages/sklearn/metrics/pairwise.py:1975: DataConversionWarning: Data was converted to boolean for metric jaccard\n",
      "  warnings.warn(msg, DataConversionWarning)\n",
      "/home/grace/anaconda3/envs/aim/lib/python3.8/site-packages/sklearn/metrics/pairwise.py:1975: DataConversionWarning: Data was converted to boolean for metric jaccard\n",
      "  warnings.warn(msg, DataConversionWarning)\n",
      "/home/grace/anaconda3/envs/aim/lib/python3.8/site-packages/sklearn/metrics/pairwise.py:1975: DataConversionWarning: Data was converted to boolean for metric jaccard\n",
      "  warnings.warn(msg, DataConversionWarning)\n",
      "/home/grace/anaconda3/envs/aim/lib/python3.8/site-packages/sklearn/metrics/pairwise.py:1975: DataConversionWarning: Data was converted to boolean for metric jaccard\n",
      "  warnings.warn(msg, DataConversionWarning)\n",
      "/home/grace/anaconda3/envs/aim/lib/python3.8/site-packages/sklearn/metrics/pairwise.py:1975: DataConversionWarning: Data was converted to boolean for metric jaccard\n",
      "  warnings.warn(msg, DataConversionWarning)\n",
      "/home/grace/anaconda3/envs/aim/lib/python3.8/site-packages/sklearn/metrics/pairwise.py:1975: DataConversionWarning: Data was converted to boolean for metric jaccard\n",
      "  warnings.warn(msg, DataConversionWarning)\n",
      "/home/grace/anaconda3/envs/aim/lib/python3.8/site-packages/sklearn/metrics/pairwise.py:1975: DataConversionWarning: Data was converted to boolean for metric jaccard\n",
      "  warnings.warn(msg, DataConversionWarning)\n",
      "/home/grace/anaconda3/envs/aim/lib/python3.8/site-packages/sklearn/metrics/pairwise.py:1975: DataConversionWarning: Data was converted to boolean for metric jaccard\n",
      "  warnings.warn(msg, DataConversionWarning)\n",
      "/home/grace/anaconda3/envs/aim/lib/python3.8/site-packages/sklearn/metrics/pairwise.py:1975: DataConversionWarning: Data was converted to boolean for metric jaccard\n",
      "  warnings.warn(msg, DataConversionWarning)\n",
      "/home/grace/anaconda3/envs/aim/lib/python3.8/site-packages/sklearn/metrics/pairwise.py:1975: DataConversionWarning: Data was converted to boolean for metric jaccard\n",
      "  warnings.warn(msg, DataConversionWarning)\n",
      "/home/grace/anaconda3/envs/aim/lib/python3.8/site-packages/sklearn/metrics/pairwise.py:1975: DataConversionWarning: Data was converted to boolean for metric jaccard\n",
      "  warnings.warn(msg, DataConversionWarning)\n",
      "/home/grace/anaconda3/envs/aim/lib/python3.8/site-packages/sklearn/metrics/pairwise.py:1975: DataConversionWarning: Data was converted to boolean for metric jaccard\n",
      "  warnings.warn(msg, DataConversionWarning)\n",
      "/home/grace/anaconda3/envs/aim/lib/python3.8/site-packages/sklearn/metrics/pairwise.py:1975: DataConversionWarning: Data was converted to boolean for metric jaccard\n",
      "  warnings.warn(msg, DataConversionWarning)\n",
      "/home/grace/anaconda3/envs/aim/lib/python3.8/site-packages/sklearn/metrics/pairwise.py:1975: DataConversionWarning: Data was converted to boolean for metric jaccard\n",
      "  warnings.warn(msg, DataConversionWarning)\n",
      "/home/grace/anaconda3/envs/aim/lib/python3.8/site-packages/sklearn/metrics/pairwise.py:1975: DataConversionWarning: Data was converted to boolean for metric jaccard\n",
      "  warnings.warn(msg, DataConversionWarning)\n",
      "/home/grace/anaconda3/envs/aim/lib/python3.8/site-packages/sklearn/metrics/pairwise.py:1975: DataConversionWarning: Data was converted to boolean for metric jaccard\n",
      "  warnings.warn(msg, DataConversionWarning)\n",
      "/home/grace/anaconda3/envs/aim/lib/python3.8/site-packages/sklearn/metrics/pairwise.py:1975: DataConversionWarning: Data was converted to boolean for metric jaccard\n",
      "  warnings.warn(msg, DataConversionWarning)\n",
      "/home/grace/anaconda3/envs/aim/lib/python3.8/site-packages/sklearn/metrics/pairwise.py:1975: DataConversionWarning: Data was converted to boolean for metric jaccard\n",
      "  warnings.warn(msg, DataConversionWarning)\n",
      "/home/grace/anaconda3/envs/aim/lib/python3.8/site-packages/sklearn/metrics/pairwise.py:1975: DataConversionWarning: Data was converted to boolean for metric jaccard\n",
      "  warnings.warn(msg, DataConversionWarning)\n",
      "/home/grace/anaconda3/envs/aim/lib/python3.8/site-packages/sklearn/metrics/pairwise.py:1975: DataConversionWarning: Data was converted to boolean for metric jaccard\n",
      "  warnings.warn(msg, DataConversionWarning)\n",
      "/home/grace/anaconda3/envs/aim/lib/python3.8/site-packages/sklearn/metrics/pairwise.py:1975: DataConversionWarning: Data was converted to boolean for metric jaccard\n",
      "  warnings.warn(msg, DataConversionWarning)\n",
      "/home/grace/anaconda3/envs/aim/lib/python3.8/site-packages/sklearn/metrics/pairwise.py:1975: DataConversionWarning: Data was converted to boolean for metric jaccard\n",
      "  warnings.warn(msg, DataConversionWarning)\n",
      "/home/grace/anaconda3/envs/aim/lib/python3.8/site-packages/sklearn/metrics/pairwise.py:1975: DataConversionWarning: Data was converted to boolean for metric jaccard\n",
      "  warnings.warn(msg, DataConversionWarning)\n",
      "/home/grace/anaconda3/envs/aim/lib/python3.8/site-packages/sklearn/metrics/pairwise.py:1975: DataConversionWarning: Data was converted to boolean for metric jaccard\n",
      "  warnings.warn(msg, DataConversionWarning)\n",
      "/home/grace/anaconda3/envs/aim/lib/python3.8/site-packages/sklearn/metrics/pairwise.py:1975: DataConversionWarning: Data was converted to boolean for metric jaccard\n",
      "  warnings.warn(msg, DataConversionWarning)\n",
      "/home/grace/anaconda3/envs/aim/lib/python3.8/site-packages/sklearn/metrics/pairwise.py:1975: DataConversionWarning: Data was converted to boolean for metric jaccard\n",
      "  warnings.warn(msg, DataConversionWarning)\n",
      "/home/grace/anaconda3/envs/aim/lib/python3.8/site-packages/sklearn/metrics/pairwise.py:1975: DataConversionWarning: Data was converted to boolean for metric jaccard\n",
      "  warnings.warn(msg, DataConversionWarning)\n",
      "/home/grace/anaconda3/envs/aim/lib/python3.8/site-packages/sklearn/metrics/pairwise.py:1975: DataConversionWarning: Data was converted to boolean for metric jaccard\n",
      "  warnings.warn(msg, DataConversionWarning)\n",
      "/home/grace/anaconda3/envs/aim/lib/python3.8/site-packages/sklearn/metrics/pairwise.py:1975: DataConversionWarning: Data was converted to boolean for metric jaccard\n",
      "  warnings.warn(msg, DataConversionWarning)\n",
      "/home/grace/anaconda3/envs/aim/lib/python3.8/site-packages/sklearn/metrics/pairwise.py:1975: DataConversionWarning: Data was converted to boolean for metric jaccard\n",
      "  warnings.warn(msg, DataConversionWarning)\n",
      "/home/grace/anaconda3/envs/aim/lib/python3.8/site-packages/sklearn/metrics/pairwise.py:1975: DataConversionWarning: Data was converted to boolean for metric jaccard\n",
      "  warnings.warn(msg, DataConversionWarning)\n",
      "/home/grace/anaconda3/envs/aim/lib/python3.8/site-packages/sklearn/metrics/pairwise.py:1975: DataConversionWarning: Data was converted to boolean for metric jaccard\n",
      "  warnings.warn(msg, DataConversionWarning)\n",
      "/home/grace/anaconda3/envs/aim/lib/python3.8/site-packages/sklearn/metrics/pairwise.py:1975: DataConversionWarning: Data was converted to boolean for metric jaccard\n",
      "  warnings.warn(msg, DataConversionWarning)\n",
      "/home/grace/anaconda3/envs/aim/lib/python3.8/site-packages/sklearn/metrics/pairwise.py:1975: DataConversionWarning: Data was converted to boolean for metric jaccard\n",
      "  warnings.warn(msg, DataConversionWarning)\n",
      "/home/grace/anaconda3/envs/aim/lib/python3.8/site-packages/sklearn/metrics/pairwise.py:1975: DataConversionWarning: Data was converted to boolean for metric jaccard\n",
      "  warnings.warn(msg, DataConversionWarning)\n",
      "/home/grace/anaconda3/envs/aim/lib/python3.8/site-packages/sklearn/metrics/pairwise.py:1975: DataConversionWarning: Data was converted to boolean for metric jaccard\n",
      "  warnings.warn(msg, DataConversionWarning)\n",
      "/home/grace/anaconda3/envs/aim/lib/python3.8/site-packages/sklearn/metrics/pairwise.py:1975: DataConversionWarning: Data was converted to boolean for metric jaccard\n",
      "  warnings.warn(msg, DataConversionWarning)\n",
      "/home/grace/anaconda3/envs/aim/lib/python3.8/site-packages/sklearn/metrics/pairwise.py:1975: DataConversionWarning: Data was converted to boolean for metric jaccard\n",
      "  warnings.warn(msg, DataConversionWarning)\n",
      "/home/grace/anaconda3/envs/aim/lib/python3.8/site-packages/sklearn/metrics/pairwise.py:1975: DataConversionWarning: Data was converted to boolean for metric jaccard\n",
      "  warnings.warn(msg, DataConversionWarning)\n",
      "/home/grace/anaconda3/envs/aim/lib/python3.8/site-packages/sklearn/metrics/pairwise.py:1975: DataConversionWarning: Data was converted to boolean for metric jaccard\n",
      "  warnings.warn(msg, DataConversionWarning)\n",
      "/home/grace/anaconda3/envs/aim/lib/python3.8/site-packages/sklearn/metrics/pairwise.py:1975: DataConversionWarning: Data was converted to boolean for metric jaccard\n",
      "  warnings.warn(msg, DataConversionWarning)\n",
      "/home/grace/anaconda3/envs/aim/lib/python3.8/site-packages/sklearn/metrics/pairwise.py:1975: DataConversionWarning: Data was converted to boolean for metric jaccard\n",
      "  warnings.warn(msg, DataConversionWarning)\n",
      "/home/grace/anaconda3/envs/aim/lib/python3.8/site-packages/sklearn/metrics/pairwise.py:1975: DataConversionWarning: Data was converted to boolean for metric jaccard\n",
      "  warnings.warn(msg, DataConversionWarning)\n",
      "/home/grace/anaconda3/envs/aim/lib/python3.8/site-packages/sklearn/metrics/pairwise.py:1975: DataConversionWarning: Data was converted to boolean for metric jaccard\n",
      "  warnings.warn(msg, DataConversionWarning)\n",
      "/home/grace/anaconda3/envs/aim/lib/python3.8/site-packages/sklearn/metrics/pairwise.py:1975: DataConversionWarning: Data was converted to boolean for metric jaccard\n",
      "  warnings.warn(msg, DataConversionWarning)\n",
      "/home/grace/anaconda3/envs/aim/lib/python3.8/site-packages/sklearn/metrics/pairwise.py:1975: DataConversionWarning: Data was converted to boolean for metric jaccard\n",
      "  warnings.warn(msg, DataConversionWarning)\n",
      "/home/grace/anaconda3/envs/aim/lib/python3.8/site-packages/sklearn/metrics/pairwise.py:1975: DataConversionWarning: Data was converted to boolean for metric jaccard\n",
      "  warnings.warn(msg, DataConversionWarning)\n",
      "/home/grace/anaconda3/envs/aim/lib/python3.8/site-packages/sklearn/metrics/pairwise.py:1975: DataConversionWarning: Data was converted to boolean for metric jaccard\n",
      "  warnings.warn(msg, DataConversionWarning)\n",
      "/home/grace/anaconda3/envs/aim/lib/python3.8/site-packages/sklearn/metrics/pairwise.py:1975: DataConversionWarning: Data was converted to boolean for metric jaccard\n",
      "  warnings.warn(msg, DataConversionWarning)\n",
      "/home/grace/anaconda3/envs/aim/lib/python3.8/site-packages/sklearn/metrics/pairwise.py:1975: DataConversionWarning: Data was converted to boolean for metric jaccard\n",
      "  warnings.warn(msg, DataConversionWarning)\n",
      "/home/grace/anaconda3/envs/aim/lib/python3.8/site-packages/sklearn/metrics/pairwise.py:1975: DataConversionWarning: Data was converted to boolean for metric jaccard\n",
      "  warnings.warn(msg, DataConversionWarning)\n",
      "/home/grace/anaconda3/envs/aim/lib/python3.8/site-packages/sklearn/metrics/pairwise.py:1975: DataConversionWarning: Data was converted to boolean for metric jaccard\n",
      "  warnings.warn(msg, DataConversionWarning)\n",
      "/home/grace/anaconda3/envs/aim/lib/python3.8/site-packages/sklearn/metrics/pairwise.py:1975: DataConversionWarning: Data was converted to boolean for metric jaccard\n",
      "  warnings.warn(msg, DataConversionWarning)\n",
      "/home/grace/anaconda3/envs/aim/lib/python3.8/site-packages/sklearn/metrics/pairwise.py:1975: DataConversionWarning: Data was converted to boolean for metric jaccard\n",
      "  warnings.warn(msg, DataConversionWarning)\n",
      "/home/grace/anaconda3/envs/aim/lib/python3.8/site-packages/sklearn/metrics/pairwise.py:1975: DataConversionWarning: Data was converted to boolean for metric jaccard\n",
      "  warnings.warn(msg, DataConversionWarning)\n",
      "/home/grace/anaconda3/envs/aim/lib/python3.8/site-packages/sklearn/metrics/pairwise.py:1975: DataConversionWarning: Data was converted to boolean for metric jaccard\n",
      "  warnings.warn(msg, DataConversionWarning)\n",
      "/home/grace/anaconda3/envs/aim/lib/python3.8/site-packages/sklearn/metrics/pairwise.py:1975: DataConversionWarning: Data was converted to boolean for metric jaccard\n",
      "  warnings.warn(msg, DataConversionWarning)\n",
      "/home/grace/anaconda3/envs/aim/lib/python3.8/site-packages/sklearn/metrics/pairwise.py:1975: DataConversionWarning: Data was converted to boolean for metric jaccard\n",
      "  warnings.warn(msg, DataConversionWarning)\n",
      "/home/grace/anaconda3/envs/aim/lib/python3.8/site-packages/sklearn/metrics/pairwise.py:1975: DataConversionWarning: Data was converted to boolean for metric jaccard\n",
      "  warnings.warn(msg, DataConversionWarning)\n",
      "/home/grace/anaconda3/envs/aim/lib/python3.8/site-packages/sklearn/metrics/pairwise.py:1975: DataConversionWarning: Data was converted to boolean for metric jaccard\n",
      "  warnings.warn(msg, DataConversionWarning)\n",
      "/home/grace/anaconda3/envs/aim/lib/python3.8/site-packages/sklearn/metrics/pairwise.py:1975: DataConversionWarning: Data was converted to boolean for metric jaccard\n",
      "  warnings.warn(msg, DataConversionWarning)\n",
      "/home/grace/anaconda3/envs/aim/lib/python3.8/site-packages/sklearn/metrics/pairwise.py:1975: DataConversionWarning: Data was converted to boolean for metric jaccard\n",
      "  warnings.warn(msg, DataConversionWarning)\n",
      "/home/grace/anaconda3/envs/aim/lib/python3.8/site-packages/sklearn/metrics/pairwise.py:1975: DataConversionWarning: Data was converted to boolean for metric jaccard\n",
      "  warnings.warn(msg, DataConversionWarning)\n",
      "/home/grace/anaconda3/envs/aim/lib/python3.8/site-packages/sklearn/metrics/pairwise.py:1975: DataConversionWarning: Data was converted to boolean for metric jaccard\n",
      "  warnings.warn(msg, DataConversionWarning)\n",
      "/home/grace/anaconda3/envs/aim/lib/python3.8/site-packages/sklearn/metrics/pairwise.py:1975: DataConversionWarning: Data was converted to boolean for metric jaccard\n",
      "  warnings.warn(msg, DataConversionWarning)\n",
      "/home/grace/anaconda3/envs/aim/lib/python3.8/site-packages/sklearn/metrics/pairwise.py:1975: DataConversionWarning: Data was converted to boolean for metric jaccard\n",
      "  warnings.warn(msg, DataConversionWarning)\n",
      "/home/grace/anaconda3/envs/aim/lib/python3.8/site-packages/sklearn/metrics/pairwise.py:1975: DataConversionWarning: Data was converted to boolean for metric jaccard\n",
      "  warnings.warn(msg, DataConversionWarning)\n",
      "/home/grace/anaconda3/envs/aim/lib/python3.8/site-packages/sklearn/metrics/pairwise.py:1975: DataConversionWarning: Data was converted to boolean for metric jaccard\n",
      "  warnings.warn(msg, DataConversionWarning)\n",
      "/home/grace/anaconda3/envs/aim/lib/python3.8/site-packages/sklearn/metrics/pairwise.py:1975: DataConversionWarning: Data was converted to boolean for metric jaccard\n",
      "  warnings.warn(msg, DataConversionWarning)\n",
      "/home/grace/anaconda3/envs/aim/lib/python3.8/site-packages/sklearn/metrics/pairwise.py:1975: DataConversionWarning: Data was converted to boolean for metric jaccard\n",
      "  warnings.warn(msg, DataConversionWarning)\n",
      "/home/grace/anaconda3/envs/aim/lib/python3.8/site-packages/sklearn/metrics/pairwise.py:1975: DataConversionWarning: Data was converted to boolean for metric jaccard\n",
      "  warnings.warn(msg, DataConversionWarning)\n",
      "/home/grace/anaconda3/envs/aim/lib/python3.8/site-packages/sklearn/metrics/pairwise.py:1975: DataConversionWarning: Data was converted to boolean for metric jaccard\n",
      "  warnings.warn(msg, DataConversionWarning)\n",
      "/home/grace/anaconda3/envs/aim/lib/python3.8/site-packages/sklearn/metrics/pairwise.py:1975: DataConversionWarning: Data was converted to boolean for metric jaccard\n",
      "  warnings.warn(msg, DataConversionWarning)\n",
      "/home/grace/anaconda3/envs/aim/lib/python3.8/site-packages/sklearn/metrics/pairwise.py:1975: DataConversionWarning: Data was converted to boolean for metric jaccard\n",
      "  warnings.warn(msg, DataConversionWarning)\n",
      "/home/grace/anaconda3/envs/aim/lib/python3.8/site-packages/sklearn/metrics/pairwise.py:1975: DataConversionWarning: Data was converted to boolean for metric jaccard\n",
      "  warnings.warn(msg, DataConversionWarning)\n",
      "/home/grace/anaconda3/envs/aim/lib/python3.8/site-packages/sklearn/metrics/pairwise.py:1975: DataConversionWarning: Data was converted to boolean for metric jaccard\n",
      "  warnings.warn(msg, DataConversionWarning)\n",
      "/home/grace/anaconda3/envs/aim/lib/python3.8/site-packages/sklearn/metrics/pairwise.py:1975: DataConversionWarning: Data was converted to boolean for metric jaccard\n",
      "  warnings.warn(msg, DataConversionWarning)\n",
      "/home/grace/anaconda3/envs/aim/lib/python3.8/site-packages/sklearn/metrics/pairwise.py:1975: DataConversionWarning: Data was converted to boolean for metric jaccard\n",
      "  warnings.warn(msg, DataConversionWarning)\n",
      "/home/grace/anaconda3/envs/aim/lib/python3.8/site-packages/sklearn/metrics/pairwise.py:1975: DataConversionWarning: Data was converted to boolean for metric jaccard\n",
      "  warnings.warn(msg, DataConversionWarning)\n",
      "/home/grace/anaconda3/envs/aim/lib/python3.8/site-packages/sklearn/metrics/pairwise.py:1975: DataConversionWarning: Data was converted to boolean for metric jaccard\n",
      "  warnings.warn(msg, DataConversionWarning)\n",
      "/home/grace/anaconda3/envs/aim/lib/python3.8/site-packages/sklearn/metrics/pairwise.py:1975: DataConversionWarning: Data was converted to boolean for metric jaccard\n",
      "  warnings.warn(msg, DataConversionWarning)\n",
      "/home/grace/anaconda3/envs/aim/lib/python3.8/site-packages/sklearn/metrics/pairwise.py:1975: DataConversionWarning: Data was converted to boolean for metric jaccard\n",
      "  warnings.warn(msg, DataConversionWarning)\n",
      "/home/grace/anaconda3/envs/aim/lib/python3.8/site-packages/sklearn/metrics/pairwise.py:1975: DataConversionWarning: Data was converted to boolean for metric jaccard\n",
      "  warnings.warn(msg, DataConversionWarning)\n",
      "/home/grace/anaconda3/envs/aim/lib/python3.8/site-packages/sklearn/metrics/pairwise.py:1975: DataConversionWarning: Data was converted to boolean for metric jaccard\n",
      "  warnings.warn(msg, DataConversionWarning)\n",
      "/home/grace/anaconda3/envs/aim/lib/python3.8/site-packages/sklearn/metrics/pairwise.py:1975: DataConversionWarning: Data was converted to boolean for metric jaccard\n",
      "  warnings.warn(msg, DataConversionWarning)\n",
      "/home/grace/anaconda3/envs/aim/lib/python3.8/site-packages/sklearn/metrics/pairwise.py:1975: DataConversionWarning: Data was converted to boolean for metric jaccard\n",
      "  warnings.warn(msg, DataConversionWarning)\n",
      "/home/grace/anaconda3/envs/aim/lib/python3.8/site-packages/sklearn/metrics/pairwise.py:1975: DataConversionWarning: Data was converted to boolean for metric jaccard\n",
      "  warnings.warn(msg, DataConversionWarning)\n",
      "/home/grace/anaconda3/envs/aim/lib/python3.8/site-packages/sklearn/metrics/pairwise.py:1975: DataConversionWarning: Data was converted to boolean for metric jaccard\n",
      "  warnings.warn(msg, DataConversionWarning)\n",
      "/home/grace/anaconda3/envs/aim/lib/python3.8/site-packages/sklearn/metrics/pairwise.py:1975: DataConversionWarning: Data was converted to boolean for metric jaccard\n",
      "  warnings.warn(msg, DataConversionWarning)\n",
      "/home/grace/anaconda3/envs/aim/lib/python3.8/site-packages/sklearn/metrics/pairwise.py:1975: DataConversionWarning: Data was converted to boolean for metric jaccard\n",
      "  warnings.warn(msg, DataConversionWarning)\n",
      "/home/grace/anaconda3/envs/aim/lib/python3.8/site-packages/sklearn/metrics/pairwise.py:1975: DataConversionWarning: Data was converted to boolean for metric jaccard\n",
      "  warnings.warn(msg, DataConversionWarning)\n",
      "/home/grace/anaconda3/envs/aim/lib/python3.8/site-packages/sklearn/metrics/pairwise.py:1975: DataConversionWarning: Data was converted to boolean for metric jaccard\n",
      "  warnings.warn(msg, DataConversionWarning)\n",
      "/home/grace/anaconda3/envs/aim/lib/python3.8/site-packages/sklearn/metrics/pairwise.py:1975: DataConversionWarning: Data was converted to boolean for metric jaccard\n",
      "  warnings.warn(msg, DataConversionWarning)\n",
      "/home/grace/anaconda3/envs/aim/lib/python3.8/site-packages/sklearn/metrics/pairwise.py:1975: DataConversionWarning: Data was converted to boolean for metric jaccard\n",
      "  warnings.warn(msg, DataConversionWarning)\n",
      "/home/grace/anaconda3/envs/aim/lib/python3.8/site-packages/sklearn/metrics/pairwise.py:1975: DataConversionWarning: Data was converted to boolean for metric jaccard\n",
      "  warnings.warn(msg, DataConversionWarning)\n",
      "/home/grace/anaconda3/envs/aim/lib/python3.8/site-packages/sklearn/metrics/pairwise.py:1975: DataConversionWarning: Data was converted to boolean for metric jaccard\n",
      "  warnings.warn(msg, DataConversionWarning)\n",
      "/home/grace/anaconda3/envs/aim/lib/python3.8/site-packages/sklearn/metrics/pairwise.py:1975: DataConversionWarning: Data was converted to boolean for metric jaccard\n",
      "  warnings.warn(msg, DataConversionWarning)\n",
      "/home/grace/anaconda3/envs/aim/lib/python3.8/site-packages/sklearn/metrics/pairwise.py:1975: DataConversionWarning: Data was converted to boolean for metric jaccard\n",
      "  warnings.warn(msg, DataConversionWarning)\n",
      "/home/grace/anaconda3/envs/aim/lib/python3.8/site-packages/sklearn/metrics/pairwise.py:1975: DataConversionWarning: Data was converted to boolean for metric jaccard\n",
      "  warnings.warn(msg, DataConversionWarning)\n",
      "/home/grace/anaconda3/envs/aim/lib/python3.8/site-packages/sklearn/metrics/pairwise.py:1975: DataConversionWarning: Data was converted to boolean for metric jaccard\n",
      "  warnings.warn(msg, DataConversionWarning)\n",
      "/home/grace/anaconda3/envs/aim/lib/python3.8/site-packages/sklearn/metrics/pairwise.py:1975: DataConversionWarning: Data was converted to boolean for metric jaccard\n",
      "  warnings.warn(msg, DataConversionWarning)\n",
      "/home/grace/anaconda3/envs/aim/lib/python3.8/site-packages/sklearn/metrics/pairwise.py:1975: DataConversionWarning: Data was converted to boolean for metric jaccard\n",
      "  warnings.warn(msg, DataConversionWarning)\n",
      "/home/grace/anaconda3/envs/aim/lib/python3.8/site-packages/sklearn/metrics/pairwise.py:1975: DataConversionWarning: Data was converted to boolean for metric jaccard\n",
      "  warnings.warn(msg, DataConversionWarning)\n",
      "/home/grace/anaconda3/envs/aim/lib/python3.8/site-packages/sklearn/metrics/pairwise.py:1975: DataConversionWarning: Data was converted to boolean for metric jaccard\n",
      "  warnings.warn(msg, DataConversionWarning)\n",
      "/home/grace/anaconda3/envs/aim/lib/python3.8/site-packages/sklearn/metrics/pairwise.py:1975: DataConversionWarning: Data was converted to boolean for metric jaccard\n",
      "  warnings.warn(msg, DataConversionWarning)\n",
      "/home/grace/anaconda3/envs/aim/lib/python3.8/site-packages/sklearn/metrics/pairwise.py:1975: DataConversionWarning: Data was converted to boolean for metric jaccard\n",
      "  warnings.warn(msg, DataConversionWarning)\n",
      "/home/grace/anaconda3/envs/aim/lib/python3.8/site-packages/sklearn/metrics/pairwise.py:1975: DataConversionWarning: Data was converted to boolean for metric jaccard\n",
      "  warnings.warn(msg, DataConversionWarning)\n",
      "/home/grace/anaconda3/envs/aim/lib/python3.8/site-packages/sklearn/metrics/pairwise.py:1975: DataConversionWarning: Data was converted to boolean for metric jaccard\n",
      "  warnings.warn(msg, DataConversionWarning)\n",
      "/home/grace/anaconda3/envs/aim/lib/python3.8/site-packages/sklearn/metrics/pairwise.py:1975: DataConversionWarning: Data was converted to boolean for metric jaccard\n",
      "  warnings.warn(msg, DataConversionWarning)\n",
      "/home/grace/anaconda3/envs/aim/lib/python3.8/site-packages/sklearn/metrics/pairwise.py:1975: DataConversionWarning: Data was converted to boolean for metric jaccard\n",
      "  warnings.warn(msg, DataConversionWarning)\n",
      "/home/grace/anaconda3/envs/aim/lib/python3.8/site-packages/sklearn/metrics/pairwise.py:1975: DataConversionWarning: Data was converted to boolean for metric jaccard\n",
      "  warnings.warn(msg, DataConversionWarning)\n",
      "/home/grace/anaconda3/envs/aim/lib/python3.8/site-packages/sklearn/metrics/pairwise.py:1975: DataConversionWarning: Data was converted to boolean for metric jaccard\n",
      "  warnings.warn(msg, DataConversionWarning)\n",
      "/home/grace/anaconda3/envs/aim/lib/python3.8/site-packages/sklearn/metrics/pairwise.py:1975: DataConversionWarning: Data was converted to boolean for metric jaccard\n",
      "  warnings.warn(msg, DataConversionWarning)\n",
      "/home/grace/anaconda3/envs/aim/lib/python3.8/site-packages/sklearn/metrics/pairwise.py:1975: DataConversionWarning: Data was converted to boolean for metric jaccard\n",
      "  warnings.warn(msg, DataConversionWarning)\n",
      "/home/grace/anaconda3/envs/aim/lib/python3.8/site-packages/sklearn/metrics/pairwise.py:1975: DataConversionWarning: Data was converted to boolean for metric jaccard\n",
      "  warnings.warn(msg, DataConversionWarning)\n",
      "/home/grace/anaconda3/envs/aim/lib/python3.8/site-packages/sklearn/metrics/pairwise.py:1975: DataConversionWarning: Data was converted to boolean for metric jaccard\n",
      "  warnings.warn(msg, DataConversionWarning)\n",
      "/home/grace/anaconda3/envs/aim/lib/python3.8/site-packages/sklearn/metrics/pairwise.py:1975: DataConversionWarning: Data was converted to boolean for metric jaccard\n",
      "  warnings.warn(msg, DataConversionWarning)\n",
      "/home/grace/anaconda3/envs/aim/lib/python3.8/site-packages/sklearn/metrics/pairwise.py:1975: DataConversionWarning: Data was converted to boolean for metric jaccard\n",
      "  warnings.warn(msg, DataConversionWarning)\n",
      "/home/grace/anaconda3/envs/aim/lib/python3.8/site-packages/sklearn/metrics/pairwise.py:1975: DataConversionWarning: Data was converted to boolean for metric jaccard\n",
      "  warnings.warn(msg, DataConversionWarning)\n",
      "/home/grace/anaconda3/envs/aim/lib/python3.8/site-packages/sklearn/metrics/pairwise.py:1975: DataConversionWarning: Data was converted to boolean for metric jaccard\n",
      "  warnings.warn(msg, DataConversionWarning)\n",
      "/home/grace/anaconda3/envs/aim/lib/python3.8/site-packages/sklearn/metrics/pairwise.py:1975: DataConversionWarning: Data was converted to boolean for metric jaccard\n",
      "  warnings.warn(msg, DataConversionWarning)\n",
      "/home/grace/anaconda3/envs/aim/lib/python3.8/site-packages/sklearn/metrics/pairwise.py:1975: DataConversionWarning: Data was converted to boolean for metric jaccard\n",
      "  warnings.warn(msg, DataConversionWarning)\n",
      "/home/grace/anaconda3/envs/aim/lib/python3.8/site-packages/sklearn/metrics/pairwise.py:1975: DataConversionWarning: Data was converted to boolean for metric jaccard\n",
      "  warnings.warn(msg, DataConversionWarning)\n",
      "/home/grace/anaconda3/envs/aim/lib/python3.8/site-packages/sklearn/metrics/pairwise.py:1975: DataConversionWarning: Data was converted to boolean for metric jaccard\n",
      "  warnings.warn(msg, DataConversionWarning)\n",
      "/home/grace/anaconda3/envs/aim/lib/python3.8/site-packages/sklearn/metrics/pairwise.py:1975: DataConversionWarning: Data was converted to boolean for metric jaccard\n",
      "  warnings.warn(msg, DataConversionWarning)\n",
      "/home/grace/anaconda3/envs/aim/lib/python3.8/site-packages/sklearn/metrics/pairwise.py:1975: DataConversionWarning: Data was converted to boolean for metric jaccard\n",
      "  warnings.warn(msg, DataConversionWarning)\n",
      "/home/grace/anaconda3/envs/aim/lib/python3.8/site-packages/sklearn/metrics/pairwise.py:1975: DataConversionWarning: Data was converted to boolean for metric jaccard\n",
      "  warnings.warn(msg, DataConversionWarning)\n",
      "/home/grace/anaconda3/envs/aim/lib/python3.8/site-packages/sklearn/metrics/pairwise.py:1975: DataConversionWarning: Data was converted to boolean for metric jaccard\n",
      "  warnings.warn(msg, DataConversionWarning)\n",
      "/home/grace/anaconda3/envs/aim/lib/python3.8/site-packages/sklearn/metrics/pairwise.py:1975: DataConversionWarning: Data was converted to boolean for metric jaccard\n",
      "  warnings.warn(msg, DataConversionWarning)\n",
      "/home/grace/anaconda3/envs/aim/lib/python3.8/site-packages/sklearn/metrics/pairwise.py:1975: DataConversionWarning: Data was converted to boolean for metric jaccard\n",
      "  warnings.warn(msg, DataConversionWarning)\n",
      "/home/grace/anaconda3/envs/aim/lib/python3.8/site-packages/sklearn/metrics/pairwise.py:1975: DataConversionWarning: Data was converted to boolean for metric jaccard\n",
      "  warnings.warn(msg, DataConversionWarning)\n",
      "/home/grace/anaconda3/envs/aim/lib/python3.8/site-packages/sklearn/metrics/pairwise.py:1975: DataConversionWarning: Data was converted to boolean for metric jaccard\n",
      "  warnings.warn(msg, DataConversionWarning)\n",
      "/home/grace/anaconda3/envs/aim/lib/python3.8/site-packages/sklearn/metrics/pairwise.py:1975: DataConversionWarning: Data was converted to boolean for metric jaccard\n",
      "  warnings.warn(msg, DataConversionWarning)\n",
      "/home/grace/anaconda3/envs/aim/lib/python3.8/site-packages/sklearn/metrics/pairwise.py:1975: DataConversionWarning: Data was converted to boolean for metric jaccard\n",
      "  warnings.warn(msg, DataConversionWarning)\n",
      "/home/grace/anaconda3/envs/aim/lib/python3.8/site-packages/sklearn/metrics/pairwise.py:1975: DataConversionWarning: Data was converted to boolean for metric jaccard\n",
      "  warnings.warn(msg, DataConversionWarning)\n",
      "/home/grace/anaconda3/envs/aim/lib/python3.8/site-packages/sklearn/metrics/pairwise.py:1975: DataConversionWarning: Data was converted to boolean for metric jaccard\n",
      "  warnings.warn(msg, DataConversionWarning)\n",
      "/home/grace/anaconda3/envs/aim/lib/python3.8/site-packages/sklearn/metrics/pairwise.py:1975: DataConversionWarning: Data was converted to boolean for metric jaccard\n",
      "  warnings.warn(msg, DataConversionWarning)\n",
      "/home/grace/anaconda3/envs/aim/lib/python3.8/site-packages/sklearn/metrics/pairwise.py:1975: DataConversionWarning: Data was converted to boolean for metric jaccard\n",
      "  warnings.warn(msg, DataConversionWarning)\n",
      "/home/grace/anaconda3/envs/aim/lib/python3.8/site-packages/sklearn/metrics/pairwise.py:1975: DataConversionWarning: Data was converted to boolean for metric jaccard\n",
      "  warnings.warn(msg, DataConversionWarning)\n",
      "/home/grace/anaconda3/envs/aim/lib/python3.8/site-packages/sklearn/metrics/pairwise.py:1975: DataConversionWarning: Data was converted to boolean for metric jaccard\n",
      "  warnings.warn(msg, DataConversionWarning)\n",
      "/home/grace/anaconda3/envs/aim/lib/python3.8/site-packages/sklearn/metrics/pairwise.py:1975: DataConversionWarning: Data was converted to boolean for metric jaccard\n",
      "  warnings.warn(msg, DataConversionWarning)\n",
      "/home/grace/anaconda3/envs/aim/lib/python3.8/site-packages/sklearn/metrics/pairwise.py:1975: DataConversionWarning: Data was converted to boolean for metric jaccard\n",
      "  warnings.warn(msg, DataConversionWarning)\n",
      "/home/grace/anaconda3/envs/aim/lib/python3.8/site-packages/sklearn/metrics/pairwise.py:1975: DataConversionWarning: Data was converted to boolean for metric jaccard\n",
      "  warnings.warn(msg, DataConversionWarning)\n",
      "/home/grace/anaconda3/envs/aim/lib/python3.8/site-packages/sklearn/metrics/pairwise.py:1975: DataConversionWarning: Data was converted to boolean for metric jaccard\n",
      "  warnings.warn(msg, DataConversionWarning)\n",
      "/home/grace/anaconda3/envs/aim/lib/python3.8/site-packages/sklearn/metrics/pairwise.py:1975: DataConversionWarning: Data was converted to boolean for metric jaccard\n",
      "  warnings.warn(msg, DataConversionWarning)\n",
      "/home/grace/anaconda3/envs/aim/lib/python3.8/site-packages/sklearn/metrics/pairwise.py:1975: DataConversionWarning: Data was converted to boolean for metric jaccard\n",
      "  warnings.warn(msg, DataConversionWarning)\n",
      "/home/grace/anaconda3/envs/aim/lib/python3.8/site-packages/sklearn/metrics/pairwise.py:1975: DataConversionWarning: Data was converted to boolean for metric jaccard\n",
      "  warnings.warn(msg, DataConversionWarning)\n",
      "/home/grace/anaconda3/envs/aim/lib/python3.8/site-packages/sklearn/metrics/pairwise.py:1975: DataConversionWarning: Data was converted to boolean for metric jaccard\n",
      "  warnings.warn(msg, DataConversionWarning)\n",
      "/home/grace/anaconda3/envs/aim/lib/python3.8/site-packages/sklearn/metrics/pairwise.py:1975: DataConversionWarning: Data was converted to boolean for metric jaccard\n",
      "  warnings.warn(msg, DataConversionWarning)\n",
      "/home/grace/anaconda3/envs/aim/lib/python3.8/site-packages/sklearn/metrics/pairwise.py:1975: DataConversionWarning: Data was converted to boolean for metric jaccard\n",
      "  warnings.warn(msg, DataConversionWarning)\n",
      "/home/grace/anaconda3/envs/aim/lib/python3.8/site-packages/sklearn/metrics/pairwise.py:1975: DataConversionWarning: Data was converted to boolean for metric jaccard\n",
      "  warnings.warn(msg, DataConversionWarning)\n",
      "/home/grace/anaconda3/envs/aim/lib/python3.8/site-packages/sklearn/metrics/pairwise.py:1975: DataConversionWarning: Data was converted to boolean for metric jaccard\n",
      "  warnings.warn(msg, DataConversionWarning)\n",
      "/home/grace/anaconda3/envs/aim/lib/python3.8/site-packages/sklearn/metrics/pairwise.py:1975: DataConversionWarning: Data was converted to boolean for metric jaccard\n",
      "  warnings.warn(msg, DataConversionWarning)\n",
      "/home/grace/anaconda3/envs/aim/lib/python3.8/site-packages/sklearn/metrics/pairwise.py:1975: DataConversionWarning: Data was converted to boolean for metric jaccard\n",
      "  warnings.warn(msg, DataConversionWarning)\n",
      "/home/grace/anaconda3/envs/aim/lib/python3.8/site-packages/sklearn/metrics/pairwise.py:1975: DataConversionWarning: Data was converted to boolean for metric jaccard\n",
      "  warnings.warn(msg, DataConversionWarning)\n",
      "/home/grace/anaconda3/envs/aim/lib/python3.8/site-packages/sklearn/metrics/pairwise.py:1975: DataConversionWarning: Data was converted to boolean for metric jaccard\n",
      "  warnings.warn(msg, DataConversionWarning)\n",
      "/home/grace/anaconda3/envs/aim/lib/python3.8/site-packages/sklearn/metrics/pairwise.py:1975: DataConversionWarning: Data was converted to boolean for metric jaccard\n",
      "  warnings.warn(msg, DataConversionWarning)\n",
      "/home/grace/anaconda3/envs/aim/lib/python3.8/site-packages/sklearn/metrics/pairwise.py:1975: DataConversionWarning: Data was converted to boolean for metric jaccard\n",
      "  warnings.warn(msg, DataConversionWarning)\n",
      "/home/grace/anaconda3/envs/aim/lib/python3.8/site-packages/sklearn/metrics/pairwise.py:1975: DataConversionWarning: Data was converted to boolean for metric jaccard\n",
      "  warnings.warn(msg, DataConversionWarning)\n",
      "/home/grace/anaconda3/envs/aim/lib/python3.8/site-packages/sklearn/metrics/pairwise.py:1975: DataConversionWarning: Data was converted to boolean for metric jaccard\n",
      "  warnings.warn(msg, DataConversionWarning)\n",
      "/home/grace/anaconda3/envs/aim/lib/python3.8/site-packages/sklearn/metrics/pairwise.py:1975: DataConversionWarning: Data was converted to boolean for metric jaccard\n",
      "  warnings.warn(msg, DataConversionWarning)\n",
      "/home/grace/anaconda3/envs/aim/lib/python3.8/site-packages/sklearn/metrics/pairwise.py:1975: DataConversionWarning: Data was converted to boolean for metric jaccard\n",
      "  warnings.warn(msg, DataConversionWarning)\n",
      "/home/grace/anaconda3/envs/aim/lib/python3.8/site-packages/sklearn/metrics/pairwise.py:1975: DataConversionWarning: Data was converted to boolean for metric jaccard\n",
      "  warnings.warn(msg, DataConversionWarning)\n",
      "/home/grace/anaconda3/envs/aim/lib/python3.8/site-packages/sklearn/metrics/pairwise.py:1975: DataConversionWarning: Data was converted to boolean for metric jaccard\n",
      "  warnings.warn(msg, DataConversionWarning)\n",
      "/home/grace/anaconda3/envs/aim/lib/python3.8/site-packages/sklearn/metrics/pairwise.py:1975: DataConversionWarning: Data was converted to boolean for metric jaccard\n",
      "  warnings.warn(msg, DataConversionWarning)\n",
      "/home/grace/anaconda3/envs/aim/lib/python3.8/site-packages/sklearn/metrics/pairwise.py:1975: DataConversionWarning: Data was converted to boolean for metric jaccard\n",
      "  warnings.warn(msg, DataConversionWarning)\n",
      "/home/grace/anaconda3/envs/aim/lib/python3.8/site-packages/sklearn/metrics/pairwise.py:1975: DataConversionWarning: Data was converted to boolean for metric jaccard\n",
      "  warnings.warn(msg, DataConversionWarning)\n",
      "/home/grace/anaconda3/envs/aim/lib/python3.8/site-packages/sklearn/metrics/pairwise.py:1975: DataConversionWarning: Data was converted to boolean for metric jaccard\n",
      "  warnings.warn(msg, DataConversionWarning)\n",
      "/home/grace/anaconda3/envs/aim/lib/python3.8/site-packages/sklearn/metrics/pairwise.py:1975: DataConversionWarning: Data was converted to boolean for metric jaccard\n",
      "  warnings.warn(msg, DataConversionWarning)\n",
      "/home/grace/anaconda3/envs/aim/lib/python3.8/site-packages/sklearn/metrics/pairwise.py:1975: DataConversionWarning: Data was converted to boolean for metric jaccard\n",
      "  warnings.warn(msg, DataConversionWarning)\n",
      "/home/grace/anaconda3/envs/aim/lib/python3.8/site-packages/sklearn/metrics/pairwise.py:1975: DataConversionWarning: Data was converted to boolean for metric jaccard\n",
      "  warnings.warn(msg, DataConversionWarning)\n",
      "/home/grace/anaconda3/envs/aim/lib/python3.8/site-packages/sklearn/metrics/pairwise.py:1975: DataConversionWarning: Data was converted to boolean for metric jaccard\n",
      "  warnings.warn(msg, DataConversionWarning)\n",
      "/home/grace/anaconda3/envs/aim/lib/python3.8/site-packages/sklearn/metrics/pairwise.py:1975: DataConversionWarning: Data was converted to boolean for metric jaccard\n",
      "  warnings.warn(msg, DataConversionWarning)\n",
      "/home/grace/anaconda3/envs/aim/lib/python3.8/site-packages/sklearn/metrics/pairwise.py:1975: DataConversionWarning: Data was converted to boolean for metric jaccard\n",
      "  warnings.warn(msg, DataConversionWarning)\n",
      "/home/grace/anaconda3/envs/aim/lib/python3.8/site-packages/sklearn/metrics/pairwise.py:1975: DataConversionWarning: Data was converted to boolean for metric jaccard\n",
      "  warnings.warn(msg, DataConversionWarning)\n",
      "/home/grace/anaconda3/envs/aim/lib/python3.8/site-packages/sklearn/metrics/pairwise.py:1975: DataConversionWarning: Data was converted to boolean for metric jaccard\n",
      "  warnings.warn(msg, DataConversionWarning)\n",
      "/home/grace/anaconda3/envs/aim/lib/python3.8/site-packages/sklearn/metrics/pairwise.py:1975: DataConversionWarning: Data was converted to boolean for metric jaccard\n",
      "  warnings.warn(msg, DataConversionWarning)\n",
      "/home/grace/anaconda3/envs/aim/lib/python3.8/site-packages/sklearn/metrics/pairwise.py:1975: DataConversionWarning: Data was converted to boolean for metric jaccard\n",
      "  warnings.warn(msg, DataConversionWarning)\n",
      "/home/grace/anaconda3/envs/aim/lib/python3.8/site-packages/sklearn/metrics/pairwise.py:1975: DataConversionWarning: Data was converted to boolean for metric jaccard\n",
      "  warnings.warn(msg, DataConversionWarning)\n",
      "/home/grace/anaconda3/envs/aim/lib/python3.8/site-packages/sklearn/metrics/pairwise.py:1975: DataConversionWarning: Data was converted to boolean for metric jaccard\n",
      "  warnings.warn(msg, DataConversionWarning)\n",
      "/home/grace/anaconda3/envs/aim/lib/python3.8/site-packages/sklearn/metrics/pairwise.py:1975: DataConversionWarning: Data was converted to boolean for metric jaccard\n",
      "  warnings.warn(msg, DataConversionWarning)\n",
      "/home/grace/anaconda3/envs/aim/lib/python3.8/site-packages/sklearn/metrics/pairwise.py:1975: DataConversionWarning: Data was converted to boolean for metric jaccard\n",
      "  warnings.warn(msg, DataConversionWarning)\n",
      "/home/grace/anaconda3/envs/aim/lib/python3.8/site-packages/sklearn/metrics/pairwise.py:1975: DataConversionWarning: Data was converted to boolean for metric jaccard\n",
      "  warnings.warn(msg, DataConversionWarning)\n",
      "/home/grace/anaconda3/envs/aim/lib/python3.8/site-packages/sklearn/metrics/pairwise.py:1975: DataConversionWarning: Data was converted to boolean for metric jaccard\n",
      "  warnings.warn(msg, DataConversionWarning)\n",
      "/home/grace/anaconda3/envs/aim/lib/python3.8/site-packages/sklearn/metrics/pairwise.py:1975: DataConversionWarning: Data was converted to boolean for metric jaccard\n",
      "  warnings.warn(msg, DataConversionWarning)\n",
      "/home/grace/anaconda3/envs/aim/lib/python3.8/site-packages/sklearn/metrics/pairwise.py:1975: DataConversionWarning: Data was converted to boolean for metric jaccard\n",
      "  warnings.warn(msg, DataConversionWarning)\n",
      "/home/grace/anaconda3/envs/aim/lib/python3.8/site-packages/sklearn/metrics/pairwise.py:1975: DataConversionWarning: Data was converted to boolean for metric jaccard\n",
      "  warnings.warn(msg, DataConversionWarning)\n",
      "/home/grace/anaconda3/envs/aim/lib/python3.8/site-packages/sklearn/metrics/pairwise.py:1975: DataConversionWarning: Data was converted to boolean for metric jaccard\n",
      "  warnings.warn(msg, DataConversionWarning)\n",
      "/home/grace/anaconda3/envs/aim/lib/python3.8/site-packages/sklearn/metrics/pairwise.py:1975: DataConversionWarning: Data was converted to boolean for metric jaccard\n",
      "  warnings.warn(msg, DataConversionWarning)\n",
      "/home/grace/anaconda3/envs/aim/lib/python3.8/site-packages/sklearn/metrics/pairwise.py:1975: DataConversionWarning: Data was converted to boolean for metric jaccard\n",
      "  warnings.warn(msg, DataConversionWarning)\n",
      "/home/grace/anaconda3/envs/aim/lib/python3.8/site-packages/sklearn/metrics/pairwise.py:1975: DataConversionWarning: Data was converted to boolean for metric jaccard\n",
      "  warnings.warn(msg, DataConversionWarning)\n",
      "/home/grace/anaconda3/envs/aim/lib/python3.8/site-packages/sklearn/metrics/pairwise.py:1975: DataConversionWarning: Data was converted to boolean for metric jaccard\n",
      "  warnings.warn(msg, DataConversionWarning)\n",
      "/home/grace/anaconda3/envs/aim/lib/python3.8/site-packages/sklearn/metrics/pairwise.py:1975: DataConversionWarning: Data was converted to boolean for metric jaccard\n",
      "  warnings.warn(msg, DataConversionWarning)\n",
      "/home/grace/anaconda3/envs/aim/lib/python3.8/site-packages/sklearn/metrics/pairwise.py:1975: DataConversionWarning: Data was converted to boolean for metric jaccard\n",
      "  warnings.warn(msg, DataConversionWarning)\n",
      "/home/grace/anaconda3/envs/aim/lib/python3.8/site-packages/sklearn/metrics/pairwise.py:1975: DataConversionWarning: Data was converted to boolean for metric jaccard\n",
      "  warnings.warn(msg, DataConversionWarning)\n",
      "/home/grace/anaconda3/envs/aim/lib/python3.8/site-packages/sklearn/metrics/pairwise.py:1975: DataConversionWarning: Data was converted to boolean for metric jaccard\n",
      "  warnings.warn(msg, DataConversionWarning)\n",
      "/home/grace/anaconda3/envs/aim/lib/python3.8/site-packages/sklearn/metrics/pairwise.py:1975: DataConversionWarning: Data was converted to boolean for metric jaccard\n",
      "  warnings.warn(msg, DataConversionWarning)\n",
      "/home/grace/anaconda3/envs/aim/lib/python3.8/site-packages/sklearn/metrics/pairwise.py:1975: DataConversionWarning: Data was converted to boolean for metric jaccard\n",
      "  warnings.warn(msg, DataConversionWarning)\n",
      "/home/grace/anaconda3/envs/aim/lib/python3.8/site-packages/sklearn/metrics/pairwise.py:1975: DataConversionWarning: Data was converted to boolean for metric jaccard\n",
      "  warnings.warn(msg, DataConversionWarning)\n",
      "/home/grace/anaconda3/envs/aim/lib/python3.8/site-packages/sklearn/metrics/pairwise.py:1975: DataConversionWarning: Data was converted to boolean for metric jaccard\n",
      "  warnings.warn(msg, DataConversionWarning)\n",
      "/home/grace/anaconda3/envs/aim/lib/python3.8/site-packages/sklearn/metrics/pairwise.py:1975: DataConversionWarning: Data was converted to boolean for metric jaccard\n",
      "  warnings.warn(msg, DataConversionWarning)\n",
      "/home/grace/anaconda3/envs/aim/lib/python3.8/site-packages/sklearn/metrics/pairwise.py:1975: DataConversionWarning: Data was converted to boolean for metric jaccard\n",
      "  warnings.warn(msg, DataConversionWarning)\n",
      "/home/grace/anaconda3/envs/aim/lib/python3.8/site-packages/sklearn/metrics/pairwise.py:1975: DataConversionWarning: Data was converted to boolean for metric jaccard\n",
      "  warnings.warn(msg, DataConversionWarning)\n",
      "/home/grace/anaconda3/envs/aim/lib/python3.8/site-packages/sklearn/metrics/pairwise.py:1975: DataConversionWarning: Data was converted to boolean for metric jaccard\n",
      "  warnings.warn(msg, DataConversionWarning)\n",
      "/home/grace/anaconda3/envs/aim/lib/python3.8/site-packages/sklearn/metrics/pairwise.py:1975: DataConversionWarning: Data was converted to boolean for metric jaccard\n",
      "  warnings.warn(msg, DataConversionWarning)\n",
      "/home/grace/anaconda3/envs/aim/lib/python3.8/site-packages/sklearn/metrics/pairwise.py:1975: DataConversionWarning: Data was converted to boolean for metric jaccard\n",
      "  warnings.warn(msg, DataConversionWarning)\n",
      "/home/grace/anaconda3/envs/aim/lib/python3.8/site-packages/sklearn/metrics/pairwise.py:1975: DataConversionWarning: Data was converted to boolean for metric jaccard\n",
      "  warnings.warn(msg, DataConversionWarning)\n",
      "/home/grace/anaconda3/envs/aim/lib/python3.8/site-packages/sklearn/metrics/pairwise.py:1975: DataConversionWarning: Data was converted to boolean for metric jaccard\n",
      "  warnings.warn(msg, DataConversionWarning)\n",
      "/home/grace/anaconda3/envs/aim/lib/python3.8/site-packages/sklearn/metrics/pairwise.py:1975: DataConversionWarning: Data was converted to boolean for metric jaccard\n",
      "  warnings.warn(msg, DataConversionWarning)\n",
      "/home/grace/anaconda3/envs/aim/lib/python3.8/site-packages/sklearn/metrics/pairwise.py:1975: DataConversionWarning: Data was converted to boolean for metric jaccard\n",
      "  warnings.warn(msg, DataConversionWarning)\n",
      "/home/grace/anaconda3/envs/aim/lib/python3.8/site-packages/sklearn/metrics/pairwise.py:1975: DataConversionWarning: Data was converted to boolean for metric jaccard\n",
      "  warnings.warn(msg, DataConversionWarning)\n",
      "/home/grace/anaconda3/envs/aim/lib/python3.8/site-packages/sklearn/metrics/pairwise.py:1975: DataConversionWarning: Data was converted to boolean for metric jaccard\n",
      "  warnings.warn(msg, DataConversionWarning)\n",
      "/home/grace/anaconda3/envs/aim/lib/python3.8/site-packages/sklearn/metrics/pairwise.py:1975: DataConversionWarning: Data was converted to boolean for metric jaccard\n",
      "  warnings.warn(msg, DataConversionWarning)\n",
      "/home/grace/anaconda3/envs/aim/lib/python3.8/site-packages/sklearn/metrics/pairwise.py:1975: DataConversionWarning: Data was converted to boolean for metric jaccard\n",
      "  warnings.warn(msg, DataConversionWarning)\n",
      "/home/grace/anaconda3/envs/aim/lib/python3.8/site-packages/sklearn/metrics/pairwise.py:1975: DataConversionWarning: Data was converted to boolean for metric jaccard\n",
      "  warnings.warn(msg, DataConversionWarning)\n",
      "/home/grace/anaconda3/envs/aim/lib/python3.8/site-packages/sklearn/metrics/pairwise.py:1975: DataConversionWarning: Data was converted to boolean for metric jaccard\n",
      "  warnings.warn(msg, DataConversionWarning)\n",
      "/home/grace/anaconda3/envs/aim/lib/python3.8/site-packages/sklearn/metrics/pairwise.py:1975: DataConversionWarning: Data was converted to boolean for metric jaccard\n",
      "  warnings.warn(msg, DataConversionWarning)\n",
      "/home/grace/anaconda3/envs/aim/lib/python3.8/site-packages/sklearn/metrics/pairwise.py:1975: DataConversionWarning: Data was converted to boolean for metric jaccard\n",
      "  warnings.warn(msg, DataConversionWarning)\n",
      "/home/grace/anaconda3/envs/aim/lib/python3.8/site-packages/sklearn/metrics/pairwise.py:1975: DataConversionWarning: Data was converted to boolean for metric jaccard\n",
      "  warnings.warn(msg, DataConversionWarning)\n",
      "/home/grace/anaconda3/envs/aim/lib/python3.8/site-packages/sklearn/metrics/pairwise.py:1975: DataConversionWarning: Data was converted to boolean for metric jaccard\n",
      "  warnings.warn(msg, DataConversionWarning)\n",
      "/home/grace/anaconda3/envs/aim/lib/python3.8/site-packages/sklearn/metrics/pairwise.py:1975: DataConversionWarning: Data was converted to boolean for metric jaccard\n",
      "  warnings.warn(msg, DataConversionWarning)\n",
      "/home/grace/anaconda3/envs/aim/lib/python3.8/site-packages/sklearn/metrics/pairwise.py:1975: DataConversionWarning: Data was converted to boolean for metric jaccard\n",
      "  warnings.warn(msg, DataConversionWarning)\n",
      "/home/grace/anaconda3/envs/aim/lib/python3.8/site-packages/sklearn/metrics/pairwise.py:1975: DataConversionWarning: Data was converted to boolean for metric jaccard\n",
      "  warnings.warn(msg, DataConversionWarning)\n",
      "/home/grace/anaconda3/envs/aim/lib/python3.8/site-packages/sklearn/metrics/pairwise.py:1975: DataConversionWarning: Data was converted to boolean for metric jaccard\n",
      "  warnings.warn(msg, DataConversionWarning)\n",
      "/home/grace/anaconda3/envs/aim/lib/python3.8/site-packages/sklearn/metrics/pairwise.py:1975: DataConversionWarning: Data was converted to boolean for metric jaccard\n",
      "  warnings.warn(msg, DataConversionWarning)\n",
      "/home/grace/anaconda3/envs/aim/lib/python3.8/site-packages/sklearn/metrics/pairwise.py:1975: DataConversionWarning: Data was converted to boolean for metric jaccard\n",
      "  warnings.warn(msg, DataConversionWarning)\n",
      "/home/grace/anaconda3/envs/aim/lib/python3.8/site-packages/sklearn/metrics/pairwise.py:1975: DataConversionWarning: Data was converted to boolean for metric jaccard\n",
      "  warnings.warn(msg, DataConversionWarning)\n",
      "/home/grace/anaconda3/envs/aim/lib/python3.8/site-packages/sklearn/metrics/pairwise.py:1975: DataConversionWarning: Data was converted to boolean for metric jaccard\n",
      "  warnings.warn(msg, DataConversionWarning)\n",
      "/home/grace/anaconda3/envs/aim/lib/python3.8/site-packages/sklearn/metrics/pairwise.py:1975: DataConversionWarning: Data was converted to boolean for metric jaccard\n",
      "  warnings.warn(msg, DataConversionWarning)\n",
      "/home/grace/anaconda3/envs/aim/lib/python3.8/site-packages/sklearn/metrics/pairwise.py:1975: DataConversionWarning: Data was converted to boolean for metric jaccard\n",
      "  warnings.warn(msg, DataConversionWarning)\n",
      "/home/grace/anaconda3/envs/aim/lib/python3.8/site-packages/sklearn/metrics/pairwise.py:1975: DataConversionWarning: Data was converted to boolean for metric jaccard\n",
      "  warnings.warn(msg, DataConversionWarning)\n",
      "/home/grace/anaconda3/envs/aim/lib/python3.8/site-packages/sklearn/metrics/pairwise.py:1975: DataConversionWarning: Data was converted to boolean for metric jaccard\n",
      "  warnings.warn(msg, DataConversionWarning)\n",
      "/home/grace/anaconda3/envs/aim/lib/python3.8/site-packages/sklearn/metrics/pairwise.py:1975: DataConversionWarning: Data was converted to boolean for metric jaccard\n",
      "  warnings.warn(msg, DataConversionWarning)\n",
      "/home/grace/anaconda3/envs/aim/lib/python3.8/site-packages/sklearn/metrics/pairwise.py:1975: DataConversionWarning: Data was converted to boolean for metric jaccard\n",
      "  warnings.warn(msg, DataConversionWarning)\n",
      "/home/grace/anaconda3/envs/aim/lib/python3.8/site-packages/sklearn/metrics/pairwise.py:1975: DataConversionWarning: Data was converted to boolean for metric jaccard\n",
      "  warnings.warn(msg, DataConversionWarning)\n",
      "/home/grace/anaconda3/envs/aim/lib/python3.8/site-packages/sklearn/metrics/pairwise.py:1975: DataConversionWarning: Data was converted to boolean for metric jaccard\n",
      "  warnings.warn(msg, DataConversionWarning)\n",
      "/home/grace/anaconda3/envs/aim/lib/python3.8/site-packages/sklearn/metrics/pairwise.py:1975: DataConversionWarning: Data was converted to boolean for metric jaccard\n",
      "  warnings.warn(msg, DataConversionWarning)\n",
      "/home/grace/anaconda3/envs/aim/lib/python3.8/site-packages/sklearn/metrics/pairwise.py:1975: DataConversionWarning: Data was converted to boolean for metric jaccard\n",
      "  warnings.warn(msg, DataConversionWarning)\n",
      "/home/grace/anaconda3/envs/aim/lib/python3.8/site-packages/sklearn/metrics/pairwise.py:1975: DataConversionWarning: Data was converted to boolean for metric jaccard\n",
      "  warnings.warn(msg, DataConversionWarning)\n",
      "/home/grace/anaconda3/envs/aim/lib/python3.8/site-packages/sklearn/metrics/pairwise.py:1975: DataConversionWarning: Data was converted to boolean for metric jaccard\n",
      "  warnings.warn(msg, DataConversionWarning)\n",
      "/home/grace/anaconda3/envs/aim/lib/python3.8/site-packages/sklearn/metrics/pairwise.py:1975: DataConversionWarning: Data was converted to boolean for metric jaccard\n",
      "  warnings.warn(msg, DataConversionWarning)\n",
      "/home/grace/anaconda3/envs/aim/lib/python3.8/site-packages/sklearn/metrics/pairwise.py:1975: DataConversionWarning: Data was converted to boolean for metric jaccard\n",
      "  warnings.warn(msg, DataConversionWarning)\n",
      "/home/grace/anaconda3/envs/aim/lib/python3.8/site-packages/sklearn/metrics/pairwise.py:1975: DataConversionWarning: Data was converted to boolean for metric jaccard\n",
      "  warnings.warn(msg, DataConversionWarning)\n",
      "/home/grace/anaconda3/envs/aim/lib/python3.8/site-packages/sklearn/metrics/pairwise.py:1975: DataConversionWarning: Data was converted to boolean for metric jaccard\n",
      "  warnings.warn(msg, DataConversionWarning)\n",
      "/home/grace/anaconda3/envs/aim/lib/python3.8/site-packages/sklearn/metrics/pairwise.py:1975: DataConversionWarning: Data was converted to boolean for metric jaccard\n",
      "  warnings.warn(msg, DataConversionWarning)\n",
      "/home/grace/anaconda3/envs/aim/lib/python3.8/site-packages/sklearn/metrics/pairwise.py:1975: DataConversionWarning: Data was converted to boolean for metric jaccard\n",
      "  warnings.warn(msg, DataConversionWarning)\n",
      "/home/grace/anaconda3/envs/aim/lib/python3.8/site-packages/sklearn/metrics/pairwise.py:1975: DataConversionWarning: Data was converted to boolean for metric jaccard\n",
      "  warnings.warn(msg, DataConversionWarning)\n",
      "/home/grace/anaconda3/envs/aim/lib/python3.8/site-packages/sklearn/metrics/pairwise.py:1975: DataConversionWarning: Data was converted to boolean for metric jaccard\n",
      "  warnings.warn(msg, DataConversionWarning)\n",
      "/home/grace/anaconda3/envs/aim/lib/python3.8/site-packages/sklearn/metrics/pairwise.py:1975: DataConversionWarning: Data was converted to boolean for metric jaccard\n",
      "  warnings.warn(msg, DataConversionWarning)\n",
      "/home/grace/anaconda3/envs/aim/lib/python3.8/site-packages/sklearn/metrics/pairwise.py:1975: DataConversionWarning: Data was converted to boolean for metric jaccard\n",
      "  warnings.warn(msg, DataConversionWarning)\n",
      "/home/grace/anaconda3/envs/aim/lib/python3.8/site-packages/sklearn/metrics/pairwise.py:1975: DataConversionWarning: Data was converted to boolean for metric jaccard\n",
      "  warnings.warn(msg, DataConversionWarning)\n",
      "/home/grace/anaconda3/envs/aim/lib/python3.8/site-packages/sklearn/metrics/pairwise.py:1975: DataConversionWarning: Data was converted to boolean for metric jaccard\n",
      "  warnings.warn(msg, DataConversionWarning)\n",
      "/home/grace/anaconda3/envs/aim/lib/python3.8/site-packages/sklearn/metrics/pairwise.py:1975: DataConversionWarning: Data was converted to boolean for metric jaccard\n",
      "  warnings.warn(msg, DataConversionWarning)\n",
      "/home/grace/anaconda3/envs/aim/lib/python3.8/site-packages/sklearn/metrics/pairwise.py:1975: DataConversionWarning: Data was converted to boolean for metric jaccard\n",
      "  warnings.warn(msg, DataConversionWarning)\n",
      "/home/grace/anaconda3/envs/aim/lib/python3.8/site-packages/sklearn/metrics/pairwise.py:1975: DataConversionWarning: Data was converted to boolean for metric jaccard\n",
      "  warnings.warn(msg, DataConversionWarning)\n",
      "/home/grace/anaconda3/envs/aim/lib/python3.8/site-packages/sklearn/metrics/pairwise.py:1975: DataConversionWarning: Data was converted to boolean for metric jaccard\n",
      "  warnings.warn(msg, DataConversionWarning)\n",
      "/home/grace/anaconda3/envs/aim/lib/python3.8/site-packages/sklearn/metrics/pairwise.py:1975: DataConversionWarning: Data was converted to boolean for metric jaccard\n",
      "  warnings.warn(msg, DataConversionWarning)\n",
      "/home/grace/anaconda3/envs/aim/lib/python3.8/site-packages/sklearn/metrics/pairwise.py:1975: DataConversionWarning: Data was converted to boolean for metric jaccard\n",
      "  warnings.warn(msg, DataConversionWarning)\n",
      "/home/grace/anaconda3/envs/aim/lib/python3.8/site-packages/sklearn/metrics/pairwise.py:1975: DataConversionWarning: Data was converted to boolean for metric jaccard\n",
      "  warnings.warn(msg, DataConversionWarning)\n",
      "/home/grace/anaconda3/envs/aim/lib/python3.8/site-packages/sklearn/metrics/pairwise.py:1975: DataConversionWarning: Data was converted to boolean for metric jaccard\n",
      "  warnings.warn(msg, DataConversionWarning)\n",
      "/home/grace/anaconda3/envs/aim/lib/python3.8/site-packages/sklearn/metrics/pairwise.py:1975: DataConversionWarning: Data was converted to boolean for metric jaccard\n",
      "  warnings.warn(msg, DataConversionWarning)\n",
      "/home/grace/anaconda3/envs/aim/lib/python3.8/site-packages/sklearn/metrics/pairwise.py:1975: DataConversionWarning: Data was converted to boolean for metric jaccard\n",
      "  warnings.warn(msg, DataConversionWarning)\n",
      "/home/grace/anaconda3/envs/aim/lib/python3.8/site-packages/sklearn/metrics/pairwise.py:1975: DataConversionWarning: Data was converted to boolean for metric jaccard\n",
      "  warnings.warn(msg, DataConversionWarning)\n",
      "/home/grace/anaconda3/envs/aim/lib/python3.8/site-packages/sklearn/metrics/pairwise.py:1975: DataConversionWarning: Data was converted to boolean for metric jaccard\n",
      "  warnings.warn(msg, DataConversionWarning)\n",
      "/home/grace/anaconda3/envs/aim/lib/python3.8/site-packages/sklearn/metrics/pairwise.py:1975: DataConversionWarning: Data was converted to boolean for metric jaccard\n",
      "  warnings.warn(msg, DataConversionWarning)\n",
      "/home/grace/anaconda3/envs/aim/lib/python3.8/site-packages/sklearn/metrics/pairwise.py:1975: DataConversionWarning: Data was converted to boolean for metric jaccard\n",
      "  warnings.warn(msg, DataConversionWarning)\n",
      "/home/grace/anaconda3/envs/aim/lib/python3.8/site-packages/sklearn/metrics/pairwise.py:1975: DataConversionWarning: Data was converted to boolean for metric jaccard\n",
      "  warnings.warn(msg, DataConversionWarning)\n",
      "/home/grace/anaconda3/envs/aim/lib/python3.8/site-packages/sklearn/metrics/pairwise.py:1975: DataConversionWarning: Data was converted to boolean for metric jaccard\n",
      "  warnings.warn(msg, DataConversionWarning)\n",
      "/home/grace/anaconda3/envs/aim/lib/python3.8/site-packages/sklearn/metrics/pairwise.py:1975: DataConversionWarning: Data was converted to boolean for metric jaccard\n",
      "  warnings.warn(msg, DataConversionWarning)\n",
      "/home/grace/anaconda3/envs/aim/lib/python3.8/site-packages/sklearn/metrics/pairwise.py:1975: DataConversionWarning: Data was converted to boolean for metric jaccard\n",
      "  warnings.warn(msg, DataConversionWarning)\n",
      "/home/grace/anaconda3/envs/aim/lib/python3.8/site-packages/sklearn/metrics/pairwise.py:1975: DataConversionWarning: Data was converted to boolean for metric jaccard\n",
      "  warnings.warn(msg, DataConversionWarning)\n",
      "/home/grace/anaconda3/envs/aim/lib/python3.8/site-packages/sklearn/metrics/pairwise.py:1975: DataConversionWarning: Data was converted to boolean for metric jaccard\n",
      "  warnings.warn(msg, DataConversionWarning)\n",
      "/home/grace/anaconda3/envs/aim/lib/python3.8/site-packages/sklearn/metrics/pairwise.py:1975: DataConversionWarning: Data was converted to boolean for metric jaccard\n",
      "  warnings.warn(msg, DataConversionWarning)\n",
      "/home/grace/anaconda3/envs/aim/lib/python3.8/site-packages/sklearn/metrics/pairwise.py:1975: DataConversionWarning: Data was converted to boolean for metric jaccard\n",
      "  warnings.warn(msg, DataConversionWarning)\n",
      "/home/grace/anaconda3/envs/aim/lib/python3.8/site-packages/sklearn/metrics/pairwise.py:1975: DataConversionWarning: Data was converted to boolean for metric jaccard\n",
      "  warnings.warn(msg, DataConversionWarning)\n",
      "/home/grace/anaconda3/envs/aim/lib/python3.8/site-packages/sklearn/metrics/pairwise.py:1975: DataConversionWarning: Data was converted to boolean for metric jaccard\n",
      "  warnings.warn(msg, DataConversionWarning)\n",
      "/home/grace/anaconda3/envs/aim/lib/python3.8/site-packages/sklearn/metrics/pairwise.py:1975: DataConversionWarning: Data was converted to boolean for metric jaccard\n",
      "  warnings.warn(msg, DataConversionWarning)\n",
      "/home/grace/anaconda3/envs/aim/lib/python3.8/site-packages/sklearn/metrics/pairwise.py:1975: DataConversionWarning: Data was converted to boolean for metric jaccard\n",
      "  warnings.warn(msg, DataConversionWarning)\n",
      "/home/grace/anaconda3/envs/aim/lib/python3.8/site-packages/sklearn/metrics/pairwise.py:1975: DataConversionWarning: Data was converted to boolean for metric jaccard\n",
      "  warnings.warn(msg, DataConversionWarning)\n",
      "/home/grace/anaconda3/envs/aim/lib/python3.8/site-packages/sklearn/metrics/pairwise.py:1975: DataConversionWarning: Data was converted to boolean for metric jaccard\n",
      "  warnings.warn(msg, DataConversionWarning)\n",
      "/home/grace/anaconda3/envs/aim/lib/python3.8/site-packages/sklearn/metrics/pairwise.py:1975: DataConversionWarning: Data was converted to boolean for metric jaccard\n",
      "  warnings.warn(msg, DataConversionWarning)\n",
      "/home/grace/anaconda3/envs/aim/lib/python3.8/site-packages/sklearn/metrics/pairwise.py:1975: DataConversionWarning: Data was converted to boolean for metric jaccard\n",
      "  warnings.warn(msg, DataConversionWarning)\n",
      "/home/grace/anaconda3/envs/aim/lib/python3.8/site-packages/sklearn/metrics/pairwise.py:1975: DataConversionWarning: Data was converted to boolean for metric jaccard\n",
      "  warnings.warn(msg, DataConversionWarning)\n",
      "/home/grace/anaconda3/envs/aim/lib/python3.8/site-packages/sklearn/metrics/pairwise.py:1975: DataConversionWarning: Data was converted to boolean for metric jaccard\n",
      "  warnings.warn(msg, DataConversionWarning)\n",
      "/home/grace/anaconda3/envs/aim/lib/python3.8/site-packages/sklearn/metrics/pairwise.py:1975: DataConversionWarning: Data was converted to boolean for metric jaccard\n",
      "  warnings.warn(msg, DataConversionWarning)\n",
      "/home/grace/anaconda3/envs/aim/lib/python3.8/site-packages/sklearn/metrics/pairwise.py:1975: DataConversionWarning: Data was converted to boolean for metric jaccard\n",
      "  warnings.warn(msg, DataConversionWarning)\n",
      "/home/grace/anaconda3/envs/aim/lib/python3.8/site-packages/sklearn/metrics/pairwise.py:1975: DataConversionWarning: Data was converted to boolean for metric jaccard\n",
      "  warnings.warn(msg, DataConversionWarning)\n",
      "/home/grace/anaconda3/envs/aim/lib/python3.8/site-packages/sklearn/metrics/pairwise.py:1975: DataConversionWarning: Data was converted to boolean for metric jaccard\n",
      "  warnings.warn(msg, DataConversionWarning)\n",
      "/home/grace/anaconda3/envs/aim/lib/python3.8/site-packages/sklearn/metrics/pairwise.py:1975: DataConversionWarning: Data was converted to boolean for metric jaccard\n",
      "  warnings.warn(msg, DataConversionWarning)\n",
      "/home/grace/anaconda3/envs/aim/lib/python3.8/site-packages/sklearn/metrics/pairwise.py:1975: DataConversionWarning: Data was converted to boolean for metric jaccard\n",
      "  warnings.warn(msg, DataConversionWarning)\n",
      "/home/grace/anaconda3/envs/aim/lib/python3.8/site-packages/sklearn/metrics/pairwise.py:1975: DataConversionWarning: Data was converted to boolean for metric jaccard\n",
      "  warnings.warn(msg, DataConversionWarning)\n",
      "/home/grace/anaconda3/envs/aim/lib/python3.8/site-packages/sklearn/metrics/pairwise.py:1975: DataConversionWarning: Data was converted to boolean for metric jaccard\n",
      "  warnings.warn(msg, DataConversionWarning)\n",
      "/home/grace/anaconda3/envs/aim/lib/python3.8/site-packages/sklearn/metrics/pairwise.py:1975: DataConversionWarning: Data was converted to boolean for metric jaccard\n",
      "  warnings.warn(msg, DataConversionWarning)\n",
      "/home/grace/anaconda3/envs/aim/lib/python3.8/site-packages/sklearn/metrics/pairwise.py:1975: DataConversionWarning: Data was converted to boolean for metric jaccard\n",
      "  warnings.warn(msg, DataConversionWarning)\n",
      "/home/grace/anaconda3/envs/aim/lib/python3.8/site-packages/sklearn/metrics/pairwise.py:1975: DataConversionWarning: Data was converted to boolean for metric jaccard\n",
      "  warnings.warn(msg, DataConversionWarning)\n",
      "/home/grace/anaconda3/envs/aim/lib/python3.8/site-packages/sklearn/metrics/pairwise.py:1975: DataConversionWarning: Data was converted to boolean for metric jaccard\n",
      "  warnings.warn(msg, DataConversionWarning)\n"
     ]
    },
    {
     "name": "stdout",
     "output_type": "stream",
     "text": [
      "0.6450734234705833 0.009900990099009901\n"
     ]
    }
   ],
   "source": [
    "from sklearn.model_selection import permutation_test_score\n",
    "from sklearn.model_selection import cross_validate,StratifiedKFold\n",
    "from sklearn.metrics import make_scorer,f1_score,precision_score,recall_score,roc_auc_score\n",
    "from genra.rax.skl.cls import *\n",
    "\n",
    "cv = StratifiedKFold(5, shuffle=True, random_state=0)\n",
    "\n",
    "GP = GenRAPredClass(n_neighbors=10,metric='jaccard',n_jobs=-1)\n",
    "\n",
    "X_mrgn,Y_liver = getData('chr_liver',dt='chm',st='all')\n",
    "\n",
    "R = permutation_test_score(GP, X_mrgn.values, Y_liver, scoring=\"roc_auc\", cv=cv, n_permutations=100,n_jobs=-1)\n",
    "#R = permutation_test_score(GP, X_mrgn, Y_liver, scoring=Scorers, \n",
    "#                           cv=cv, n_permutations=100,n_jobs=-1)\n",
    "# The AUC and p-value are:-\n",
    "auc,p=R[0],R[2]\n",
    "print(auc,p)"
   ]
  },
  {
   "cell_type": "code",
   "execution_count": 21,
   "metadata": {},
   "outputs": [
    {
     "name": "stdout",
     "output_type": "stream",
     "text": [
      "0.6450734234705833 0.009900990099009901\n"
     ]
    },
    {
     "name": "stderr",
     "output_type": "stream",
     "text": [
      "/home/grace/anaconda3/envs/aim/lib/python3.8/site-packages/sklearn/metrics/pairwise.py:1975: DataConversionWarning: Data was converted to boolean for metric jaccard\n",
      "  warnings.warn(msg, DataConversionWarning)\n",
      "/home/grace/anaconda3/envs/aim/lib/python3.8/site-packages/sklearn/metrics/pairwise.py:1975: DataConversionWarning: Data was converted to boolean for metric jaccard\n",
      "  warnings.warn(msg, DataConversionWarning)\n",
      "/home/grace/anaconda3/envs/aim/lib/python3.8/site-packages/sklearn/metrics/pairwise.py:1975: DataConversionWarning: Data was converted to boolean for metric jaccard\n",
      "  warnings.warn(msg, DataConversionWarning)\n",
      "/home/grace/anaconda3/envs/aim/lib/python3.8/site-packages/sklearn/metrics/pairwise.py:1975: DataConversionWarning: Data was converted to boolean for metric jaccard\n",
      "  warnings.warn(msg, DataConversionWarning)\n",
      "/home/grace/anaconda3/envs/aim/lib/python3.8/site-packages/sklearn/metrics/pairwise.py:1975: DataConversionWarning: Data was converted to boolean for metric jaccard\n",
      "  warnings.warn(msg, DataConversionWarning)\n",
      "/home/grace/anaconda3/envs/aim/lib/python3.8/site-packages/sklearn/metrics/pairwise.py:1975: DataConversionWarning: Data was converted to boolean for metric jaccard\n",
      "  warnings.warn(msg, DataConversionWarning)\n",
      "/home/grace/anaconda3/envs/aim/lib/python3.8/site-packages/sklearn/metrics/pairwise.py:1975: DataConversionWarning: Data was converted to boolean for metric jaccard\n",
      "  warnings.warn(msg, DataConversionWarning)\n",
      "/home/grace/anaconda3/envs/aim/lib/python3.8/site-packages/sklearn/metrics/pairwise.py:1975: DataConversionWarning: Data was converted to boolean for metric jaccard\n",
      "  warnings.warn(msg, DataConversionWarning)\n",
      "/home/grace/anaconda3/envs/aim/lib/python3.8/site-packages/sklearn/metrics/pairwise.py:1975: DataConversionWarning: Data was converted to boolean for metric jaccard\n",
      "  warnings.warn(msg, DataConversionWarning)\n",
      "/home/grace/anaconda3/envs/aim/lib/python3.8/site-packages/sklearn/metrics/pairwise.py:1975: DataConversionWarning: Data was converted to boolean for metric jaccard\n",
      "  warnings.warn(msg, DataConversionWarning)\n",
      "/home/grace/anaconda3/envs/aim/lib/python3.8/site-packages/sklearn/metrics/pairwise.py:1975: DataConversionWarning: Data was converted to boolean for metric jaccard\n",
      "  warnings.warn(msg, DataConversionWarning)\n",
      "/home/grace/anaconda3/envs/aim/lib/python3.8/site-packages/sklearn/metrics/pairwise.py:1975: DataConversionWarning: Data was converted to boolean for metric jaccard\n",
      "  warnings.warn(msg, DataConversionWarning)\n",
      "/home/grace/anaconda3/envs/aim/lib/python3.8/site-packages/sklearn/metrics/pairwise.py:1975: DataConversionWarning: Data was converted to boolean for metric jaccard\n",
      "  warnings.warn(msg, DataConversionWarning)\n",
      "/home/grace/anaconda3/envs/aim/lib/python3.8/site-packages/sklearn/metrics/pairwise.py:1975: DataConversionWarning: Data was converted to boolean for metric jaccard\n",
      "  warnings.warn(msg, DataConversionWarning)\n",
      "/home/grace/anaconda3/envs/aim/lib/python3.8/site-packages/sklearn/metrics/pairwise.py:1975: DataConversionWarning: Data was converted to boolean for metric jaccard\n",
      "  warnings.warn(msg, DataConversionWarning)\n",
      "/home/grace/anaconda3/envs/aim/lib/python3.8/site-packages/sklearn/metrics/pairwise.py:1975: DataConversionWarning: Data was converted to boolean for metric jaccard\n",
      "  warnings.warn(msg, DataConversionWarning)\n",
      "/home/grace/anaconda3/envs/aim/lib/python3.8/site-packages/sklearn/metrics/pairwise.py:1975: DataConversionWarning: Data was converted to boolean for metric jaccard\n",
      "  warnings.warn(msg, DataConversionWarning)\n",
      "/home/grace/anaconda3/envs/aim/lib/python3.8/site-packages/sklearn/metrics/pairwise.py:1975: DataConversionWarning: Data was converted to boolean for metric jaccard\n",
      "  warnings.warn(msg, DataConversionWarning)\n",
      "/home/grace/anaconda3/envs/aim/lib/python3.8/site-packages/sklearn/metrics/pairwise.py:1975: DataConversionWarning: Data was converted to boolean for metric jaccard\n",
      "  warnings.warn(msg, DataConversionWarning)\n",
      "/home/grace/anaconda3/envs/aim/lib/python3.8/site-packages/sklearn/metrics/pairwise.py:1975: DataConversionWarning: Data was converted to boolean for metric jaccard\n",
      "  warnings.warn(msg, DataConversionWarning)\n",
      "/home/grace/anaconda3/envs/aim/lib/python3.8/site-packages/sklearn/metrics/pairwise.py:1975: DataConversionWarning: Data was converted to boolean for metric jaccard\n",
      "  warnings.warn(msg, DataConversionWarning)\n",
      "/home/grace/anaconda3/envs/aim/lib/python3.8/site-packages/sklearn/metrics/pairwise.py:1975: DataConversionWarning: Data was converted to boolean for metric jaccard\n",
      "  warnings.warn(msg, DataConversionWarning)\n",
      "/home/grace/anaconda3/envs/aim/lib/python3.8/site-packages/sklearn/metrics/pairwise.py:1975: DataConversionWarning: Data was converted to boolean for metric jaccard\n",
      "  warnings.warn(msg, DataConversionWarning)\n",
      "/home/grace/anaconda3/envs/aim/lib/python3.8/site-packages/sklearn/metrics/pairwise.py:1975: DataConversionWarning: Data was converted to boolean for metric jaccard\n",
      "  warnings.warn(msg, DataConversionWarning)\n",
      "/home/grace/anaconda3/envs/aim/lib/python3.8/site-packages/sklearn/metrics/pairwise.py:1975: DataConversionWarning: Data was converted to boolean for metric jaccard\n",
      "  warnings.warn(msg, DataConversionWarning)\n",
      "/home/grace/anaconda3/envs/aim/lib/python3.8/site-packages/sklearn/metrics/pairwise.py:1975: DataConversionWarning: Data was converted to boolean for metric jaccard\n",
      "  warnings.warn(msg, DataConversionWarning)\n",
      "/home/grace/anaconda3/envs/aim/lib/python3.8/site-packages/sklearn/metrics/pairwise.py:1975: DataConversionWarning: Data was converted to boolean for metric jaccard\n",
      "  warnings.warn(msg, DataConversionWarning)\n",
      "/home/grace/anaconda3/envs/aim/lib/python3.8/site-packages/sklearn/metrics/pairwise.py:1975: DataConversionWarning: Data was converted to boolean for metric jaccard\n",
      "  warnings.warn(msg, DataConversionWarning)\n",
      "/home/grace/anaconda3/envs/aim/lib/python3.8/site-packages/sklearn/metrics/pairwise.py:1975: DataConversionWarning: Data was converted to boolean for metric jaccard\n",
      "  warnings.warn(msg, DataConversionWarning)\n",
      "/home/grace/anaconda3/envs/aim/lib/python3.8/site-packages/sklearn/metrics/pairwise.py:1975: DataConversionWarning: Data was converted to boolean for metric jaccard\n",
      "  warnings.warn(msg, DataConversionWarning)\n",
      "/home/grace/anaconda3/envs/aim/lib/python3.8/site-packages/sklearn/metrics/pairwise.py:1975: DataConversionWarning: Data was converted to boolean for metric jaccard\n",
      "  warnings.warn(msg, DataConversionWarning)\n",
      "/home/grace/anaconda3/envs/aim/lib/python3.8/site-packages/sklearn/metrics/pairwise.py:1975: DataConversionWarning: Data was converted to boolean for metric jaccard\n",
      "  warnings.warn(msg, DataConversionWarning)\n"
     ]
    }
   ],
   "source": [
    "print(auc,p)"
   ]
  },
  {
   "cell_type": "markdown",
   "metadata": {},
   "source": [
    "## Grid search for best metric and optimal value of k"
   ]
  },
  {
   "cell_type": "code",
   "execution_count": 14,
   "metadata": {},
   "outputs": [
    {
     "name": "stdout",
     "output_type": "stream",
     "text": [
      "Fitting 5 folds for each of 38 candidates, totalling 190 fits\n"
     ]
    },
    {
     "name": "stderr",
     "output_type": "stream",
     "text": [
      "[Parallel(n_jobs=-1)]: Using backend LokyBackend with 16 concurrent workers.\n",
      "[Parallel(n_jobs=-1)]: Done  18 tasks      | elapsed:    0.5s\n",
      "[Parallel(n_jobs=-1)]: Done 190 out of 190 | elapsed:    2.0s finished\n"
     ]
    },
    {
     "name": "stdout",
     "output_type": "stream",
     "text": [
      "Best: 0.8834165834165834 {'metric': 'jaccard', 'n_neighbors': 15}\n"
     ]
    },
    {
     "data": {
      "image/png": "[encoded data removed]",
      "text/plain": [
       "<Figure size 300.75x216 with 1 Axes>"
      ]
     },
     "metadata": {
      "needs_background": "light"
     },
     "output_type": "display_data"
    }
   ],
   "source": [
    "from genra.rax.skl.cls import GenRAPredClass\n",
    "from sklearn.metrics import make_scorer,roc_auc_score\n",
    "from sklearn.model_selection import GridSearchCV\n",
    "from sklearn.model_selection import LeaveOneOut\n",
    "import seaborn as sns\n",
    "\n",
    "GC1 = GenRAPredClass(algorithm='brute')\n",
    "\n",
    "params={'n_neighbors': range(1,20),\n",
    "        'metric':['euclidean','jaccard']\n",
    "       }\n",
    "\n",
    "\n",
    "Grid3= GridSearchCV(estimator=GC1,param_grid=params,\n",
    "                    n_jobs=-1,cv=5,#\n",
    "                    verbose=1,\n",
    "                    scoring=make_scorer(f1_score))\n",
    "\n",
    "Best3=Grid3.fit(X_mrgn,Y_liver)\n",
    "P = pd.DataFrame(Best3.cv_results_['params'])\n",
    "P.insert(2,'score_mn',Best3.cv_results_['mean_test_score'])\n",
    "P.insert(3,'score_std',Best3.cv_results_['std_test_score'])\n",
    "\n",
    "g=sns.FacetGrid(P,hue='metric')\n",
    "g.map(pl.plot,'n_neighbors','score_mn')\n",
    "g.set(ylim=(0,1.0),xlabel='k',ylabel='$F_1$')\n",
    "g.add_legend()\n",
    "print(\"Best:\", Best3.best_score_,Best3.best_params_)"
   ]
  },
  {
   "cell_type": "markdown",
   "metadata": {},
   "source": [
    "## Compare all descriptor types for chronic liver toxicity"
   ]
  },
  {
   "cell_type": "code",
   "execution_count": 15,
   "metadata": {
    "scrolled": true
   },
   "outputs": [
    {
     "name": "stdout",
     "output_type": "stream",
     "text": [
      "\n",
      ">chr_liver chm tptr chems 433 descriptors 2048\n",
      "Fitting 5 folds for each of 38 candidates, totalling 190 fits\n"
     ]
    },
    {
     "name": "stderr",
     "output_type": "stream",
     "text": [
      "[Parallel(n_jobs=-1)]: Using backend LokyBackend with 16 concurrent workers.\n",
      "[Parallel(n_jobs=-1)]: Done  18 tasks      | elapsed:    0.2s\n",
      "[Parallel(n_jobs=-1)]: Done 190 out of 190 | elapsed:    1.2s finished\n",
      "[Parallel(n_jobs=-1)]: Using backend LokyBackend with 16 concurrent workers.\n"
     ]
    },
    {
     "name": "stdout",
     "output_type": "stream",
     "text": [
      "\n",
      ">chr_liver chm mrgn chems 433 descriptors 1024\n",
      "Fitting 5 folds for each of 38 candidates, totalling 190 fits\n"
     ]
    },
    {
     "name": "stderr",
     "output_type": "stream",
     "text": [
      "[Parallel(n_jobs=-1)]: Done  18 tasks      | elapsed:    0.1s\n",
      "[Parallel(n_jobs=-1)]: Done 159 out of 190 | elapsed:    0.6s remaining:    0.1s\n",
      "[Parallel(n_jobs=-1)]: Done 190 out of 190 | elapsed:    0.7s finished\n",
      "[Parallel(n_jobs=-1)]: Using backend LokyBackend with 16 concurrent workers.\n"
     ]
    },
    {
     "name": "stdout",
     "output_type": "stream",
     "text": [
      "\n",
      ">chr_liver chm mccs chems 433 descriptors 167\n",
      "Fitting 5 folds for each of 38 candidates, totalling 190 fits\n"
     ]
    },
    {
     "name": "stderr",
     "output_type": "stream",
     "text": [
      "[Parallel(n_jobs=-1)]: Done  18 tasks      | elapsed:    0.1s\n",
      "[Parallel(n_jobs=-1)]: Done 159 out of 190 | elapsed:    0.3s remaining:    0.1s\n",
      "[Parallel(n_jobs=-1)]: Done 190 out of 190 | elapsed:    0.4s finished\n",
      "[Parallel(n_jobs=-1)]: Using backend LokyBackend with 16 concurrent workers.\n"
     ]
    },
    {
     "name": "stdout",
     "output_type": "stream",
     "text": [
      "\n",
      ">chr_liver chm all chems 433 descriptors 3239\n",
      "Fitting 5 folds for each of 38 candidates, totalling 190 fits\n"
     ]
    },
    {
     "name": "stderr",
     "output_type": "stream",
     "text": [
      "[Parallel(n_jobs=-1)]: Done  18 tasks      | elapsed:    0.2s\n",
      "[Parallel(n_jobs=-1)]: Done 159 out of 190 | elapsed:    1.4s remaining:    0.3s\n",
      "[Parallel(n_jobs=-1)]: Done 190 out of 190 | elapsed:    1.7s finished\n",
      "[Parallel(n_jobs=-1)]: Using backend LokyBackend with 16 concurrent workers.\n",
      "[Parallel(n_jobs=-1)]: Done  18 tasks      | elapsed:    0.1s\n"
     ]
    },
    {
     "name": "stdout",
     "output_type": "stream",
     "text": [
      "\n",
      ">chr_liver bio ACEA chems 433 descriptors 2\n",
      "Fitting 5 folds for each of 38 candidates, totalling 190 fits\n"
     ]
    },
    {
     "name": "stderr",
     "output_type": "stream",
     "text": [
      "[Parallel(n_jobs=-1)]: Done 159 out of 190 | elapsed:    0.2s remaining:    0.0s\n",
      "[Parallel(n_jobs=-1)]: Done 190 out of 190 | elapsed:    0.2s finished\n",
      "[Parallel(n_jobs=-1)]: Using backend LokyBackend with 16 concurrent workers.\n",
      "[Parallel(n_jobs=-1)]: Done  18 tasks      | elapsed:    0.1s\n"
     ]
    },
    {
     "name": "stdout",
     "output_type": "stream",
     "text": [
      "\n",
      ">chr_liver bio APR chems 433 descriptors 60\n",
      "Fitting 5 folds for each of 38 candidates, totalling 190 fits\n"
     ]
    },
    {
     "name": "stderr",
     "output_type": "stream",
     "text": [
      "[Parallel(n_jobs=-1)]: Done 159 out of 190 | elapsed:    0.2s remaining:    0.0s\n",
      "[Parallel(n_jobs=-1)]: Done 190 out of 190 | elapsed:    0.3s finished\n",
      "[Parallel(n_jobs=-1)]: Using backend LokyBackend with 16 concurrent workers.\n",
      "[Parallel(n_jobs=-1)]: Done  18 tasks      | elapsed:    0.1s\n"
     ]
    },
    {
     "name": "stdout",
     "output_type": "stream",
     "text": [
      "\n",
      ">chr_liver bio ATG chems 433 descriptors 83\n",
      "Fitting 5 folds for each of 38 candidates, totalling 190 fits\n"
     ]
    },
    {
     "name": "stderr",
     "output_type": "stream",
     "text": [
      "[Parallel(n_jobs=-1)]: Done 159 out of 190 | elapsed:    0.3s remaining:    0.0s\n",
      "[Parallel(n_jobs=-1)]: Done 190 out of 190 | elapsed:    0.3s finished\n",
      "[Parallel(n_jobs=-1)]: Using backend LokyBackend with 16 concurrent workers.\n",
      "[Parallel(n_jobs=-1)]: Done  18 tasks      | elapsed:    0.1s\n"
     ]
    },
    {
     "name": "stdout",
     "output_type": "stream",
     "text": [
      "\n",
      ">chr_liver bio BSK chems 433 descriptors 174\n",
      "Fitting 5 folds for each of 38 candidates, totalling 190 fits\n"
     ]
    },
    {
     "name": "stderr",
     "output_type": "stream",
     "text": [
      "[Parallel(n_jobs=-1)]: Done 190 out of 190 | elapsed:    0.4s finished\n",
      "[Parallel(n_jobs=-1)]: Using backend LokyBackend with 16 concurrent workers.\n",
      "[Parallel(n_jobs=-1)]: Done  18 tasks      | elapsed:    0.1s\n"
     ]
    },
    {
     "name": "stdout",
     "output_type": "stream",
     "text": [
      "\n",
      ">chr_liver bio NVS chems 433 descriptors 420\n",
      "Fitting 5 folds for each of 38 candidates, totalling 190 fits\n"
     ]
    },
    {
     "name": "stderr",
     "output_type": "stream",
     "text": [
      "[Parallel(n_jobs=-1)]: Done 159 out of 190 | elapsed:    0.4s remaining:    0.1s\n",
      "[Parallel(n_jobs=-1)]: Done 190 out of 190 | elapsed:    0.4s finished\n",
      "[Parallel(n_jobs=-1)]: Using backend LokyBackend with 16 concurrent workers.\n"
     ]
    },
    {
     "name": "stdout",
     "output_type": "stream",
     "text": [
      "\n",
      ">chr_liver bio OT chems 433 descriptors 17\n",
      "Fitting 5 folds for each of 38 candidates, totalling 190 fits\n"
     ]
    },
    {
     "name": "stderr",
     "output_type": "stream",
     "text": [
      "[Parallel(n_jobs=-1)]: Done  18 tasks      | elapsed:    0.1s\n",
      "[Parallel(n_jobs=-1)]: Done 159 out of 190 | elapsed:    0.2s remaining:    0.0s\n",
      "[Parallel(n_jobs=-1)]: Done 190 out of 190 | elapsed:    0.3s finished\n"
     ]
    },
    {
     "name": "stdout",
     "output_type": "stream",
     "text": [
      "\n",
      ">chr_liver bio Tox21 chems 433 descriptors 65\n",
      "Fitting 5 folds for each of 38 candidates, totalling 190 fits\n"
     ]
    },
    {
     "name": "stderr",
     "output_type": "stream",
     "text": [
      "[Parallel(n_jobs=-1)]: Using backend LokyBackend with 16 concurrent workers.\n",
      "[Parallel(n_jobs=-1)]: Done  18 tasks      | elapsed:    0.1s\n",
      "[Parallel(n_jobs=-1)]: Done 190 out of 190 | elapsed:    0.3s finished\n",
      "[Parallel(n_jobs=-1)]: Using backend LokyBackend with 16 concurrent workers.\n",
      "[Parallel(n_jobs=-1)]: Done  18 tasks      | elapsed:    0.1s\n"
     ]
    },
    {
     "name": "stdout",
     "output_type": "stream",
     "text": [
      "\n",
      ">chr_liver bio all chems 433 descriptors 821\n",
      "Fitting 5 folds for each of 38 candidates, totalling 190 fits\n"
     ]
    },
    {
     "name": "stderr",
     "output_type": "stream",
     "text": [
      "[Parallel(n_jobs=-1)]: Done 190 out of 190 | elapsed:    0.6s finished\n",
      "[Parallel(n_jobs=-1)]: Using backend LokyBackend with 16 concurrent workers.\n"
     ]
    },
    {
     "name": "stdout",
     "output_type": "stream",
     "text": [
      "\n",
      ">chr_liver bc ACEA_tptr chems 433 descriptors 2050\n",
      "Fitting 5 folds for each of 38 candidates, totalling 190 fits\n"
     ]
    },
    {
     "name": "stderr",
     "output_type": "stream",
     "text": [
      "[Parallel(n_jobs=-1)]: Done  18 tasks      | elapsed:    0.2s\n",
      "[Parallel(n_jobs=-1)]: Done 190 out of 190 | elapsed:    1.2s finished\n",
      "[Parallel(n_jobs=-1)]: Using backend LokyBackend with 16 concurrent workers.\n"
     ]
    },
    {
     "name": "stdout",
     "output_type": "stream",
     "text": [
      "\n",
      ">chr_liver bc APR_tptr chems 433 descriptors 2108\n",
      "Fitting 5 folds for each of 38 candidates, totalling 190 fits\n"
     ]
    },
    {
     "name": "stderr",
     "output_type": "stream",
     "text": [
      "[Parallel(n_jobs=-1)]: Done  18 tasks      | elapsed:    0.2s\n",
      "[Parallel(n_jobs=-1)]: Done 159 out of 190 | elapsed:    1.0s remaining:    0.2s\n",
      "[Parallel(n_jobs=-1)]: Done 190 out of 190 | elapsed:    1.2s finished\n",
      "[Parallel(n_jobs=-1)]: Using backend LokyBackend with 16 concurrent workers.\n"
     ]
    },
    {
     "name": "stdout",
     "output_type": "stream",
     "text": [
      "\n",
      ">chr_liver bc ATG_tptr chems 433 descriptors 2131\n",
      "Fitting 5 folds for each of 38 candidates, totalling 190 fits\n"
     ]
    },
    {
     "name": "stderr",
     "output_type": "stream",
     "text": [
      "[Parallel(n_jobs=-1)]: Done  18 tasks      | elapsed:    0.2s\n",
      "[Parallel(n_jobs=-1)]: Done 190 out of 190 | elapsed:    1.2s finished\n",
      "[Parallel(n_jobs=-1)]: Using backend LokyBackend with 16 concurrent workers.\n"
     ]
    },
    {
     "name": "stdout",
     "output_type": "stream",
     "text": [
      "\n",
      ">chr_liver bc BSK_tptr chems 433 descriptors 2222\n",
      "Fitting 5 folds for each of 38 candidates, totalling 190 fits\n"
     ]
    },
    {
     "name": "stderr",
     "output_type": "stream",
     "text": [
      "[Parallel(n_jobs=-1)]: Done  18 tasks      | elapsed:    0.2s\n",
      "[Parallel(n_jobs=-1)]: Done 159 out of 190 | elapsed:    1.1s remaining:    0.2s\n",
      "[Parallel(n_jobs=-1)]: Done 190 out of 190 | elapsed:    1.3s finished\n",
      "[Parallel(n_jobs=-1)]: Using backend LokyBackend with 16 concurrent workers.\n"
     ]
    },
    {
     "name": "stdout",
     "output_type": "stream",
     "text": [
      "\n",
      ">chr_liver bc NVS_tptr chems 433 descriptors 2468\n",
      "Fitting 5 folds for each of 38 candidates, totalling 190 fits\n"
     ]
    },
    {
     "name": "stderr",
     "output_type": "stream",
     "text": [
      "[Parallel(n_jobs=-1)]: Done  18 tasks      | elapsed:    0.2s\n",
      "[Parallel(n_jobs=-1)]: Done 190 out of 190 | elapsed:    1.3s finished\n",
      "[Parallel(n_jobs=-1)]: Using backend LokyBackend with 16 concurrent workers.\n"
     ]
    },
    {
     "name": "stdout",
     "output_type": "stream",
     "text": [
      "\n",
      ">chr_liver bc OT_tptr chems 433 descriptors 2065\n",
      "Fitting 5 folds for each of 38 candidates, totalling 190 fits\n"
     ]
    },
    {
     "name": "stderr",
     "output_type": "stream",
     "text": [
      "[Parallel(n_jobs=-1)]: Done  18 tasks      | elapsed:    0.1s\n",
      "[Parallel(n_jobs=-1)]: Done 190 out of 190 | elapsed:    1.1s finished\n",
      "[Parallel(n_jobs=-1)]: Using backend LokyBackend with 16 concurrent workers.\n"
     ]
    },
    {
     "name": "stdout",
     "output_type": "stream",
     "text": [
      "\n",
      ">chr_liver bc Tox21_tptr chems 433 descriptors 2113\n",
      "Fitting 5 folds for each of 38 candidates, totalling 190 fits\n"
     ]
    },
    {
     "name": "stderr",
     "output_type": "stream",
     "text": [
      "[Parallel(n_jobs=-1)]: Done  18 tasks      | elapsed:    0.2s\n",
      "[Parallel(n_jobs=-1)]: Done 159 out of 190 | elapsed:    0.9s remaining:    0.2s\n",
      "[Parallel(n_jobs=-1)]: Done 190 out of 190 | elapsed:    1.1s finished\n"
     ]
    },
    {
     "name": "stdout",
     "output_type": "stream",
     "text": [
      "\n",
      ">chr_liver bc all_tptr chems 433 descriptors 2869\n",
      "Fitting 5 folds for each of 38 candidates, totalling 190 fits\n"
     ]
    },
    {
     "name": "stderr",
     "output_type": "stream",
     "text": [
      "[Parallel(n_jobs=-1)]: Using backend LokyBackend with 16 concurrent workers.\n",
      "[Parallel(n_jobs=-1)]: Done  18 tasks      | elapsed:    0.2s\n",
      "[Parallel(n_jobs=-1)]: Done 159 out of 190 | elapsed:    1.3s remaining:    0.3s\n",
      "[Parallel(n_jobs=-1)]: Done 190 out of 190 | elapsed:    1.6s finished\n",
      "[Parallel(n_jobs=-1)]: Using backend LokyBackend with 16 concurrent workers.\n"
     ]
    },
    {
     "name": "stdout",
     "output_type": "stream",
     "text": [
      "\n",
      ">chr_liver bc ACEA_mrgn chems 433 descriptors 1026\n",
      "Fitting 5 folds for each of 38 candidates, totalling 190 fits\n"
     ]
    },
    {
     "name": "stderr",
     "output_type": "stream",
     "text": [
      "[Parallel(n_jobs=-1)]: Done  18 tasks      | elapsed:    0.1s\n",
      "[Parallel(n_jobs=-1)]: Done 159 out of 190 | elapsed:    0.6s remaining:    0.1s\n",
      "[Parallel(n_jobs=-1)]: Done 190 out of 190 | elapsed:    0.7s finished\n"
     ]
    },
    {
     "name": "stdout",
     "output_type": "stream",
     "text": [
      "\n",
      ">chr_liver bc APR_mrgn chems 433 descriptors 1084\n",
      "Fitting 5 folds for each of 38 candidates, totalling 190 fits\n"
     ]
    },
    {
     "name": "stderr",
     "output_type": "stream",
     "text": [
      "[Parallel(n_jobs=-1)]: Using backend LokyBackend with 16 concurrent workers.\n",
      "[Parallel(n_jobs=-1)]: Done  18 tasks      | elapsed:    0.1s\n",
      "[Parallel(n_jobs=-1)]: Done 190 out of 190 | elapsed:    0.7s finished\n",
      "[Parallel(n_jobs=-1)]: Using backend LokyBackend with 16 concurrent workers.\n"
     ]
    },
    {
     "name": "stdout",
     "output_type": "stream",
     "text": [
      "\n",
      ">chr_liver bc ATG_mrgn chems 433 descriptors 1107\n",
      "Fitting 5 folds for each of 38 candidates, totalling 190 fits\n"
     ]
    },
    {
     "name": "stderr",
     "output_type": "stream",
     "text": [
      "[Parallel(n_jobs=-1)]: Done  18 tasks      | elapsed:    0.1s\n",
      "[Parallel(n_jobs=-1)]: Done 159 out of 190 | elapsed:    0.6s remaining:    0.1s\n",
      "[Parallel(n_jobs=-1)]: Done 190 out of 190 | elapsed:    0.7s finished\n"
     ]
    },
    {
     "name": "stdout",
     "output_type": "stream",
     "text": [
      "\n",
      ">chr_liver bc BSK_mrgn chems 433 descriptors 1198\n",
      "Fitting 5 folds for each of 38 candidates, totalling 190 fits\n"
     ]
    },
    {
     "name": "stderr",
     "output_type": "stream",
     "text": [
      "[Parallel(n_jobs=-1)]: Using backend LokyBackend with 16 concurrent workers.\n",
      "[Parallel(n_jobs=-1)]: Done  18 tasks      | elapsed:    0.1s\n",
      "[Parallel(n_jobs=-1)]: Done 190 out of 190 | elapsed:    0.8s finished\n",
      "[Parallel(n_jobs=-1)]: Using backend LokyBackend with 16 concurrent workers.\n"
     ]
    },
    {
     "name": "stdout",
     "output_type": "stream",
     "text": [
      "\n",
      ">chr_liver bc NVS_mrgn chems 433 descriptors 1444\n",
      "Fitting 5 folds for each of 38 candidates, totalling 190 fits\n"
     ]
    },
    {
     "name": "stderr",
     "output_type": "stream",
     "text": [
      "[Parallel(n_jobs=-1)]: Done  18 tasks      | elapsed:    0.1s\n",
      "[Parallel(n_jobs=-1)]: Done 190 out of 190 | elapsed:    0.9s finished\n",
      "[Parallel(n_jobs=-1)]: Using backend LokyBackend with 16 concurrent workers.\n"
     ]
    },
    {
     "name": "stdout",
     "output_type": "stream",
     "text": [
      "\n",
      ">chr_liver bc OT_mrgn chems 433 descriptors 1041\n",
      "Fitting 5 folds for each of 38 candidates, totalling 190 fits\n"
     ]
    },
    {
     "name": "stderr",
     "output_type": "stream",
     "text": [
      "[Parallel(n_jobs=-1)]: Done  18 tasks      | elapsed:    0.1s\n",
      "[Parallel(n_jobs=-1)]: Done 159 out of 190 | elapsed:    0.6s remaining:    0.1s\n",
      "[Parallel(n_jobs=-1)]: Done 190 out of 190 | elapsed:    0.7s finished\n",
      "[Parallel(n_jobs=-1)]: Using backend LokyBackend with 16 concurrent workers.\n"
     ]
    },
    {
     "name": "stdout",
     "output_type": "stream",
     "text": [
      "\n",
      ">chr_liver bc Tox21_mrgn chems 433 descriptors 1089\n",
      "Fitting 5 folds for each of 38 candidates, totalling 190 fits\n"
     ]
    },
    {
     "name": "stderr",
     "output_type": "stream",
     "text": [
      "[Parallel(n_jobs=-1)]: Done  18 tasks      | elapsed:    0.1s\n",
      "[Parallel(n_jobs=-1)]: Done 159 out of 190 | elapsed:    0.6s remaining:    0.1s\n",
      "[Parallel(n_jobs=-1)]: Done 190 out of 190 | elapsed:    0.7s finished\n",
      "[Parallel(n_jobs=-1)]: Using backend LokyBackend with 16 concurrent workers.\n"
     ]
    },
    {
     "name": "stdout",
     "output_type": "stream",
     "text": [
      "\n",
      ">chr_liver bc all_mrgn chems 433 descriptors 1845\n",
      "Fitting 5 folds for each of 38 candidates, totalling 190 fits\n"
     ]
    },
    {
     "name": "stderr",
     "output_type": "stream",
     "text": [
      "[Parallel(n_jobs=-1)]: Done  18 tasks      | elapsed:    0.1s\n",
      "[Parallel(n_jobs=-1)]: Done 159 out of 190 | elapsed:    0.9s remaining:    0.2s\n",
      "[Parallel(n_jobs=-1)]: Done 190 out of 190 | elapsed:    1.1s finished\n",
      "[Parallel(n_jobs=-1)]: Using backend LokyBackend with 16 concurrent workers.\n"
     ]
    },
    {
     "name": "stdout",
     "output_type": "stream",
     "text": [
      "\n",
      ">chr_liver bc ACEA_mccs chems 433 descriptors 169\n",
      "Fitting 5 folds for each of 38 candidates, totalling 190 fits\n"
     ]
    },
    {
     "name": "stderr",
     "output_type": "stream",
     "text": [
      "[Parallel(n_jobs=-1)]: Done  18 tasks      | elapsed:    0.1s\n",
      "[Parallel(n_jobs=-1)]: Done 159 out of 190 | elapsed:    0.3s remaining:    0.1s\n",
      "[Parallel(n_jobs=-1)]: Done 190 out of 190 | elapsed:    0.4s finished\n",
      "[Parallel(n_jobs=-1)]: Using backend LokyBackend with 16 concurrent workers.\n",
      "[Parallel(n_jobs=-1)]: Done  18 tasks      | elapsed:    0.1s\n"
     ]
    },
    {
     "name": "stdout",
     "output_type": "stream",
     "text": [
      "\n",
      ">chr_liver bc APR_mccs chems 433 descriptors 227\n",
      "Fitting 5 folds for each of 38 candidates, totalling 190 fits\n"
     ]
    },
    {
     "name": "stderr",
     "output_type": "stream",
     "text": [
      "[Parallel(n_jobs=-1)]: Done 190 out of 190 | elapsed:    0.4s finished\n",
      "[Parallel(n_jobs=-1)]: Using backend LokyBackend with 16 concurrent workers.\n",
      "[Parallel(n_jobs=-1)]: Done  18 tasks      | elapsed:    0.1s\n"
     ]
    },
    {
     "name": "stdout",
     "output_type": "stream",
     "text": [
      "\n",
      ">chr_liver bc ATG_mccs chems 433 descriptors 250\n",
      "Fitting 5 folds for each of 38 candidates, totalling 190 fits\n"
     ]
    },
    {
     "name": "stderr",
     "output_type": "stream",
     "text": [
      "[Parallel(n_jobs=-1)]: Done 190 out of 190 | elapsed:    0.4s finished\n",
      "[Parallel(n_jobs=-1)]: Using backend LokyBackend with 16 concurrent workers.\n"
     ]
    },
    {
     "name": "stdout",
     "output_type": "stream",
     "text": [
      "\n",
      ">chr_liver bc BSK_mccs chems 433 descriptors 341\n",
      "Fitting 5 folds for each of 38 candidates, totalling 190 fits\n"
     ]
    },
    {
     "name": "stderr",
     "output_type": "stream",
     "text": [
      "[Parallel(n_jobs=-1)]: Done  18 tasks      | elapsed:    0.2s\n",
      "[Parallel(n_jobs=-1)]: Done 159 out of 190 | elapsed:    0.5s remaining:    0.1s\n",
      "[Parallel(n_jobs=-1)]: Done 190 out of 190 | elapsed:    0.6s finished\n",
      "[Parallel(n_jobs=-1)]: Using backend LokyBackend with 16 concurrent workers.\n",
      "[Parallel(n_jobs=-1)]: Done  18 tasks      | elapsed:    0.1s\n"
     ]
    },
    {
     "name": "stdout",
     "output_type": "stream",
     "text": [
      "\n",
      ">chr_liver bc NVS_mccs chems 433 descriptors 587\n",
      "Fitting 5 folds for each of 38 candidates, totalling 190 fits\n"
     ]
    },
    {
     "name": "stderr",
     "output_type": "stream",
     "text": [
      "[Parallel(n_jobs=-1)]: Done 159 out of 190 | elapsed:    0.5s remaining:    0.1s\n",
      "[Parallel(n_jobs=-1)]: Done 190 out of 190 | elapsed:    0.5s finished\n"
     ]
    },
    {
     "name": "stdout",
     "output_type": "stream",
     "text": [
      "\n",
      ">chr_liver bc OT_mccs chems 433 descriptors 184\n",
      "Fitting 5 folds for each of 38 candidates, totalling 190 fits\n"
     ]
    },
    {
     "name": "stderr",
     "output_type": "stream",
     "text": [
      "[Parallel(n_jobs=-1)]: Using backend LokyBackend with 16 concurrent workers.\n",
      "[Parallel(n_jobs=-1)]: Done  18 tasks      | elapsed:    0.1s\n",
      "[Parallel(n_jobs=-1)]: Done 190 out of 190 | elapsed:    0.4s finished\n",
      "[Parallel(n_jobs=-1)]: Using backend LokyBackend with 16 concurrent workers.\n",
      "[Parallel(n_jobs=-1)]: Done  18 tasks      | elapsed:    0.1s\n"
     ]
    },
    {
     "name": "stdout",
     "output_type": "stream",
     "text": [
      "\n",
      ">chr_liver bc Tox21_mccs chems 433 descriptors 232\n",
      "Fitting 5 folds for each of 38 candidates, totalling 190 fits\n"
     ]
    },
    {
     "name": "stderr",
     "output_type": "stream",
     "text": [
      "[Parallel(n_jobs=-1)]: Done 190 out of 190 | elapsed:    0.4s finished\n",
      "[Parallel(n_jobs=-1)]: Using backend LokyBackend with 16 concurrent workers.\n",
      "[Parallel(n_jobs=-1)]: Done  18 tasks      | elapsed:    0.1s\n"
     ]
    },
    {
     "name": "stdout",
     "output_type": "stream",
     "text": [
      "\n",
      ">chr_liver bc all_mccs chems 433 descriptors 988\n",
      "Fitting 5 folds for each of 38 candidates, totalling 190 fits\n"
     ]
    },
    {
     "name": "stderr",
     "output_type": "stream",
     "text": [
      "[Parallel(n_jobs=-1)]: Done 159 out of 190 | elapsed:    0.6s remaining:    0.1s\n",
      "[Parallel(n_jobs=-1)]: Done 190 out of 190 | elapsed:    0.7s finished\n"
     ]
    },
    {
     "name": "stdout",
     "output_type": "stream",
     "text": [
      "\n",
      ">chr_liver bc ACEA_all chems 433 descriptors 3241\n",
      "Fitting 5 folds for each of 38 candidates, totalling 190 fits\n"
     ]
    },
    {
     "name": "stderr",
     "output_type": "stream",
     "text": [
      "[Parallel(n_jobs=-1)]: Using backend LokyBackend with 16 concurrent workers.\n",
      "[Parallel(n_jobs=-1)]: Done  18 tasks      | elapsed:    0.2s\n",
      "[Parallel(n_jobs=-1)]: Done 159 out of 190 | elapsed:    1.5s remaining:    0.3s\n",
      "[Parallel(n_jobs=-1)]: Done 190 out of 190 | elapsed:    1.8s finished\n",
      "[Parallel(n_jobs=-1)]: Using backend LokyBackend with 16 concurrent workers.\n"
     ]
    },
    {
     "name": "stdout",
     "output_type": "stream",
     "text": [
      "\n",
      ">chr_liver bc APR_all chems 433 descriptors 3299\n",
      "Fitting 5 folds for each of 38 candidates, totalling 190 fits\n"
     ]
    },
    {
     "name": "stderr",
     "output_type": "stream",
     "text": [
      "[Parallel(n_jobs=-1)]: Done  18 tasks      | elapsed:    0.2s\n",
      "[Parallel(n_jobs=-1)]: Done 190 out of 190 | elapsed:    1.8s finished\n",
      "[Parallel(n_jobs=-1)]: Using backend LokyBackend with 16 concurrent workers.\n"
     ]
    },
    {
     "name": "stdout",
     "output_type": "stream",
     "text": [
      "\n",
      ">chr_liver bc ATG_all chems 433 descriptors 3322\n",
      "Fitting 5 folds for each of 38 candidates, totalling 190 fits\n"
     ]
    },
    {
     "name": "stderr",
     "output_type": "stream",
     "text": [
      "[Parallel(n_jobs=-1)]: Done  18 tasks      | elapsed:    0.2s\n",
      "[Parallel(n_jobs=-1)]: Done 159 out of 190 | elapsed:    1.5s remaining:    0.3s\n",
      "[Parallel(n_jobs=-1)]: Done 190 out of 190 | elapsed:    1.8s finished\n",
      "[Parallel(n_jobs=-1)]: Using backend LokyBackend with 16 concurrent workers.\n"
     ]
    },
    {
     "name": "stdout",
     "output_type": "stream",
     "text": [
      "\n",
      ">chr_liver bc BSK_all chems 433 descriptors 3413\n",
      "Fitting 5 folds for each of 38 candidates, totalling 190 fits\n"
     ]
    },
    {
     "name": "stderr",
     "output_type": "stream",
     "text": [
      "[Parallel(n_jobs=-1)]: Done  18 tasks      | elapsed:    0.2s\n",
      "[Parallel(n_jobs=-1)]: Done 159 out of 190 | elapsed:    1.5s remaining:    0.3s\n",
      "[Parallel(n_jobs=-1)]: Done 190 out of 190 | elapsed:    1.9s finished\n",
      "[Parallel(n_jobs=-1)]: Using backend LokyBackend with 16 concurrent workers.\n"
     ]
    },
    {
     "name": "stdout",
     "output_type": "stream",
     "text": [
      "\n",
      ">chr_liver bc NVS_all chems 433 descriptors 3659\n",
      "Fitting 5 folds for each of 38 candidates, totalling 190 fits\n"
     ]
    },
    {
     "name": "stderr",
     "output_type": "stream",
     "text": [
      "[Parallel(n_jobs=-1)]: Done  18 tasks      | elapsed:    0.2s\n",
      "[Parallel(n_jobs=-1)]: Done 159 out of 190 | elapsed:    1.6s remaining:    0.3s\n",
      "[Parallel(n_jobs=-1)]: Done 190 out of 190 | elapsed:    2.0s finished\n",
      "[Parallel(n_jobs=-1)]: Using backend LokyBackend with 16 concurrent workers.\n"
     ]
    },
    {
     "name": "stdout",
     "output_type": "stream",
     "text": [
      "\n",
      ">chr_liver bc OT_all chems 433 descriptors 3256\n",
      "Fitting 5 folds for each of 38 candidates, totalling 190 fits\n"
     ]
    },
    {
     "name": "stderr",
     "output_type": "stream",
     "text": [
      "[Parallel(n_jobs=-1)]: Done  18 tasks      | elapsed:    0.2s\n",
      "[Parallel(n_jobs=-1)]: Done 190 out of 190 | elapsed:    1.8s finished\n",
      "[Parallel(n_jobs=-1)]: Using backend LokyBackend with 16 concurrent workers.\n"
     ]
    },
    {
     "name": "stdout",
     "output_type": "stream",
     "text": [
      "\n",
      ">chr_liver bc Tox21_all chems 433 descriptors 3304\n",
      "Fitting 5 folds for each of 38 candidates, totalling 190 fits\n"
     ]
    },
    {
     "name": "stderr",
     "output_type": "stream",
     "text": [
      "[Parallel(n_jobs=-1)]: Done  18 tasks      | elapsed:    0.2s\n",
      "[Parallel(n_jobs=-1)]: Done 159 out of 190 | elapsed:    1.4s remaining:    0.3s\n",
      "[Parallel(n_jobs=-1)]: Done 190 out of 190 | elapsed:    1.7s finished\n",
      "[Parallel(n_jobs=-1)]: Using backend LokyBackend with 16 concurrent workers.\n"
     ]
    },
    {
     "name": "stdout",
     "output_type": "stream",
     "text": [
      "\n",
      ">chr_liver bc all_all chems 433 descriptors 4060\n",
      "Fitting 5 folds for each of 38 candidates, totalling 190 fits\n"
     ]
    },
    {
     "name": "stderr",
     "output_type": "stream",
     "text": [
      "[Parallel(n_jobs=-1)]: Done  18 tasks      | elapsed:    0.3s\n",
      "[Parallel(n_jobs=-1)]: Done 159 out of 190 | elapsed:    1.8s remaining:    0.3s\n",
      "[Parallel(n_jobs=-1)]: Done 190 out of 190 | elapsed:    2.2s finished\n"
     ]
    }
   ],
   "source": [
    "from genra.rax.skl.cls import GenRAPredClass\n",
    "from sklearn.metrics import make_scorer,f1_score\n",
    "from sklearn.model_selection import GridSearchCV\n",
    "import seaborn as sns\n",
    "from datetime import datetime\n",
    "\n",
    "GC = GenRAPredClass(algorithm='brute')\n",
    "GS = GridSearchCV(estimator=GC,param_grid=params,\n",
    "                  n_jobs=-1,cv=5,verbose=1,\n",
    "                  scoring=make_scorer(f1_score))\n",
    "params={'n_neighbors': range(1,20),\n",
    "        'metric':['euclidean','jaccard']\n",
    "       }\n",
    "\n",
    "t_i = datetime.now()\n",
    "Res = []\n",
    "tox_i = 'chr_liver'\n",
    "for dt_i, st_i in [(i,j) for i in ['chm', 'bio', 'bc'] for j in DATA[i].keys()]:\n",
    "    X_i,Y_i = getData(tox_i,dt=dt_i,st=st_i,Data=DATA)\n",
    "    print(\"\\n>{} {} {} chems {} descriptors {}\".format(tox_i,dt_i,st_i,X_i.shape[0],X_i.shape[1]))\n",
    "    try:\n",
    "        Best_i=GS.fit(X_i,Y_i)\n",
    "    except:\n",
    "        print(\" Failed ...\")\n",
    "    else:\n",
    "        P = pd.DataFrame(Best_i.cv_results_['params'])\n",
    "        P.insert(0,'tox',tox_i)\n",
    "        P.insert(1,'dt',dt_i)\n",
    "        P.insert(2,'st',st_i)\n",
    "        P.insert(3,'score_mn',Best_i.cv_results_['mean_test_score'])\n",
    "        P.insert(4,'score_std',Best_i.cv_results_['std_test_score'])\n",
    "        Res.append(P)\n",
    "t_f = datetime.now()\n",
    "Perf = pd.concat(Res)"
   ]
  },
  {
   "cell_type": "code",
   "execution_count": 16,
   "metadata": {},
   "outputs": [
    {
     "data": {
      "text/plain": [
       "datetime.timedelta(seconds=46, microseconds=181401)"
      ]
     },
     "execution_count": 16,
     "metadata": {},
     "output_type": "execute_result"
    }
   ],
   "source": [
    "t_f-t_i"
   ]
  },
  {
   "cell_type": "code",
   "execution_count": 19,
   "metadata": {},
   "outputs": [
    {
     "data": {
      "text/html": [
       "<div>\n",
       "<style scoped>\n",
       "    .dataframe tbody tr th:only-of-type {\n",
       "        vertical-align: middle;\n",
       "    }\n",
       "\n",
       "    .dataframe tbody tr th {\n",
       "        vertical-align: top;\n",
       "    }\n",
       "\n",
       "    .dataframe thead th {\n",
       "        text-align: right;\n",
       "    }\n",
       "</style>\n",
       "<table border=\"1\" class=\"dataframe\">\n",
       "  <thead>\n",
       "    <tr style=\"text-align: right;\">\n",
       "      <th></th>\n",
       "      <th>tox</th>\n",
       "      <th>dt</th>\n",
       "      <th>st</th>\n",
       "      <th>score_mn</th>\n",
       "      <th>score_std</th>\n",
       "      <th>metric</th>\n",
       "      <th>n_neighbors</th>\n",
       "    </tr>\n",
       "  </thead>\n",
       "  <tbody>\n",
       "    <tr>\n",
       "      <th>0</th>\n",
       "      <td>chr_liver</td>\n",
       "      <td>chm</td>\n",
       "      <td>mrgn</td>\n",
       "      <td>0.707613</td>\n",
       "      <td>0.113064</td>\n",
       "      <td>euclidean</td>\n",
       "      <td>1</td>\n",
       "    </tr>\n",
       "    <tr>\n",
       "      <th>1</th>\n",
       "      <td>chr_liver</td>\n",
       "      <td>chm</td>\n",
       "      <td>mrgn</td>\n",
       "      <td>0.501596</td>\n",
       "      <td>0.127632</td>\n",
       "      <td>euclidean</td>\n",
       "      <td>2</td>\n",
       "    </tr>\n",
       "    <tr>\n",
       "      <th>2</th>\n",
       "      <td>chr_liver</td>\n",
       "      <td>chm</td>\n",
       "      <td>mrgn</td>\n",
       "      <td>0.696497</td>\n",
       "      <td>0.143771</td>\n",
       "      <td>euclidean</td>\n",
       "      <td>3</td>\n",
       "    </tr>\n",
       "    <tr>\n",
       "      <th>3</th>\n",
       "      <td>chr_liver</td>\n",
       "      <td>chm</td>\n",
       "      <td>mrgn</td>\n",
       "      <td>0.580404</td>\n",
       "      <td>0.167306</td>\n",
       "      <td>euclidean</td>\n",
       "      <td>4</td>\n",
       "    </tr>\n",
       "    <tr>\n",
       "      <th>4</th>\n",
       "      <td>chr_liver</td>\n",
       "      <td>chm</td>\n",
       "      <td>mrgn</td>\n",
       "      <td>0.685377</td>\n",
       "      <td>0.193191</td>\n",
       "      <td>euclidean</td>\n",
       "      <td>5</td>\n",
       "    </tr>\n",
       "  </tbody>\n",
       "</table>\n",
       "</div>"
      ],
      "text/plain": [
       "         tox   dt    st  score_mn  score_std     metric  n_neighbors\n",
       "0  chr_liver  chm  mrgn  0.707613   0.113064  euclidean            1\n",
       "1  chr_liver  chm  mrgn  0.501596   0.127632  euclidean            2\n",
       "2  chr_liver  chm  mrgn  0.696497   0.143771  euclidean            3\n",
       "3  chr_liver  chm  mrgn  0.580404   0.167306  euclidean            4\n",
       "4  chr_liver  chm  mrgn  0.685377   0.193191  euclidean            5"
      ]
     },
     "execution_count": 19,
     "metadata": {},
     "output_type": "execute_result"
    }
   ],
   "source": [
    "Perf.head()"
   ]
  },
  {
   "cell_type": "code",
   "execution_count": 20,
   "metadata": {},
   "outputs": [
    {
     "data": {
      "text/plain": [
       "<seaborn.axisgrid.FacetGrid at 0x7f6020aa6e20>"
      ]
     },
     "execution_count": 20,
     "metadata": {},
     "output_type": "execute_result"
    },
    {
     "data": {
      "image/png": "[encoded data removed]",
      "text/plain": [
       "<Figure size 787.2x576 with 6 Axes>"
      ]
     },
     "metadata": {
      "needs_background": "light"
     },
     "output_type": "display_data"
    }
   ],
   "source": [
    "import seaborn as sns\n",
    "\n",
    "g=sns.FacetGrid(Perf,col='dt',row='metric',hue='st',height=4,aspect=0.8,palette='bright')\n",
    "g.map(pl.plot,'n_neighbors','score_mn')\n",
    "g.set(ylim=(0.2,1.0),xlabel='k',ylabel='$F_1$')\n",
    "g.add_legend()\n"
   ]
  },
  {
   "cell_type": "code",
   "execution_count": 21,
   "metadata": {},
   "outputs": [
    {
     "data": {
      "text/html": [
       "<div>\n",
       "<style scoped>\n",
       "    .dataframe tbody tr th:only-of-type {\n",
       "        vertical-align: middle;\n",
       "    }\n",
       "\n",
       "    .dataframe tbody tr th {\n",
       "        vertical-align: top;\n",
       "    }\n",
       "\n",
       "    .dataframe thead th {\n",
       "        text-align: right;\n",
       "    }\n",
       "</style>\n",
       "<table border=\"1\" class=\"dataframe\">\n",
       "  <thead>\n",
       "    <tr style=\"text-align: right;\">\n",
       "      <th></th>\n",
       "      <th>tox</th>\n",
       "      <th>dt</th>\n",
       "      <th>st</th>\n",
       "      <th>score_mn</th>\n",
       "      <th>score_std</th>\n",
       "      <th>metric</th>\n",
       "      <th>n_neighbors</th>\n",
       "    </tr>\n",
       "  </thead>\n",
       "  <tbody>\n",
       "    <tr>\n",
       "      <th>27</th>\n",
       "      <td>chr_liver</td>\n",
       "      <td>bc</td>\n",
       "      <td>Tox21_all</td>\n",
       "      <td>0.885896</td>\n",
       "      <td>0.007871</td>\n",
       "      <td>jaccard</td>\n",
       "      <td>9</td>\n",
       "    </tr>\n",
       "    <tr>\n",
       "      <th>29</th>\n",
       "      <td>chr_liver</td>\n",
       "      <td>bc</td>\n",
       "      <td>ACEA_mrgn</td>\n",
       "      <td>0.885441</td>\n",
       "      <td>0.004648</td>\n",
       "      <td>jaccard</td>\n",
       "      <td>11</td>\n",
       "    </tr>\n",
       "    <tr>\n",
       "      <th>32</th>\n",
       "      <td>chr_liver</td>\n",
       "      <td>bc</td>\n",
       "      <td>ATG_all</td>\n",
       "      <td>0.884871</td>\n",
       "      <td>0.002118</td>\n",
       "      <td>jaccard</td>\n",
       "      <td>14</td>\n",
       "    </tr>\n",
       "    <tr>\n",
       "      <th>35</th>\n",
       "      <td>chr_liver</td>\n",
       "      <td>bc</td>\n",
       "      <td>NVS_mrgn</td>\n",
       "      <td>0.884858</td>\n",
       "      <td>0.002793</td>\n",
       "      <td>jaccard</td>\n",
       "      <td>17</td>\n",
       "    </tr>\n",
       "    <tr>\n",
       "      <th>16</th>\n",
       "      <td>chr_liver</td>\n",
       "      <td>bc</td>\n",
       "      <td>ATG_mccs</td>\n",
       "      <td>0.884586</td>\n",
       "      <td>0.004256</td>\n",
       "      <td>euclidean</td>\n",
       "      <td>17</td>\n",
       "    </tr>\n",
       "    <tr>\n",
       "      <th>29</th>\n",
       "      <td>chr_liver</td>\n",
       "      <td>bc</td>\n",
       "      <td>APR_all</td>\n",
       "      <td>0.884552</td>\n",
       "      <td>0.005108</td>\n",
       "      <td>jaccard</td>\n",
       "      <td>11</td>\n",
       "    </tr>\n",
       "    <tr>\n",
       "      <th>33</th>\n",
       "      <td>chr_liver</td>\n",
       "      <td>bc</td>\n",
       "      <td>ACEA_mrgn</td>\n",
       "      <td>0.884550</td>\n",
       "      <td>0.003042</td>\n",
       "      <td>jaccard</td>\n",
       "      <td>15</td>\n",
       "    </tr>\n",
       "    <tr>\n",
       "      <th>36</th>\n",
       "      <td>chr_liver</td>\n",
       "      <td>bc</td>\n",
       "      <td>NVS_mrgn</td>\n",
       "      <td>0.884550</td>\n",
       "      <td>0.003042</td>\n",
       "      <td>jaccard</td>\n",
       "      <td>18</td>\n",
       "    </tr>\n",
       "    <tr>\n",
       "      <th>35</th>\n",
       "      <td>chr_liver</td>\n",
       "      <td>chm</td>\n",
       "      <td>mrgn</td>\n",
       "      <td>0.884539</td>\n",
       "      <td>0.005423</td>\n",
       "      <td>jaccard</td>\n",
       "      <td>17</td>\n",
       "    </tr>\n",
       "    <tr>\n",
       "      <th>34</th>\n",
       "      <td>chr_liver</td>\n",
       "      <td>bc</td>\n",
       "      <td>ACEA_mrgn</td>\n",
       "      <td>0.884250</td>\n",
       "      <td>0.003094</td>\n",
       "      <td>jaccard</td>\n",
       "      <td>16</td>\n",
       "    </tr>\n",
       "  </tbody>\n",
       "</table>\n",
       "</div>"
      ],
      "text/plain": [
       "          tox   dt         st  score_mn  score_std     metric  n_neighbors\n",
       "27  chr_liver   bc  Tox21_all  0.885896   0.007871    jaccard            9\n",
       "29  chr_liver   bc  ACEA_mrgn  0.885441   0.004648    jaccard           11\n",
       "32  chr_liver   bc    ATG_all  0.884871   0.002118    jaccard           14\n",
       "35  chr_liver   bc   NVS_mrgn  0.884858   0.002793    jaccard           17\n",
       "16  chr_liver   bc   ATG_mccs  0.884586   0.004256  euclidean           17\n",
       "29  chr_liver   bc    APR_all  0.884552   0.005108    jaccard           11\n",
       "33  chr_liver   bc  ACEA_mrgn  0.884550   0.003042    jaccard           15\n",
       "36  chr_liver   bc   NVS_mrgn  0.884550   0.003042    jaccard           18\n",
       "35  chr_liver  chm       mrgn  0.884539   0.005423    jaccard           17\n",
       "34  chr_liver   bc  ACEA_mrgn  0.884250   0.003094    jaccard           16"
      ]
     },
     "execution_count": 21,
     "metadata": {},
     "output_type": "execute_result"
    }
   ],
   "source": [
    "Perf.sort_values('score_mn',ascending=False).head(10)"
   ]
  },
  {
   "cell_type": "code",
   "execution_count": 22,
   "metadata": {},
   "outputs": [
    {
     "data": {
      "text/plain": [
       "<seaborn.axisgrid.FacetGrid at 0x7f5f85fdb6d0>"
      ]
     },
     "execution_count": 22,
     "metadata": {},
     "output_type": "execute_result"
    },
    {
     "data": {
      "image/png": "[encoded data removed]",
      "text/plain": [
       "<Figure size 518.3x288 with 2 Axes>"
      ]
     },
     "metadata": {
      "needs_background": "light"
     },
     "output_type": "display_data"
    }
   ],
   "source": [
    "import seaborn as sns\n",
    "\n",
    "g=sns.catplot(x='dt',y='score_mn',data=Perf,\n",
    "              kind='box',\n",
    "              col='metric',hue='dt',height=4,aspect=0.8,palette='bright')\n",
    "#g.map(pl.plot,'n_neighbors','score_mn')\n",
    "#g.set(ylim=(0.2,1.0),xlabel='k',ylabel='$F_1$')\n",
    "g.add_legend()\n"
   ]
  },
  {
   "cell_type": "markdown",
   "metadata": {},
   "source": [
    "## All tox \n",
    "\n",
    "Evaluate predictive accuracy for all toxcity endpoints with at least 20 chemicals. Investigate F1 scores for the following factors:- \n",
    "\n",
    "* k: 1 to 20\n",
    "* descriptor types: bio, chm, bc\n",
    "* descriptor subtypes"
   ]
  },
  {
   "cell_type": "code",
   "execution_count": null,
   "metadata": {
    "scrolled": true
   },
   "outputs": [],
   "source": [
    "from genra.rax.skl.cls import GenRAPredClass\n",
    "from sklearn.metrics import make_scorer,f1_score\n",
    "from sklearn.model_selection import GridSearchCV\n",
    "import seaborn as sns\n",
    "\n",
    "GC = GenRAPredClass(algorithm='brute')\n",
    "params={'n_neighbors': range(1,20),\n",
    "        'metric':['jaccard']\n",
    "       }\n",
    "GS = GridSearchCV(estimator=GC,param_grid=params,\n",
    "                  n_jobs=-1,cv=5,verbose=1,\n",
    "                  scoring=make_scorer(f1_score))\n",
    "\n",
    "Res=[]\n",
    "for tox_i,dt_i, st_i in [(h,i,j) for h in DATA.tox.all.keys() for i in ['chm', 'bio', 'bc'] for j in DATA[i].keys()]:\n",
    "    X_i,Y_i = getData(tox_i,dt=dt_i,st=st_i,Data=DATA)\n",
    "    print(\"\\n>{} {} {} chems {} descriptors {}\".format(tox_i,dt_i,st_i,X_i.shape[0],X_i.shape[1]))\n",
    "    if X_i.shape[0]<20: continue\n",
    "    try:\n",
    "        Best_i=GS.fit(X_i,Y_i)\n",
    "    except:\n",
    "        print(\" Failed ...\")\n",
    "    else:\n",
    "        P = pd.DataFrame(Best_i.cv_results_['params'])\n",
    "        P.insert(0,'tox',tox_i)\n",
    "        P.insert(1,'dt',dt_i)\n",
    "        P.insert(2,'st',st_i)\n",
    "        P.insert(3,'score_mn',Best_i.cv_results_['mean_test_score'])\n",
    "        P.insert(4,'score_std',Best_i.cv_results_['std_test_score'])\n",
    "        P.insert(5,'n_pos',(Y_i==1).sum())\n",
    "        P.insert(5,'n_neg',(Y_i==0).sum())\n",
    "        \n",
    "        Res.append(P)\n",
    "\n",
    "PERF = pd.concat(Res)"
   ]
  },
  {
   "cell_type": "code",
   "execution_count": null,
   "metadata": {},
   "outputs": [],
   "source": [
    "PERF = pd.concat(Res)\n",
    "PERF.insert(0,'study',PERF.tox.str.extract('^([^\\_]+)_'))\n",
    "PERF.head(20)"
   ]
  },
  {
   "cell_type": "code",
   "execution_count": null,
   "metadata": {},
   "outputs": [],
   "source": [
    "import seaborn as sns\n",
    "\n",
    "g=sns.catplot(x='dt',y='score_mn',data=PERF,\n",
    "              kind='strip',\n",
    "              col='study',hue='dt',height=4,aspect=0.8,palette='bright')\n",
    "#g.map(pl.plot,'n_neighbors','score_mn')\n",
    "#g.set(ylim=(0.2,1.0),xlabel='k',ylabel='$F_1$')\n",
    "g.add_legend()\n"
   ]
  },
  {
   "cell_type": "code",
   "execution_count": null,
   "metadata": {},
   "outputs": [],
   "source": [
    "R = []\n",
    "\n",
    "for tox,Pi in PERF.groupby('tox'):\n",
    "    R.append(Pi.sort_values('score_mn',ascending=False).iloc[0].to_dict())\n",
    "    \n",
    "BEST = pd.DataFrame(R)    "
   ]
  },
  {
   "cell_type": "code",
   "execution_count": null,
   "metadata": {},
   "outputs": [],
   "source": [
    "T1 = BEST.sort_values('score_mn',ascending=False).tox[:20]\n",
    "\n",
    "import seaborn as sns\n",
    "\n",
    "g=sns.FacetGrid(PERF[PERF.tox.isin(T1)],\n",
    "                col='tox',col_wrap=5,hue='dt',\n",
    "                height=3,aspect=1.0,palette='bright')\n",
    "g.map(pl.scatter,'n_neighbors','score_mn')\n",
    "g.set(ylim=(0.2,1.0),xlabel='k',ylabel='$F_1$')\n",
    "g.add_legend()\n"
   ]
  },
  {
   "cell_type": "code",
   "execution_count": null,
   "metadata": {},
   "outputs": [],
   "source": [
    "#del(DATA)"
   ]
  },
  {
   "cell_type": "code",
   "execution_count": null,
   "metadata": {},
   "outputs": [],
   "source": [
    "T1 = BEST.sort_values('score_mn',ascending=False).tox[:25]\n",
    "#T1 = BEST[BEST.tox.str.contains('liver|kidney|brain')].tox.unique()[:10]\n",
    "import seaborn as sns\n",
    "\n",
    "g=sns.lmplot(x='n_neighbors',y='score_mn',data=PERF[PERF.tox.isin(T1)],\n",
    "             col='tox',col_wrap=5,hue='dt',     \n",
    "             scatter=False,lowess=True,        \n",
    "             height=2,aspect=1.1,palette='dark')\n",
    "g.set(ylim=(0.2,1.0),xlabel='k',ylabel='$F_1$')\n",
    "g.add_legend()\n"
   ]
  },
  {
   "cell_type": "code",
   "execution_count": null,
   "metadata": {},
   "outputs": [],
   "source": [
    "import seaborn as sns\n",
    "X = PERF[PERF.tox=='dnt_clinical_chemistry']\n",
    "g=sns.lmplot(x='n_neighbors',y='score_mn',data=X,\n",
    "             col='st',col_wrap=5,hue='dt',\n",
    "             scatter=True,lowess=True,        \n",
    "             height=2,aspect=1.1,palette='dark')\n",
    "g.set(ylim=(0.0,1.0),xlabel='k',ylabel='$F_1$')\n",
    "g.add_legend()\n"
   ]
  },
  {
   "cell_type": "markdown",
   "metadata": {},
   "source": [
    "# Figures \n",
    "\n",
    "Neighbours and read-across predictions for nitrofen"
   ]
  },
  {
   "cell_type": "markdown",
   "metadata": {},
   "source": [
    "## Figure 1(a) Visualizing nearest neighbours for nitrofen"
   ]
  },
  {
   "cell_type": "code",
   "execution_count": 23,
   "metadata": {},
   "outputs": [],
   "source": [
    "CHM_info = CHM1_nm.reset_index().rename(columns=dict(chemical_casrn='casrn')).merge(SMI[['dtxsid','casrn','smiles']],on='casrn')#.set_index('ID')"
   ]
  },
  {
   "cell_type": "code",
   "execution_count": 24,
   "metadata": {},
   "outputs": [
    {
     "data": {
      "image/png": "[encoded data removed]",
      "text/plain": [
       "<Figure size 720x720 with 1 Axes>"
      ]
     },
     "metadata": {
      "needs_background": "light"
     },
     "output_type": "display_data"
    }
   ],
   "source": [
    "from genra.rax.viz.nn import *\n",
    "\n",
    "fig = pl.figure(figsize=(10,10))\n",
    "ax = pl.subplot(1,1,1)\n",
    "ax.set_axis_off()\n",
    "ax.set_xlim(-600,600)\n",
    "ax.set_ylim(-600,600)\n",
    "\n",
    "target_id = 'C1836755'\n",
    "GV = GenRAViewNN(rs=1.2,lw=0.2,ax=ax,th_tot=1.9*math.pi,\n",
    "                 chm_name_font_size=10,\n",
    "                   chm_sz=(180,180),r_min=200)\n",
    "GV.loadData(CHM11.mrgn,np.ones(CHM11.mrgn.shape[0]),Info=CHM_info)\n",
    "GV.draw(target_id,k=12)"
   ]
  },
  {
   "cell_type": "code",
   "execution_count": 25,
   "metadata": {},
   "outputs": [
    {
     "data": {
      "text/plain": [
       "<AxesSubplot:>"
      ]
     },
     "execution_count": 25,
     "metadata": {},
     "output_type": "execute_result"
    },
    {
     "data": {
      "image/png": "[encoded data removed]",
      "text/plain": [
       "<Figure size 432x288 with 1 Axes>"
      ]
     },
     "metadata": {
      "needs_background": "light"
     },
     "output_type": "display_data"
    }
   ],
   "source": [
    "I = TOX1.index.intersection(GV._NNi.ID)\n",
    "T1 = TOX1.loc[I]#.replace({0:np.nan})\n",
    "T1[T1>0]=1\n",
    "N1 = (T1>0).sum().sort_values(ascending=False)\n",
    "N2 = (T1>0).sum(axis=1).sort_values(ascending=False)\n",
    "\n",
    "T2 = T1[N1.index[:30]]\n",
    "T2.T\n",
    "N2.hist(bins=12,rwidth=0.9)"
   ]
  },
  {
   "cell_type": "code",
   "execution_count": null,
   "metadata": {},
   "outputs": [],
   "source": [
    "N2"
   ]
  },
  {
   "cell_type": "markdown",
   "metadata": {},
   "source": [
    "## Predict toxicity classifications for target"
   ]
  },
  {
   "cell_type": "code",
   "execution_count": 26,
   "metadata": {
    "scrolled": true
   },
   "outputs": [
    {
     "name": "stdout",
     "output_type": "stream",
     "text": [
      "\n",
      ">chr_body_weight chm mrgn chems 433 descriptors 1024\n",
      "\n",
      ">chr_hematology chm mrgn chems 433 descriptors 1024\n",
      "\n",
      ">chr_clinical_chemistry chm mrgn chems 433 descriptors 1024\n",
      "\n",
      ">chr_liver chm mrgn chems 433 descriptors 1024\n",
      "\n",
      ">chr_kidney chm mrgn chems 433 descriptors 1024\n",
      "\n",
      ">dev_body_weight chm mrgn chems 430 descriptors 1024\n",
      "\n",
      ">dev_reproductive_performance chm mrgn chems 430 descriptors 1024\n",
      "\n",
      ">dev_bone chm mrgn chems 430 descriptors 1024\n",
      "\n",
      ">chr_mortality chm mrgn chems 433 descriptors 1024\n",
      "\n",
      ">dev_clinical_signs chm mrgn chems 430 descriptors 1024\n",
      "\n",
      ">chr_lung chm mrgn chems 433 descriptors 1024\n",
      "\n",
      ">dev_food_consumption chm mrgn chems 430 descriptors 1024\n",
      "\n",
      ">chr_testes chm mrgn chems 433 descriptors 1024\n",
      "\n",
      ">chr_food_consumption chm mrgn chems 433 descriptors 1024\n",
      "\n",
      ">chr_clinical_signs chm mrgn chems 433 descriptors 1024\n",
      "\n",
      ">dev_offspring_survival-early chm mrgn chems 430 descriptors 1024\n",
      "\n",
      ">chr_spleen chm mrgn chems 433 descriptors 1024\n",
      "\n",
      ">chr_heart chm mrgn chems 433 descriptors 1024\n",
      "\n",
      ">dev_maternal_wastage chm mrgn chems 430 descriptors 1024\n",
      "\n",
      ">chr_eye chm mrgn chems 433 descriptors 1024\n",
      "\n",
      ">chr_ovary chm mrgn chems 433 descriptors 1024\n",
      "\n",
      ">chr_adrenal_gland chm mrgn chems 433 descriptors 1024\n",
      "\n",
      ">chr_thyroid_gland chm mrgn chems 433 descriptors 1024\n",
      "\n",
      ">mgr_adrenal_gland chm mrgn chems 348 descriptors 1024\n",
      "\n",
      ">dnt_clinical_signs chm mrgn chems 81 descriptors 1024\n",
      "\n",
      ">chr_urinalysis chm mrgn chems 433 descriptors 1024\n",
      "\n",
      ">mgr_age_landmark chm mrgn chems 348 descriptors 1024\n",
      "\n",
      ">dev_[not_in_list] chm mrgn chems 430 descriptors 1024\n",
      "\n",
      ">chr_blood chm mrgn chems 433 descriptors 1024\n",
      "\n",
      ">chr_bone_marrow chm mrgn chems 433 descriptors 1024\n"
     ]
    }
   ],
   "source": [
    "from genra.rax.skl.cls import GenRAPredClass\n",
    "from sklearn.model_selection import cross_validate\n",
    "from sklearn.metrics import make_scorer,f1_score,precision_score,recall_score,roc_auc_score\n",
    "from sklearn.model_selection import GridSearchCV\n",
    "import seaborn as sns\n",
    "\n",
    "Scorers = dict(f1_score=make_scorer(f1_score),\n",
    "              precision_score= make_scorer(precision_score),\n",
    "              recall_score= make_scorer(recall_score),\n",
    "              roc_auc=make_scorer(roc_auc_score))\n",
    "\n",
    "\n",
    "\n",
    "Res = []\n",
    "dt_i = 'chm'\n",
    "st_i = 'mrgn'\n",
    "k = 10\n",
    "GP = GenRAPredClass(n_neighbors=k,metric='jaccard',n_jobs=-1)\n",
    "X_t = DATA.chm.mrgn.loc[target_id]\n",
    "for tox_i in N1.index[:30]:\n",
    "    X_i,Y_i = getData(tox_i,dt=dt_i,st=st_i,Data=DATA)\n",
    "    print(\"\\n>{} {} {} chems {} descriptors {}\".format(tox_i,dt_i,st_i,X_i.shape[0],X_i.shape[1]))\n",
    "\n",
    "    P = pd.DataFrame(cross_validate(GP,X_i,Y_i,cv=5,scoring=Scorers))\n",
    "    GP.fit(X_i,Y_i)    \n",
    "    Y_t = GP.predict([X_t])\n",
    "    R = P.mean().to_dict()\n",
    "    R.update(dict(tox=tox_i,dt=dt_i,st=st_i,pred=Y_t[0]))\n",
    "    Res.append(R)\n",
    "    \n"
   ]
  },
  {
   "cell_type": "code",
   "execution_count": 27,
   "metadata": {},
   "outputs": [
    {
     "data": {
      "text/html": [
       "<div>\n",
       "<style scoped>\n",
       "    .dataframe tbody tr th:only-of-type {\n",
       "        vertical-align: middle;\n",
       "    }\n",
       "\n",
       "    .dataframe tbody tr th {\n",
       "        vertical-align: top;\n",
       "    }\n",
       "\n",
       "    .dataframe thead th {\n",
       "        text-align: right;\n",
       "    }\n",
       "</style>\n",
       "<table border=\"1\" class=\"dataframe\">\n",
       "  <thead>\n",
       "    <tr style=\"text-align: right;\">\n",
       "      <th></th>\n",
       "      <th>fit_time</th>\n",
       "      <th>score_time</th>\n",
       "      <th>test_f1_score</th>\n",
       "      <th>test_precision_score</th>\n",
       "      <th>test_recall_score</th>\n",
       "      <th>test_roc_auc</th>\n",
       "      <th>tox</th>\n",
       "      <th>dt</th>\n",
       "      <th>st</th>\n",
       "      <th>pred</th>\n",
       "    </tr>\n",
       "  </thead>\n",
       "  <tbody>\n",
       "    <tr>\n",
       "      <th>0</th>\n",
       "      <td>0.021341</td>\n",
       "      <td>0.174786</td>\n",
       "      <td>0.951572</td>\n",
       "      <td>0.907618</td>\n",
       "      <td>1.000000</td>\n",
       "      <td>0.500000</td>\n",
       "      <td>chr_body_weight</td>\n",
       "      <td>chm</td>\n",
       "      <td>mrgn</td>\n",
       "      <td>1</td>\n",
       "    </tr>\n",
       "    <tr>\n",
       "      <th>3</th>\n",
       "      <td>0.019897</td>\n",
       "      <td>0.165846</td>\n",
       "      <td>0.874117</td>\n",
       "      <td>0.799315</td>\n",
       "      <td>0.964919</td>\n",
       "      <td>0.525734</td>\n",
       "      <td>chr_liver</td>\n",
       "      <td>chm</td>\n",
       "      <td>mrgn</td>\n",
       "      <td>1</td>\n",
       "    </tr>\n",
       "    <tr>\n",
       "      <th>11</th>\n",
       "      <td>0.021950</td>\n",
       "      <td>0.147397</td>\n",
       "      <td>0.767957</td>\n",
       "      <td>0.699490</td>\n",
       "      <td>0.852671</td>\n",
       "      <td>0.474335</td>\n",
       "      <td>dev_food_consumption</td>\n",
       "      <td>chm</td>\n",
       "      <td>mrgn</td>\n",
       "      <td>1</td>\n",
       "    </tr>\n",
       "    <tr>\n",
       "      <th>7</th>\n",
       "      <td>0.020113</td>\n",
       "      <td>0.164542</td>\n",
       "      <td>0.635754</td>\n",
       "      <td>0.624363</td>\n",
       "      <td>0.657306</td>\n",
       "      <td>0.556431</td>\n",
       "      <td>dev_bone</td>\n",
       "      <td>chm</td>\n",
       "      <td>mrgn</td>\n",
       "      <td>1</td>\n",
       "    </tr>\n",
       "    <tr>\n",
       "      <th>24</th>\n",
       "      <td>0.009128</td>\n",
       "      <td>0.050872</td>\n",
       "      <td>0.601128</td>\n",
       "      <td>0.551111</td>\n",
       "      <td>0.677778</td>\n",
       "      <td>0.481746</td>\n",
       "      <td>dnt_clinical_signs</td>\n",
       "      <td>chm</td>\n",
       "      <td>mrgn</td>\n",
       "      <td>1</td>\n",
       "    </tr>\n",
       "    <tr>\n",
       "      <th>14</th>\n",
       "      <td>0.020793</td>\n",
       "      <td>0.161538</td>\n",
       "      <td>0.568509</td>\n",
       "      <td>0.596401</td>\n",
       "      <td>0.548227</td>\n",
       "      <td>0.544559</td>\n",
       "      <td>chr_clinical_signs</td>\n",
       "      <td>chm</td>\n",
       "      <td>mrgn</td>\n",
       "      <td>0</td>\n",
       "    </tr>\n",
       "    <tr>\n",
       "      <th>6</th>\n",
       "      <td>0.021226</td>\n",
       "      <td>0.170949</td>\n",
       "      <td>0.464108</td>\n",
       "      <td>0.523033</td>\n",
       "      <td>0.422222</td>\n",
       "      <td>0.506233</td>\n",
       "      <td>dev_reproductive_performance</td>\n",
       "      <td>chm</td>\n",
       "      <td>mrgn</td>\n",
       "      <td>1</td>\n",
       "    </tr>\n",
       "    <tr>\n",
       "      <th>8</th>\n",
       "      <td>0.023873</td>\n",
       "      <td>0.141430</td>\n",
       "      <td>0.294420</td>\n",
       "      <td>0.390052</td>\n",
       "      <td>0.237692</td>\n",
       "      <td>0.459272</td>\n",
       "      <td>chr_mortality</td>\n",
       "      <td>chm</td>\n",
       "      <td>mrgn</td>\n",
       "      <td>0</td>\n",
       "    </tr>\n",
       "    <tr>\n",
       "      <th>13</th>\n",
       "      <td>0.023549</td>\n",
       "      <td>0.143552</td>\n",
       "      <td>0.270158</td>\n",
       "      <td>0.508046</td>\n",
       "      <td>0.194286</td>\n",
       "      <td>0.517392</td>\n",
       "      <td>chr_food_consumption</td>\n",
       "      <td>chm</td>\n",
       "      <td>mrgn</td>\n",
       "      <td>0</td>\n",
       "    </tr>\n",
       "    <tr>\n",
       "      <th>18</th>\n",
       "      <td>0.021301</td>\n",
       "      <td>0.169968</td>\n",
       "      <td>0.265988</td>\n",
       "      <td>0.486464</td>\n",
       "      <td>0.192540</td>\n",
       "      <td>0.536001</td>\n",
       "      <td>dev_maternal_wastage</td>\n",
       "      <td>chm</td>\n",
       "      <td>mrgn</td>\n",
       "      <td>0</td>\n",
       "    </tr>\n",
       "  </tbody>\n",
       "</table>\n",
       "</div>"
      ],
      "text/plain": [
       "    fit_time  score_time  test_f1_score  test_precision_score  \\\n",
       "0   0.021341    0.174786       0.951572              0.907618   \n",
       "3   0.019897    0.165846       0.874117              0.799315   \n",
       "11  0.021950    0.147397       0.767957              0.699490   \n",
       "7   0.020113    0.164542       0.635754              0.624363   \n",
       "24  0.009128    0.050872       0.601128              0.551111   \n",
       "14  0.020793    0.161538       0.568509              0.596401   \n",
       "6   0.021226    0.170949       0.464108              0.523033   \n",
       "8   0.023873    0.141430       0.294420              0.390052   \n",
       "13  0.023549    0.143552       0.270158              0.508046   \n",
       "18  0.021301    0.169968       0.265988              0.486464   \n",
       "\n",
       "    test_recall_score  test_roc_auc                           tox   dt    st  \\\n",
       "0            1.000000      0.500000               chr_body_weight  chm  mrgn   \n",
       "3            0.964919      0.525734                     chr_liver  chm  mrgn   \n",
       "11           0.852671      0.474335          dev_food_consumption  chm  mrgn   \n",
       "7            0.657306      0.556431                      dev_bone  chm  mrgn   \n",
       "24           0.677778      0.481746            dnt_clinical_signs  chm  mrgn   \n",
       "14           0.548227      0.544559            chr_clinical_signs  chm  mrgn   \n",
       "6            0.422222      0.506233  dev_reproductive_performance  chm  mrgn   \n",
       "8            0.237692      0.459272                 chr_mortality  chm  mrgn   \n",
       "13           0.194286      0.517392          chr_food_consumption  chm  mrgn   \n",
       "18           0.192540      0.536001          dev_maternal_wastage  chm  mrgn   \n",
       "\n",
       "    pred  \n",
       "0      1  \n",
       "3      1  \n",
       "11     1  \n",
       "7      1  \n",
       "24     1  \n",
       "14     0  \n",
       "6      1  \n",
       "8      0  \n",
       "13     0  \n",
       "18     0  "
      ]
     },
     "execution_count": 27,
     "metadata": {},
     "output_type": "execute_result"
    }
   ],
   "source": [
    "Perf = pd.DataFrame(Res).sort_values('test_f1_score',ascending=False)\n",
    "I = [1,2,5,8,9,10,11,12,13,14]\n",
    "Perf.iloc[I]"
   ]
  },
  {
   "cell_type": "code",
   "execution_count": 28,
   "metadata": {},
   "outputs": [],
   "source": [
    "\n",
    "P_target=Perf[['tox','pred','test_f1_score']].set_index('tox')\n",
    "T2.loc[target_id] = P_target.loc[T2.columns].pred\n",
    "T2 = pd.concat((T2.iloc[[-1],:],T2.iloc[:-1,:]))\n"
   ]
  },
  {
   "cell_type": "markdown",
   "metadata": {},
   "source": [
    "## Figure 1(b): Visualizing hazard classes & predictions for nitrofen "
   ]
  },
  {
   "cell_type": "code",
   "execution_count": 29,
   "metadata": {},
   "outputs": [
    {
     "data": {
      "text/plain": [
       "[Text(0.5, 15.0, '')]"
      ]
     },
     "execution_count": 29,
     "metadata": {},
     "output_type": "execute_result"
    },
    {
     "data": {
      "image/png": "[encoded data removed]",
      "text/plain": [
       "<Figure size 432x288 with 2 Axes>"
      ]
     },
     "metadata": {
      "needs_background": "light"
     },
     "output_type": "display_data"
    }
   ],
   "source": [
    "T3 = T2[N1.index[:10]].loc[[i for i in GV._NNi.ID if i in T2.index]].reset_index()\\\n",
    "                .merge(CHM_info[['ID','chemical_name']],on='ID').drop('ID',axis=1)\\\n",
    "                .set_index('chemical_name')\n",
    "T3 = T3.drop('1-Chloro-4-nitrobenzene',axis=0).T\n",
    "T3.rename(columns=dict(Nitrofen='Nitrofen (predicted)'),inplace=True)\n",
    "#A3 = pd.DataFrame(np.zeros(T3.shape),index=T3.index,columns=T3.columns)\n",
    "#A3['Nitrofen'] = \n",
    "g = sns.heatmap(T3,lw=1,cmap=cm.Greys,vmax=2,cbar=False,square=True)\n",
    "n = T3.shape[0]\n",
    "sc=g.axes.scatter(0.5*np.ones(n),np.arange(n)+0.5,s=50,\n",
    "               c=P_target.loc[T3.index].test_f1_score,\n",
    "               cmap=cm.Reds,vmin=0,vmax=1\n",
    "              )\n",
    "pl.colorbar(sc,label='$F_1$')\n",
    "g.set(xlabel='')\n"
   ]
  }
 ],
 "metadata": {
  "kernelspec": {
   "display_name": "aim",
   "language": "python",
   "name": "aim"
  },
  "language_info": {
   "codemirror_mode": {
    "name": "ipython",
    "version": 3
   },
   "file_extension": ".py",
   "mimetype": "text/x-python",
   "name": "python",
   "nbconvert_exporter": "python",
   "pygments_lexer": "ipython3",
   "version": "3.8.13"
  }
 },
 "nbformat": 4,
 "nbformat_minor": 4
}

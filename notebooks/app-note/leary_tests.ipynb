{
 "cells": [
  {
   "cell_type": "markdown",
   "metadata": {},
   "source": [
    "Throughout this testing document, arrays from the original code may be replaced with my_array in solutions in order to create ease of testing. "
   ]
  },
  {
   "cell_type": "code",
   "execution_count": 1,
   "metadata": {},
   "outputs": [],
   "source": [
    "import numpy as np\n",
    "\n",
    "my_array = np.array([[0,0,0,1],[4,4,4,4], [3,2,9,0]])"
   ]
  },
  {
   "cell_type": "code",
   "execution_count": 2,
   "metadata": {},
   "outputs": [
    {
     "data": {
      "text/plain": [
       "array([False,  True, False])"
      ]
     },
     "execution_count": 2,
     "metadata": {},
     "output_type": "execute_result"
    }
   ],
   "source": [
    "np.all(my_array == 4, axis = 1 )"
   ]
  },
  {
   "cell_type": "markdown",
   "metadata": {},
   "source": [
    "# Problem 1\n",
    "\n",
    "This issue occurs at line 120 in genra.rax.skl.reg and involves both a zero denominator and an inconsistency between tests using non-Jaccard metrics. \n",
    "\n",
    "The two proposed solutions yield vastly different results based on fingerprint type and metric. TEST prints perform on-par with our optimal fingerprint under solution 1 and the Canberra metric, while Morgan fingerprints have traditionally performed best under the Jaccard metric with a version of Solution 2 applied. Early tests into applying solution 2 tank performance of TEST prints while application of Solution 1 with Morgan prints also yields poor results. Perhaps this will become a keyword setting we wish to add to GenRA ('universal_distance' = True) to be toggled on and off?"
   ]
  },
  {
   "cell_type": "markdown",
   "metadata": {},
   "source": [
    "## Proposed Solution 1: Chemical-specific Maximum Distance\n",
    "\n",
    "The addition of a 1 in the parentheses of the max function causes numpy to calculate the max for each row, meaning that this number will depend only on the chemical being tested. By setting all zeroes in the division array equal to 1, we eliminate the zero denominator problem. This is not an issue, since in those rows we will obtain 0/1 = 0 for a similarity score of 1. \n",
    "\n",
    "With this method, the nth neighbor in the set will not actually directly contribute to the prediction. Instead, its distance serves as a scaling factor, but its endpoint value does not become included in the prediction because its relative similarity is zero. "
   ]
  },
  {
   "cell_type": "code",
   "execution_count": 3,
   "metadata": {},
   "outputs": [],
   "source": [
    "division_array = my_array.max(1).copy()\n",
    "division_array[division_array == 0] = 1"
   ]
  },
  {
   "cell_type": "code",
   "execution_count": 4,
   "metadata": {},
   "outputs": [
    {
     "data": {
      "text/html": [
       "<div>\n",
       "<style scoped>\n",
       "    .dataframe tbody tr th:only-of-type {\n",
       "        vertical-align: middle;\n",
       "    }\n",
       "\n",
       "    .dataframe tbody tr th {\n",
       "        vertical-align: top;\n",
       "    }\n",
       "\n",
       "    .dataframe thead th {\n",
       "        text-align: right;\n",
       "    }\n",
       "</style>\n",
       "<table border=\"1\" class=\"dataframe\">\n",
       "  <thead>\n",
       "    <tr style=\"text-align: right;\">\n",
       "      <th></th>\n",
       "      <th>id</th>\n",
       "      <th>p11</th>\n",
       "      <th>p12</th>\n",
       "      <th>p13</th>\n",
       "      <th>p14</th>\n",
       "      <th>p21</th>\n",
       "      <th>p22</th>\n",
       "      <th>p23</th>\n",
       "      <th>p24</th>\n",
       "      <th>y</th>\n",
       "    </tr>\n",
       "  </thead>\n",
       "  <tbody>\n",
       "    <tr>\n",
       "      <th>0</th>\n",
       "      <td>DTXSID234567</td>\n",
       "      <td>0</td>\n",
       "      <td>0</td>\n",
       "      <td>1</td>\n",
       "      <td>0</td>\n",
       "      <td>1</td>\n",
       "      <td>0</td>\n",
       "      <td>1</td>\n",
       "      <td>0</td>\n",
       "      <td>1</td>\n",
       "    </tr>\n",
       "    <tr>\n",
       "      <th>1</th>\n",
       "      <td>DTXSID123456</td>\n",
       "      <td>0</td>\n",
       "      <td>1</td>\n",
       "      <td>0</td>\n",
       "      <td>1</td>\n",
       "      <td>1</td>\n",
       "      <td>0</td>\n",
       "      <td>1</td>\n",
       "      <td>0</td>\n",
       "      <td>1</td>\n",
       "    </tr>\n",
       "    <tr>\n",
       "      <th>2</th>\n",
       "      <td>DTXSID3456789</td>\n",
       "      <td>1</td>\n",
       "      <td>1</td>\n",
       "      <td>0</td>\n",
       "      <td>0</td>\n",
       "      <td>1</td>\n",
       "      <td>0</td>\n",
       "      <td>0</td>\n",
       "      <td>0</td>\n",
       "      <td>0</td>\n",
       "    </tr>\n",
       "    <tr>\n",
       "      <th>3</th>\n",
       "      <td>DTXSID4567890</td>\n",
       "      <td>1</td>\n",
       "      <td>1</td>\n",
       "      <td>0</td>\n",
       "      <td>0</td>\n",
       "      <td>1</td>\n",
       "      <td>0</td>\n",
       "      <td>0</td>\n",
       "      <td>0</td>\n",
       "      <td>1</td>\n",
       "    </tr>\n",
       "    <tr>\n",
       "      <th>4</th>\n",
       "      <td>DTXSID012345</td>\n",
       "      <td>1</td>\n",
       "      <td>1</td>\n",
       "      <td>0</td>\n",
       "      <td>0</td>\n",
       "      <td>1</td>\n",
       "      <td>0</td>\n",
       "      <td>0</td>\n",
       "      <td>0</td>\n",
       "      <td>0</td>\n",
       "    </tr>\n",
       "    <tr>\n",
       "      <th>5</th>\n",
       "      <td>DTXSID112233</td>\n",
       "      <td>1</td>\n",
       "      <td>1</td>\n",
       "      <td>0</td>\n",
       "      <td>0</td>\n",
       "      <td>1</td>\n",
       "      <td>0</td>\n",
       "      <td>0</td>\n",
       "      <td>0</td>\n",
       "      <td>1</td>\n",
       "    </tr>\n",
       "  </tbody>\n",
       "</table>\n",
       "</div>"
      ],
      "text/plain": [
       "              id  p11  p12  p13  p14  p21  p22  p23  p24  y\n",
       "0   DTXSID234567    0    0    1    0    1    0    1    0  1\n",
       "1   DTXSID123456    0    1    0    1    1    0    1    0  1\n",
       "2  DTXSID3456789    1    1    0    0    1    0    0    0  0\n",
       "3  DTXSID4567890    1    1    0    0    1    0    0    0  1\n",
       "4   DTXSID012345    1    1    0    0    1    0    0    0  0\n",
       "5   DTXSID112233    1    1    0    0    1    0    0    0  1"
      ]
     },
     "execution_count": 4,
     "metadata": {},
     "output_type": "execute_result"
    }
   ],
   "source": [
    "from genra.rax.skl.hybrid import GenRAPredValueHybrid\n",
    "import pandas as pd \n",
    "\n",
    "chems = {'id': ['DTXSID234567', 'DTXSID123456', 'DTXSID3456789', 'DTXSID4567890', 'DTXSID012345', 'DTXSID112233'], 'p11':[0,0,1,1,1,1],\\\n",
    "          'p12':[0,1,1,1,1,1], 'p13':[1,0,0,0,0,0], 'p14':[0,1,0,0,0,0], 'p21':[1,1,1,1,1,1], 'p22': [0,0,0,0,0,0,], 'p23':[1,1,0,0,0,0], \\\n",
    "            'p24':[0,0,0,0,0,0], 'y' : [1,1,0,1,0,1]}\n",
    "chems_df = pd.DataFrame(chems)\n",
    "\n",
    "chems_df"
   ]
  },
  {
   "cell_type": "code",
   "execution_count": 5,
   "metadata": {},
   "outputs": [
    {
     "data": {
      "text/plain": [
       "array([0.33333333, 0.33333333])"
      ]
     },
     "execution_count": 5,
     "metadata": {},
     "output_type": "execute_result"
    }
   ],
   "source": [
    "slices = [slice(0,4), slice(4,8)]\n",
    "estimator = GenRAPredValueHybrid(n_neighbors=3, slices = slices, hybrid_weights=[0,1], metric = 'canberra')\n",
    "estimator.fit(chems_df.iloc[2:,1:-1], chems_df.iloc[2:,-1])\n",
    "estimator.predict(chems_df.iloc[0:2, 1:-1])"
   ]
  },
  {
   "cell_type": "code",
   "execution_count": 6,
   "metadata": {},
   "outputs": [
    {
     "data": {
      "text/plain": [
       "(array([[1., 1., 1.],\n",
       "        [1., 1., 1.]]),\n",
       " array([[0, 1, 2],\n",
       "        [0, 1, 2]], dtype=int64))"
      ]
     },
     "execution_count": 6,
     "metadata": {},
     "output_type": "execute_result"
    }
   ],
   "source": [
    "estimator.kneighbors(chems_df.iloc[0:2,1:-1])"
   ]
  },
  {
   "cell_type": "markdown",
   "metadata": {},
   "source": [
    "## Proposed Solution 2: Universal Maximum Distance\n",
    "\n",
    "This will work only for metrics that have some maximum or for binary-only fingerprints. We would need to incorporate an alternative method in order to adapt to more complex metrics/fingerprints. While the original code could be adapted to work for error handling, as in Problem 2, it creates different results for different test sets when implemented here, which is very undesirable. \n",
    "\n",
    "For some metrics, like Canberra, this is a counterintuitive solution. The Canberra metric takes values between 1 and 0 for each fingerprint feature, meaning that its maximum length is the same as the length of the fingerprint. However, unlike the Jaccard metric, features which are not present on one chemical but are present on the other pose only a small penalty. As most fingerprints consist of many zeroes and only a few ones, the odds of a print having length anywhere near the maximum possible length are often very low, so dividing by this global maximum greatly compresses the differences between neighbors, leading all neighbors to contribute approximately equally to the prediction for a chemical. \n",
    "\n",
    "Note: The code for this is also used in Problem 2. "
   ]
  },
  {
   "cell_type": "code",
   "execution_count": 7,
   "metadata": {},
   "outputs": [],
   "source": [
    "from sklearn.neighbors import KNeighborsRegressor\n",
    "from sklearn.metrics import pairwise_distances\n",
    "#The following function is defined immediately before kneighbors_sim, and is already incorporated and tested in my\n",
    "#local genra-py\n",
    "def maxDistance(self, X):\n",
    "    \"\"\"\n",
    "    Compute the maximum distance between two chemicals (with binary print values, also works for\n",
    "    Canberra metric with continuous prints)\n",
    "    \n",
    "    Helps to identify test chemicals lacking source analogues.\n",
    "    \"\"\"\n",
    "    dims = X.shape[1]\n",
    "    empty = np.zeros((1, dims), dtype=np.float64)\n",
    "    full = np.empty((1,dims), dtype=np.float64)\n",
    "    full.fill(1)\n",
    "    max_distance = pairwise_distances(empty, full, metric = self.metric)\n",
    "    \n",
    "    return max_distance"
   ]
  },
  {
   "cell_type": "code",
   "execution_count": 8,
   "metadata": {},
   "outputs": [
    {
     "data": {
      "text/plain": [
       "4.0"
      ]
     },
     "execution_count": 8,
     "metadata": {},
     "output_type": "execute_result"
    }
   ],
   "source": [
    "#Test run\n",
    "estimator = GenRAPredValueHybrid(n_neighbors=3, slices = slices, hybrid_weights=[1,1], metric = 'canberra')\n",
    "self = estimator\n",
    "X = np.array(chems_df.iloc[0:2, 1:-1])\n",
    "estimator.maxDistance(chems_df.iloc[0:2, 1:-1])"
   ]
  },
  {
   "cell_type": "markdown",
   "metadata": {},
   "source": [
    "# Problem 2\n",
    "\n",
    "This issue occurs at line 154 (approximately) with the code: \"y_pred[:, j] = num / denom\" . As denom = np.sum(neigh_sim, axis=1), there is a possibility of this denominator being 0 if the tested chemical has no similarities with any of the fit set. In this case, we could use the same trick as in Problem 1, Solution 1 to eliminate the problem with the zero denominator but if a chemical has no true source analogues, we should probably be issuing an error message as well. It would be best to do so without disrupting the other tests. "
   ]
  },
  {
   "cell_type": "code",
   "execution_count": null,
   "metadata": {},
   "outputs": [],
   "source": [
    "denom=np.sum(my_array, axis=1)\n",
    "neigh_sim, neigh_ind = estimator.kneighbors_sim(chems_df.iloc[0:2,1:-1])\n",
    "if 0 in denom:\n",
    "    zeros = []\n",
    "    for x in range(len(list(denom))):\n",
    "        if list(denom)[x] == 0:\n",
    "            zeros.append(x)\n",
    "    denom[denom == 0] = neigh_sim.shape[1]\n",
    "    num = np.sum(_y[neigh_ind, j], axis = 1)\n",
    "    print(f\"The training data may not contain source analogues for the chemical(s) \\n with row indices: {zeros} \")\n"
   ]
  },
  {
   "cell_type": "code",
   "execution_count": 9,
   "metadata": {},
   "outputs": [
    {
     "data": {
      "text/html": [
       "<div>\n",
       "<style scoped>\n",
       "    .dataframe tbody tr th:only-of-type {\n",
       "        vertical-align: middle;\n",
       "    }\n",
       "\n",
       "    .dataframe tbody tr th {\n",
       "        vertical-align: top;\n",
       "    }\n",
       "\n",
       "    .dataframe thead th {\n",
       "        text-align: right;\n",
       "    }\n",
       "</style>\n",
       "<table border=\"1\" class=\"dataframe\">\n",
       "  <thead>\n",
       "    <tr style=\"text-align: right;\">\n",
       "      <th></th>\n",
       "      <th>id</th>\n",
       "      <th>p11</th>\n",
       "      <th>p12</th>\n",
       "      <th>p13</th>\n",
       "      <th>p14</th>\n",
       "      <th>p21</th>\n",
       "      <th>p22</th>\n",
       "      <th>p23</th>\n",
       "      <th>p24</th>\n",
       "      <th>y</th>\n",
       "    </tr>\n",
       "  </thead>\n",
       "  <tbody>\n",
       "    <tr>\n",
       "      <th>0</th>\n",
       "      <td>DTXSID234567</td>\n",
       "      <td>0</td>\n",
       "      <td>0</td>\n",
       "      <td>1</td>\n",
       "      <td>0</td>\n",
       "      <td>1</td>\n",
       "      <td>0</td>\n",
       "      <td>1</td>\n",
       "      <td>0</td>\n",
       "      <td>1</td>\n",
       "    </tr>\n",
       "    <tr>\n",
       "      <th>1</th>\n",
       "      <td>DTXSID123456</td>\n",
       "      <td>0</td>\n",
       "      <td>1</td>\n",
       "      <td>0</td>\n",
       "      <td>1</td>\n",
       "      <td>1</td>\n",
       "      <td>0</td>\n",
       "      <td>1</td>\n",
       "      <td>0</td>\n",
       "      <td>1</td>\n",
       "    </tr>\n",
       "    <tr>\n",
       "      <th>2</th>\n",
       "      <td>DTXSID3456789</td>\n",
       "      <td>1</td>\n",
       "      <td>1</td>\n",
       "      <td>0</td>\n",
       "      <td>0</td>\n",
       "      <td>1</td>\n",
       "      <td>0</td>\n",
       "      <td>0</td>\n",
       "      <td>0</td>\n",
       "      <td>0</td>\n",
       "    </tr>\n",
       "    <tr>\n",
       "      <th>3</th>\n",
       "      <td>DTXSID4567890</td>\n",
       "      <td>1</td>\n",
       "      <td>1</td>\n",
       "      <td>0</td>\n",
       "      <td>0</td>\n",
       "      <td>1</td>\n",
       "      <td>0</td>\n",
       "      <td>0</td>\n",
       "      <td>0</td>\n",
       "      <td>1</td>\n",
       "    </tr>\n",
       "    <tr>\n",
       "      <th>4</th>\n",
       "      <td>DTXSID012345</td>\n",
       "      <td>1</td>\n",
       "      <td>1</td>\n",
       "      <td>0</td>\n",
       "      <td>0</td>\n",
       "      <td>1</td>\n",
       "      <td>0</td>\n",
       "      <td>0</td>\n",
       "      <td>0</td>\n",
       "      <td>0</td>\n",
       "    </tr>\n",
       "    <tr>\n",
       "      <th>5</th>\n",
       "      <td>DTXSID112233</td>\n",
       "      <td>1</td>\n",
       "      <td>1</td>\n",
       "      <td>0</td>\n",
       "      <td>0</td>\n",
       "      <td>1</td>\n",
       "      <td>0</td>\n",
       "      <td>0</td>\n",
       "      <td>0</td>\n",
       "      <td>1</td>\n",
       "    </tr>\n",
       "  </tbody>\n",
       "</table>\n",
       "</div>"
      ],
      "text/plain": [
       "              id  p11  p12  p13  p14  p21  p22  p23  p24  y\n",
       "0   DTXSID234567    0    0    1    0    1    0    1    0  1\n",
       "1   DTXSID123456    0    1    0    1    1    0    1    0  1\n",
       "2  DTXSID3456789    1    1    0    0    1    0    0    0  0\n",
       "3  DTXSID4567890    1    1    0    0    1    0    0    0  1\n",
       "4   DTXSID012345    1    1    0    0    1    0    0    0  0\n",
       "5   DTXSID112233    1    1    0    0    1    0    0    0  1"
      ]
     },
     "execution_count": 9,
     "metadata": {},
     "output_type": "execute_result"
    }
   ],
   "source": [
    "# This code block and the following 2 will recreate the error if run with the \n",
    "# original GenRA\n",
    "from genra.rax.skl.hybrid import GenRAPredValueHybrid\n",
    "import pandas as pd \n",
    "\n",
    "chems = {'id': ['DTXSID234567', 'DTXSID123456', 'DTXSID3456789', 'DTXSID4567890', 'DTXSID012345', 'DTXSID112233'], 'p11':[0,0,1,1,1,1],\\\n",
    "          'p12':[0,1,1,1,1,1], 'p13':[1,0,0,0,0,0], 'p14':[0,1,0,0,0,0], 'p21':[1,1,1,1,1,1], 'p22': [0,0,0,0,0,0,], 'p23':[1,1,0,0,0,0], \\\n",
    "            'p24':[0,0,0,0,0,0], 'y' : [1,1,0,1,0,1]}\n",
    "chems_df = pd.DataFrame(chems)\n",
    "\n",
    "chems_df"
   ]
  },
  {
   "cell_type": "code",
   "execution_count": 10,
   "metadata": {},
   "outputs": [
    {
     "data": {
      "text/plain": [
       "array([0.33333333, 0.33333333])"
      ]
     },
     "execution_count": 10,
     "metadata": {},
     "output_type": "execute_result"
    }
   ],
   "source": [
    "slices = [slice(0,4), slice(4,8)]\n",
    "estimator = GenRAPredValueHybrid(n_neighbors=3, slices = slices, hybrid_weights=[0,1], metric = 'canberra')\n",
    "estimator.fit(chems_df.iloc[2:,1:-1], chems_df.iloc[2:,-1])\n",
    "estimator.predict(chems_df.iloc[0:2, 1:-1])"
   ]
  },
  {
   "cell_type": "markdown",
   "metadata": {},
   "source": [
    "This led to recognition of an additional issue: the difference between a chemical with all neighbors that are equally far from it and a chemical with no real neighbors (at the maximum possible distance).\n",
    "\n",
    "My current solution is the following: \n",
    "- Introduce a function that calculates the maximum distance between points. This will only work if there is a maximum distance, as in Canberra, Jaccard, Cosine, etc. It will not work with Minkowski or Euclidean. \n",
    "- Create a printed warning if all neighbors identified in kneighbors() are at this maximum distance. "
   ]
  },
  {
   "cell_type": "markdown",
   "metadata": {},
   "source": [
    "Note: This first version does not treat hybrid fingerprints correctly, as it ignores their weight in calculating maxDistance. I have since edited hybrid.py to account for this. I believe it to now be working appropriately, but there may be some poor error handling that I have not caught yet."
   ]
  },
  {
   "cell_type": "code",
   "execution_count": 11,
   "metadata": {},
   "outputs": [],
   "source": [
    "from sklearn.neighbors import KNeighborsRegressor\n",
    "from sklearn.metrics import pairwise_distances\n",
    "#The following function is defined immediately before kneighbors_sim\n",
    "def maxDistance(self, X):\n",
    "    \"\"\"\n",
    "    Compute the maximum distance between two chemicals (with binary print values, also works for\n",
    "    Canberra metric with continuous prints)\n",
    "    \n",
    "    Helps to identify test chemicals lacking source analogues.\n",
    "    \"\"\"\n",
    "    dims = X.shape[1]\n",
    "    empty = np.zeros((1, dims), dtype=np.float64)\n",
    "    full = np.empty((1,dims), dtype=np.float64)\n",
    "    full.fill(1)\n",
    "    max_distance = pairwise_distances(empty, full, metric = self.metric)\n",
    "    \n",
    "    return max_distance\n",
    "\n",
    "# Modification to give values to variables housed in the package code\n",
    "self = estimator\n",
    "X = chems_df.iloc[0:2, 1:-1]\n",
    "# This code currently resides inside the kneighbors_sim function after the use of kneighbors \n",
    "neigh_dist, neigh_ind = self.kneighbors(X)\n",
    "\n",
    "lost_chems = np.all(neigh_dist == self.maxDistance(X), axis = 1)\n",
    "lost_chem_indices = []\n",
    "counter = 0\n",
    "for boolean in lost_chems:\n",
    "    if boolean:\n",
    "        lost_chem_indices.append(counter)\n",
    "    counter += 1\n",
    "if len(lost_chem_indices) > 0:\n",
    "    print(f\"The training data may not contain source analogues for the chemical(s) with the \\n following row indices: {lost_chem_indices} \")\n"
   ]
  },
  {
   "cell_type": "code",
   "execution_count": 12,
   "metadata": {},
   "outputs": [
    {
     "data": {
      "text/html": [
       "<div>\n",
       "<style scoped>\n",
       "    .dataframe tbody tr th:only-of-type {\n",
       "        vertical-align: middle;\n",
       "    }\n",
       "\n",
       "    .dataframe tbody tr th {\n",
       "        vertical-align: top;\n",
       "    }\n",
       "\n",
       "    .dataframe thead th {\n",
       "        text-align: right;\n",
       "    }\n",
       "</style>\n",
       "<table border=\"1\" class=\"dataframe\">\n",
       "  <thead>\n",
       "    <tr style=\"text-align: right;\">\n",
       "      <th></th>\n",
       "      <th>id</th>\n",
       "      <th>p11</th>\n",
       "      <th>p12</th>\n",
       "      <th>p13</th>\n",
       "      <th>p14</th>\n",
       "      <th>p21</th>\n",
       "      <th>p22</th>\n",
       "      <th>p23</th>\n",
       "      <th>p24</th>\n",
       "      <th>y</th>\n",
       "    </tr>\n",
       "  </thead>\n",
       "  <tbody>\n",
       "    <tr>\n",
       "      <th>0</th>\n",
       "      <td>DTXSID234567</td>\n",
       "      <td>0</td>\n",
       "      <td>0</td>\n",
       "      <td>1</td>\n",
       "      <td>0</td>\n",
       "      <td>1</td>\n",
       "      <td>0</td>\n",
       "      <td>1</td>\n",
       "      <td>0</td>\n",
       "      <td>1</td>\n",
       "    </tr>\n",
       "    <tr>\n",
       "      <th>1</th>\n",
       "      <td>DTXSID123456</td>\n",
       "      <td>0</td>\n",
       "      <td>1</td>\n",
       "      <td>0</td>\n",
       "      <td>1</td>\n",
       "      <td>1</td>\n",
       "      <td>0</td>\n",
       "      <td>1</td>\n",
       "      <td>0</td>\n",
       "      <td>1</td>\n",
       "    </tr>\n",
       "    <tr>\n",
       "      <th>2</th>\n",
       "      <td>DTXSID3456789</td>\n",
       "      <td>1</td>\n",
       "      <td>1</td>\n",
       "      <td>1</td>\n",
       "      <td>1</td>\n",
       "      <td>1</td>\n",
       "      <td>1</td>\n",
       "      <td>1</td>\n",
       "      <td>1</td>\n",
       "      <td>0</td>\n",
       "    </tr>\n",
       "    <tr>\n",
       "      <th>3</th>\n",
       "      <td>DTXSID4567890</td>\n",
       "      <td>1</td>\n",
       "      <td>1</td>\n",
       "      <td>1</td>\n",
       "      <td>1</td>\n",
       "      <td>1</td>\n",
       "      <td>1</td>\n",
       "      <td>1</td>\n",
       "      <td>1</td>\n",
       "      <td>1</td>\n",
       "    </tr>\n",
       "    <tr>\n",
       "      <th>4</th>\n",
       "      <td>DTXSID012345</td>\n",
       "      <td>1</td>\n",
       "      <td>1</td>\n",
       "      <td>1</td>\n",
       "      <td>1</td>\n",
       "      <td>1</td>\n",
       "      <td>1</td>\n",
       "      <td>1</td>\n",
       "      <td>1</td>\n",
       "      <td>0</td>\n",
       "    </tr>\n",
       "    <tr>\n",
       "      <th>5</th>\n",
       "      <td>DTXSID112233</td>\n",
       "      <td>0</td>\n",
       "      <td>0</td>\n",
       "      <td>0</td>\n",
       "      <td>0</td>\n",
       "      <td>0</td>\n",
       "      <td>0</td>\n",
       "      <td>0</td>\n",
       "      <td>0</td>\n",
       "      <td>0</td>\n",
       "    </tr>\n",
       "  </tbody>\n",
       "</table>\n",
       "</div>"
      ],
      "text/plain": [
       "              id  p11  p12  p13  p14  p21  p22  p23  p24  y\n",
       "0   DTXSID234567    0    0    1    0    1    0    1    0  1\n",
       "1   DTXSID123456    0    1    0    1    1    0    1    0  1\n",
       "2  DTXSID3456789    1    1    1    1    1    1    1    1  0\n",
       "3  DTXSID4567890    1    1    1    1    1    1    1    1  1\n",
       "4   DTXSID012345    1    1    1    1    1    1    1    1  0\n",
       "5   DTXSID112233    0    0    0    0    0    0    0    0  0"
      ]
     },
     "execution_count": 12,
     "metadata": {},
     "output_type": "execute_result"
    }
   ],
   "source": [
    "chems = {'id': ['DTXSID234567', 'DTXSID123456', 'DTXSID3456789', 'DTXSID4567890', 'DTXSID012345', 'DTXSID112233'], 'p11':[0,0,1,1,1,0],\\\n",
    "          'p12':[0,1,1,1,1,0], 'p13':[1,0,1,1,1,0], 'p14':[0,1,1,1,1,0], 'p21':[1,1,1,1,1,0], 'p22': [0,0,1,1,1,0,], 'p23':[1,1,1,1,1,0], \\\n",
    "            'p24':[0,0,1,1,1,0], 'y' : [1,1,0,1,0,0]}\n",
    "chems_df = pd.DataFrame(chems)\n",
    "\n",
    "chems_df"
   ]
  },
  {
   "cell_type": "code",
   "execution_count": 13,
   "metadata": {},
   "outputs": [
    {
     "name": "stdout",
     "output_type": "stream",
     "text": [
      "According to this metric, the training data may not contain source analogues for the chemical(s) \n",
      " with the following row indices within the testing set: [0] \n"
     ]
    },
    {
     "data": {
      "text/plain": [
       "array([0.33333333])"
      ]
     },
     "execution_count": 13,
     "metadata": {},
     "output_type": "execute_result"
    }
   ],
   "source": [
    "slices = [slice(0,4), slice(4,8)]\n",
    "estimator = GenRAPredValueHybrid(n_neighbors=3, slices = slices, hybrid_weights=[0,1], metric = 'canberra')\n",
    "estimator.fit(chems_df.iloc[2:5,1:-1], chems_df.iloc[2:5,-1])\n",
    "estimator.predict(chems_df.iloc[5:, 1:-1])"
   ]
  },
  {
   "cell_type": "markdown",
   "metadata": {},
   "source": [
    "# Fit-Predict Feature Addition\n",
    "\n",
    "The following is a test of whether the changes to allow predictions on the fit set is functional. For this feature, many small changes were needed, but most of them were just turning X in to an optional argument instead of a required one for functions. "
   ]
  },
  {
   "cell_type": "code",
   "execution_count": 14,
   "metadata": {},
   "outputs": [
    {
     "data": {
      "text/plain": [
       "array([1. , 1. , 0.5, 0. , 0.5])"
      ]
     },
     "execution_count": 14,
     "metadata": {},
     "output_type": "execute_result"
    }
   ],
   "source": [
    "estimator = GenRAPredValueHybrid(n_neighbors=3, slices = slices, hybrid_weights=[0,1], metric = 'canberra')\n",
    "estimator.fit(chems_df.iloc[0:5,1:-1], chems_df.iloc[0:5,-1])\n",
    "estimator.predict()"
   ]
  },
  {
   "cell_type": "code",
   "execution_count": 15,
   "metadata": {},
   "outputs": [
    {
     "data": {
      "text/plain": [
       "(array([[1., 0., 0.],\n",
       "        [1., 0., 0.],\n",
       "        [1., 1., 0.],\n",
       "        [1., 1., 0.],\n",
       "        [1., 1., 0.]]),\n",
       " array([[1, 2, 3],\n",
       "        [0, 2, 3],\n",
       "        [3, 4, 0],\n",
       "        [2, 4, 0],\n",
       "        [2, 3, 0]], dtype=int64))"
      ]
     },
     "execution_count": 15,
     "metadata": {},
     "output_type": "execute_result"
    }
   ],
   "source": [
    "estimator.kneighbors_sim()"
   ]
  },
  {
   "cell_type": "code",
   "execution_count": 16,
   "metadata": {},
   "outputs": [
    {
     "name": "stdout",
     "output_type": "stream",
     "text": [
      "According to this metric, the training data may not contain source analogues for the chemical(s) \n",
      " with the following row indices within the testing set: [5] \n"
     ]
    },
    {
     "name": "stderr",
     "output_type": "stream",
     "text": [
      "c:\\Users\\aleary\\OneDrive - Environmental Protection Agency (EPA)\\Profile\\Documents\\genra_py_edits\\genra-py\\venv\\Lib\\site-packages\\sklearn\\metrics\\pairwise.py:2317: DataConversionWarning: Data was converted to boolean for metric jaccard\n",
      "  warnings.warn(msg, DataConversionWarning)\n",
      "c:\\Users\\aleary\\OneDrive - Environmental Protection Agency (EPA)\\Profile\\Documents\\genra_py_edits\\genra-py\\venv\\Lib\\site-packages\\sklearn\\metrics\\pairwise.py:2317: DataConversionWarning: Data was converted to boolean for metric jaccard\n",
      "  warnings.warn(msg, DataConversionWarning)\n"
     ]
    },
    {
     "data": {
      "text/plain": [
       "array([0.34782609, 0.33333333, 0.6       , 0.2       , 0.6       ,\n",
       "       0.66666667])"
      ]
     },
     "execution_count": 16,
     "metadata": {},
     "output_type": "execute_result"
    }
   ],
   "source": [
    "from genra.rax.skl.reg import GenRAPredValue\n",
    "estimator = GenRAPredValue(n_neighbors = 3, metric = 'jaccard')\n",
    "estimator.fit(np.array(chems_df.iloc[0:, 1:-1]), chems_df.iloc[:, -1])\n",
    "estimator.predict()"
   ]
  },
  {
   "cell_type": "markdown",
   "metadata": {},
   "source": [
    "## Finalization Tests\n",
    "\n",
    "Here I bring in all of the LD50 data to see how long computations take on this set, and make sure that all changes are running smoothly. "
   ]
  },
  {
   "cell_type": "code",
   "execution_count": 1,
   "metadata": {},
   "outputs": [
    {
     "data": {
      "text/html": [
       "<div>\n",
       "<style scoped>\n",
       "    .dataframe tbody tr th:only-of-type {\n",
       "        vertical-align: middle;\n",
       "    }\n",
       "\n",
       "    .dataframe tbody tr th {\n",
       "        vertical-align: top;\n",
       "    }\n",
       "\n",
       "    .dataframe thead th {\n",
       "        text-align: right;\n",
       "    }\n",
       "</style>\n",
       "<table border=\"1\" class=\"dataframe\">\n",
       "  <thead>\n",
       "    <tr style=\"text-align: right;\">\n",
       "      <th></th>\n",
       "      <th>LD50_LM</th>\n",
       "      <th>tp_fp0</th>\n",
       "      <th>tp_fp1</th>\n",
       "      <th>tp_fp2</th>\n",
       "      <th>tp_fp3</th>\n",
       "      <th>tp_fp4</th>\n",
       "      <th>tp_fp5</th>\n",
       "      <th>tp_fp6</th>\n",
       "      <th>tp_fp7</th>\n",
       "      <th>tp_fp8</th>\n",
       "      <th>...</th>\n",
       "      <th>P=S</th>\n",
       "      <th>-CF3 [aliphatic attach]</th>\n",
       "      <th>-CF3 [aromatic attach]</th>\n",
       "      <th>-CCl3 [aromatic attach]</th>\n",
       "      <th>-CCl3 [aliphatic attach]</th>\n",
       "      <th>Halogen [Nitrogen attach]</th>\n",
       "      <th>As(=O)</th>\n",
       "      <th>-N=C=S</th>\n",
       "      <th>Sn=O</th>\n",
       "      <th>-N=S=O</th>\n",
       "    </tr>\n",
       "    <tr>\n",
       "      <th>Unnamed: 0</th>\n",
       "      <th></th>\n",
       "      <th></th>\n",
       "      <th></th>\n",
       "      <th></th>\n",
       "      <th></th>\n",
       "      <th></th>\n",
       "      <th></th>\n",
       "      <th></th>\n",
       "      <th></th>\n",
       "      <th></th>\n",
       "      <th></th>\n",
       "      <th></th>\n",
       "      <th></th>\n",
       "      <th></th>\n",
       "      <th></th>\n",
       "      <th></th>\n",
       "      <th></th>\n",
       "      <th></th>\n",
       "      <th></th>\n",
       "      <th></th>\n",
       "      <th></th>\n",
       "    </tr>\n",
       "  </thead>\n",
       "  <tbody>\n",
       "    <tr>\n",
       "      <th>DTXSID5020281</th>\n",
       "      <td>-0.465339</td>\n",
       "      <td>0</td>\n",
       "      <td>0</td>\n",
       "      <td>0</td>\n",
       "      <td>0</td>\n",
       "      <td>0</td>\n",
       "      <td>0</td>\n",
       "      <td>0</td>\n",
       "      <td>0</td>\n",
       "      <td>0</td>\n",
       "      <td>...</td>\n",
       "      <td>0.0</td>\n",
       "      <td>0.0</td>\n",
       "      <td>0.0</td>\n",
       "      <td>0.0</td>\n",
       "      <td>0.0</td>\n",
       "      <td>0.0</td>\n",
       "      <td>0.0</td>\n",
       "      <td>0.0</td>\n",
       "      <td>0.0</td>\n",
       "      <td>0.0</td>\n",
       "    </tr>\n",
       "    <tr>\n",
       "      <th>DTXSID8020961</th>\n",
       "      <td>-0.734786</td>\n",
       "      <td>0</td>\n",
       "      <td>0</td>\n",
       "      <td>0</td>\n",
       "      <td>0</td>\n",
       "      <td>0</td>\n",
       "      <td>0</td>\n",
       "      <td>0</td>\n",
       "      <td>0</td>\n",
       "      <td>0</td>\n",
       "      <td>...</td>\n",
       "      <td>0.0</td>\n",
       "      <td>0.0</td>\n",
       "      <td>0.0</td>\n",
       "      <td>0.0</td>\n",
       "      <td>0.0</td>\n",
       "      <td>0.0</td>\n",
       "      <td>0.0</td>\n",
       "      <td>0.0</td>\n",
       "      <td>0.0</td>\n",
       "      <td>0.0</td>\n",
       "    </tr>\n",
       "    <tr>\n",
       "      <th>DTXSID0021834</th>\n",
       "      <td>-0.087091</td>\n",
       "      <td>0</td>\n",
       "      <td>0</td>\n",
       "      <td>0</td>\n",
       "      <td>0</td>\n",
       "      <td>0</td>\n",
       "      <td>0</td>\n",
       "      <td>0</td>\n",
       "      <td>0</td>\n",
       "      <td>0</td>\n",
       "      <td>...</td>\n",
       "      <td>0.0</td>\n",
       "      <td>0.0</td>\n",
       "      <td>0.0</td>\n",
       "      <td>0.0</td>\n",
       "      <td>0.0</td>\n",
       "      <td>0.0</td>\n",
       "      <td>0.0</td>\n",
       "      <td>0.0</td>\n",
       "      <td>0.0</td>\n",
       "      <td>0.0</td>\n",
       "    </tr>\n",
       "    <tr>\n",
       "      <th>DTXSID2044347</th>\n",
       "      <td>-1.058925</td>\n",
       "      <td>0</td>\n",
       "      <td>0</td>\n",
       "      <td>0</td>\n",
       "      <td>0</td>\n",
       "      <td>0</td>\n",
       "      <td>0</td>\n",
       "      <td>0</td>\n",
       "      <td>0</td>\n",
       "      <td>0</td>\n",
       "      <td>...</td>\n",
       "      <td>0.0</td>\n",
       "      <td>0.0</td>\n",
       "      <td>0.0</td>\n",
       "      <td>0.0</td>\n",
       "      <td>0.0</td>\n",
       "      <td>0.0</td>\n",
       "      <td>0.0</td>\n",
       "      <td>0.0</td>\n",
       "      <td>0.0</td>\n",
       "      <td>0.0</td>\n",
       "    </tr>\n",
       "    <tr>\n",
       "      <th>DTXSID4025745</th>\n",
       "      <td>-1.022972</td>\n",
       "      <td>0</td>\n",
       "      <td>0</td>\n",
       "      <td>0</td>\n",
       "      <td>0</td>\n",
       "      <td>0</td>\n",
       "      <td>0</td>\n",
       "      <td>0</td>\n",
       "      <td>0</td>\n",
       "      <td>0</td>\n",
       "      <td>...</td>\n",
       "      <td>0.0</td>\n",
       "      <td>0.0</td>\n",
       "      <td>0.0</td>\n",
       "      <td>0.0</td>\n",
       "      <td>0.0</td>\n",
       "      <td>0.0</td>\n",
       "      <td>0.0</td>\n",
       "      <td>0.0</td>\n",
       "      <td>0.0</td>\n",
       "      <td>0.0</td>\n",
       "    </tr>\n",
       "  </tbody>\n",
       "</table>\n",
       "<p>5 rows × 6525 columns</p>\n",
       "</div>"
      ],
      "text/plain": [
       "                LD50_LM  tp_fp0  tp_fp1  tp_fp2  tp_fp3  tp_fp4  tp_fp5  \\\n",
       "Unnamed: 0                                                                \n",
       "DTXSID5020281 -0.465339       0       0       0       0       0       0   \n",
       "DTXSID8020961 -0.734786       0       0       0       0       0       0   \n",
       "DTXSID0021834 -0.087091       0       0       0       0       0       0   \n",
       "DTXSID2044347 -1.058925       0       0       0       0       0       0   \n",
       "DTXSID4025745 -1.022972       0       0       0       0       0       0   \n",
       "\n",
       "               tp_fp6  tp_fp7  tp_fp8  ...  P=S  -CF3 [aliphatic attach]  \\\n",
       "Unnamed: 0                             ...                                 \n",
       "DTXSID5020281       0       0       0  ...  0.0                      0.0   \n",
       "DTXSID8020961       0       0       0  ...  0.0                      0.0   \n",
       "DTXSID0021834       0       0       0  ...  0.0                      0.0   \n",
       "DTXSID2044347       0       0       0  ...  0.0                      0.0   \n",
       "DTXSID4025745       0       0       0  ...  0.0                      0.0   \n",
       "\n",
       "               -CF3 [aromatic attach]  -CCl3 [aromatic attach]  \\\n",
       "Unnamed: 0                                                       \n",
       "DTXSID5020281                     0.0                      0.0   \n",
       "DTXSID8020961                     0.0                      0.0   \n",
       "DTXSID0021834                     0.0                      0.0   \n",
       "DTXSID2044347                     0.0                      0.0   \n",
       "DTXSID4025745                     0.0                      0.0   \n",
       "\n",
       "               -CCl3 [aliphatic attach]  Halogen [Nitrogen attach]  As(=O)  \\\n",
       "Unnamed: 0                                                                   \n",
       "DTXSID5020281                       0.0                        0.0     0.0   \n",
       "DTXSID8020961                       0.0                        0.0     0.0   \n",
       "DTXSID0021834                       0.0                        0.0     0.0   \n",
       "DTXSID2044347                       0.0                        0.0     0.0   \n",
       "DTXSID4025745                       0.0                        0.0     0.0   \n",
       "\n",
       "               -N=C=S  Sn=O  -N=S=O  \n",
       "Unnamed: 0                           \n",
       "DTXSID5020281     0.0   0.0     0.0  \n",
       "DTXSID8020961     0.0   0.0     0.0  \n",
       "DTXSID0021834     0.0   0.0     0.0  \n",
       "DTXSID2044347     0.0   0.0     0.0  \n",
       "DTXSID4025745     0.0   0.0     0.0  \n",
       "\n",
       "[5 rows x 6525 columns]"
      ]
     },
     "execution_count": 1,
     "metadata": {},
     "output_type": "execute_result"
    }
   ],
   "source": [
    "import pandas as pd\n",
    "ld50 = pd.read_csv(\"LD50_pre-grid-search_and_TEST.csv\").set_index(\"Unnamed: 0\")\n",
    "ld50.head()"
   ]
  },
  {
   "cell_type": "code",
   "execution_count": 218,
   "metadata": {},
   "outputs": [
    {
     "data": {
      "text/html": [
       "<div>\n",
       "<style scoped>\n",
       "    .dataframe tbody tr th:only-of-type {\n",
       "        vertical-align: middle;\n",
       "    }\n",
       "\n",
       "    .dataframe tbody tr th {\n",
       "        vertical-align: top;\n",
       "    }\n",
       "\n",
       "    .dataframe thead th {\n",
       "        text-align: right;\n",
       "    }\n",
       "</style>\n",
       "<table border=\"1\" class=\"dataframe\">\n",
       "  <thead>\n",
       "    <tr style=\"text-align: right;\">\n",
       "      <th></th>\n",
       "      <th>tp_fp724</th>\n",
       "      <th>tp_fp725</th>\n",
       "      <th>tp_fp726</th>\n",
       "      <th>tp_fp727</th>\n",
       "      <th>tp_fp728</th>\n",
       "      <th>mg_fp0</th>\n",
       "      <th>mg_fp1</th>\n",
       "      <th>mg_fp2</th>\n",
       "      <th>mg_fp3</th>\n",
       "      <th>mg_fp4</th>\n",
       "    </tr>\n",
       "    <tr>\n",
       "      <th>Unnamed: 0</th>\n",
       "      <th></th>\n",
       "      <th></th>\n",
       "      <th></th>\n",
       "      <th></th>\n",
       "      <th></th>\n",
       "      <th></th>\n",
       "      <th></th>\n",
       "      <th></th>\n",
       "      <th></th>\n",
       "      <th></th>\n",
       "    </tr>\n",
       "  </thead>\n",
       "  <tbody>\n",
       "    <tr>\n",
       "      <th>DTXSID5020281</th>\n",
       "      <td>0</td>\n",
       "      <td>0</td>\n",
       "      <td>0</td>\n",
       "      <td>0</td>\n",
       "      <td>0</td>\n",
       "      <td>0</td>\n",
       "      <td>0</td>\n",
       "      <td>0</td>\n",
       "      <td>0</td>\n",
       "      <td>0</td>\n",
       "    </tr>\n",
       "    <tr>\n",
       "      <th>DTXSID8020961</th>\n",
       "      <td>0</td>\n",
       "      <td>0</td>\n",
       "      <td>0</td>\n",
       "      <td>0</td>\n",
       "      <td>0</td>\n",
       "      <td>0</td>\n",
       "      <td>0</td>\n",
       "      <td>0</td>\n",
       "      <td>0</td>\n",
       "      <td>0</td>\n",
       "    </tr>\n",
       "    <tr>\n",
       "      <th>DTXSID0021834</th>\n",
       "      <td>0</td>\n",
       "      <td>0</td>\n",
       "      <td>0</td>\n",
       "      <td>0</td>\n",
       "      <td>0</td>\n",
       "      <td>0</td>\n",
       "      <td>0</td>\n",
       "      <td>0</td>\n",
       "      <td>0</td>\n",
       "      <td>0</td>\n",
       "    </tr>\n",
       "    <tr>\n",
       "      <th>DTXSID2044347</th>\n",
       "      <td>0</td>\n",
       "      <td>0</td>\n",
       "      <td>0</td>\n",
       "      <td>0</td>\n",
       "      <td>0</td>\n",
       "      <td>0</td>\n",
       "      <td>0</td>\n",
       "      <td>0</td>\n",
       "      <td>0</td>\n",
       "      <td>0</td>\n",
       "    </tr>\n",
       "    <tr>\n",
       "      <th>DTXSID4025745</th>\n",
       "      <td>0</td>\n",
       "      <td>0</td>\n",
       "      <td>0</td>\n",
       "      <td>0</td>\n",
       "      <td>0</td>\n",
       "      <td>0</td>\n",
       "      <td>0</td>\n",
       "      <td>0</td>\n",
       "      <td>0</td>\n",
       "      <td>0</td>\n",
       "    </tr>\n",
       "    <tr>\n",
       "      <th>DTXSID9059208</th>\n",
       "      <td>0</td>\n",
       "      <td>0</td>\n",
       "      <td>0</td>\n",
       "      <td>0</td>\n",
       "      <td>0</td>\n",
       "      <td>0</td>\n",
       "      <td>0</td>\n",
       "      <td>0</td>\n",
       "      <td>0</td>\n",
       "      <td>0</td>\n",
       "    </tr>\n",
       "    <tr>\n",
       "      <th>DTXSID7026653</th>\n",
       "      <td>0</td>\n",
       "      <td>0</td>\n",
       "      <td>0</td>\n",
       "      <td>0</td>\n",
       "      <td>0</td>\n",
       "      <td>0</td>\n",
       "      <td>0</td>\n",
       "      <td>0</td>\n",
       "      <td>0</td>\n",
       "      <td>0</td>\n",
       "    </tr>\n",
       "    <tr>\n",
       "      <th>DTXSID6026080</th>\n",
       "      <td>0</td>\n",
       "      <td>0</td>\n",
       "      <td>0</td>\n",
       "      <td>0</td>\n",
       "      <td>0</td>\n",
       "      <td>0</td>\n",
       "      <td>0</td>\n",
       "      <td>0</td>\n",
       "      <td>0</td>\n",
       "      <td>0</td>\n",
       "    </tr>\n",
       "    <tr>\n",
       "      <th>DTXSID80870440</th>\n",
       "      <td>0</td>\n",
       "      <td>0</td>\n",
       "      <td>0</td>\n",
       "      <td>0</td>\n",
       "      <td>0</td>\n",
       "      <td>0</td>\n",
       "      <td>0</td>\n",
       "      <td>0</td>\n",
       "      <td>0</td>\n",
       "      <td>0</td>\n",
       "    </tr>\n",
       "    <tr>\n",
       "      <th>DTXSID7026655</th>\n",
       "      <td>0</td>\n",
       "      <td>0</td>\n",
       "      <td>0</td>\n",
       "      <td>0</td>\n",
       "      <td>0</td>\n",
       "      <td>0</td>\n",
       "      <td>0</td>\n",
       "      <td>0</td>\n",
       "      <td>0</td>\n",
       "      <td>0</td>\n",
       "    </tr>\n",
       "  </tbody>\n",
       "</table>\n",
       "</div>"
      ],
      "text/plain": [
       "                tp_fp724  tp_fp725  tp_fp726  tp_fp727  tp_fp728  mg_fp0  \\\n",
       "Unnamed: 0                                                                 \n",
       "DTXSID5020281          0         0         0         0         0       0   \n",
       "DTXSID8020961          0         0         0         0         0       0   \n",
       "DTXSID0021834          0         0         0         0         0       0   \n",
       "DTXSID2044347          0         0         0         0         0       0   \n",
       "DTXSID4025745          0         0         0         0         0       0   \n",
       "DTXSID9059208          0         0         0         0         0       0   \n",
       "DTXSID7026653          0         0         0         0         0       0   \n",
       "DTXSID6026080          0         0         0         0         0       0   \n",
       "DTXSID80870440         0         0         0         0         0       0   \n",
       "DTXSID7026655          0         0         0         0         0       0   \n",
       "\n",
       "                mg_fp1  mg_fp2  mg_fp3  mg_fp4  \n",
       "Unnamed: 0                                      \n",
       "DTXSID5020281        0       0       0       0  \n",
       "DTXSID8020961        0       0       0       0  \n",
       "DTXSID0021834        0       0       0       0  \n",
       "DTXSID2044347        0       0       0       0  \n",
       "DTXSID4025745        0       0       0       0  \n",
       "DTXSID9059208        0       0       0       0  \n",
       "DTXSID7026653        0       0       0       0  \n",
       "DTXSID6026080        0       0       0       0  \n",
       "DTXSID80870440       0       0       0       0  \n",
       "DTXSID7026655        0       0       0       0  "
      ]
     },
     "execution_count": 218,
     "metadata": {},
     "output_type": "execute_result"
    }
   ],
   "source": [
    "ld50.iloc[0:10, 725:735]"
   ]
  },
  {
   "cell_type": "code",
   "execution_count": 219,
   "metadata": {},
   "outputs": [
    {
     "name": "stderr",
     "output_type": "stream",
     "text": [
      "c:\\Users\\aleary\\OneDrive - Environmental Protection Agency (EPA)\\Profile\\Documents\\genra_py_edits\\genra-py\\venv\\Lib\\site-packages\\sklearn\\metrics\\pairwise.py:2317: DataConversionWarning: Data was converted to boolean for metric jaccard\n",
      "  warnings.warn(msg, DataConversionWarning)\n",
      "c:\\Users\\aleary\\OneDrive - Environmental Protection Agency (EPA)\\Profile\\Documents\\genra_py_edits\\genra-py\\venv\\Lib\\site-packages\\sklearn\\metrics\\pairwise.py:2317: DataConversionWarning: Data was converted to boolean for metric jaccard\n",
      "  warnings.warn(msg, DataConversionWarning)\n",
      "c:\\Users\\aleary\\OneDrive - Environmental Protection Agency (EPA)\\Profile\\Documents\\genra_py_edits\\genra-py\\venv\\Lib\\site-packages\\sklearn\\metrics\\pairwise.py:2317: DataConversionWarning: Data was converted to boolean for metric jaccard\n",
      "  warnings.warn(msg, DataConversionWarning)\n",
      "c:\\Users\\aleary\\OneDrive - Environmental Protection Agency (EPA)\\Profile\\Documents\\genra_py_edits\\genra-py\\venv\\Lib\\site-packages\\sklearn\\metrics\\pairwise.py:2317: DataConversionWarning: Data was converted to boolean for metric jaccard\n",
      "  warnings.warn(msg, DataConversionWarning)\n",
      "c:\\Users\\aleary\\OneDrive - Environmental Protection Agency (EPA)\\Profile\\Documents\\genra_py_edits\\genra-py\\venv\\Lib\\site-packages\\sklearn\\metrics\\pairwise.py:2317: DataConversionWarning: Data was converted to boolean for metric jaccard\n",
      "  warnings.warn(msg, DataConversionWarning)\n",
      "c:\\Users\\aleary\\OneDrive - Environmental Protection Agency (EPA)\\Profile\\Documents\\genra_py_edits\\genra-py\\venv\\Lib\\site-packages\\sklearn\\metrics\\pairwise.py:2317: DataConversionWarning: Data was converted to boolean for metric jaccard\n",
      "  warnings.warn(msg, DataConversionWarning)\n",
      "c:\\Users\\aleary\\OneDrive - Environmental Protection Agency (EPA)\\Profile\\Documents\\genra_py_edits\\genra-py\\venv\\Lib\\site-packages\\sklearn\\metrics\\pairwise.py:2317: DataConversionWarning: Data was converted to boolean for metric jaccard\n",
      "  warnings.warn(msg, DataConversionWarning)\n",
      "c:\\Users\\aleary\\OneDrive - Environmental Protection Agency (EPA)\\Profile\\Documents\\genra_py_edits\\genra-py\\venv\\Lib\\site-packages\\sklearn\\metrics\\pairwise.py:2317: DataConversionWarning: Data was converted to boolean for metric jaccard\n",
      "  warnings.warn(msg, DataConversionWarning)\n",
      "c:\\Users\\aleary\\OneDrive - Environmental Protection Agency (EPA)\\Profile\\Documents\\genra_py_edits\\genra-py\\venv\\Lib\\site-packages\\sklearn\\metrics\\pairwise.py:2317: DataConversionWarning: Data was converted to boolean for metric jaccard\n",
      "  warnings.warn(msg, DataConversionWarning)\n",
      "c:\\Users\\aleary\\OneDrive - Environmental Protection Agency (EPA)\\Profile\\Documents\\genra_py_edits\\genra-py\\venv\\Lib\\site-packages\\sklearn\\metrics\\pairwise.py:2317: DataConversionWarning: Data was converted to boolean for metric jaccard\n",
      "  warnings.warn(msg, DataConversionWarning)\n"
     ]
    }
   ],
   "source": [
    "from sklearn.metrics import r2_score\n",
    "slices = [slice(0,729),slice(729,2777), slice(2777,4825), slice(4825, 5727), slice(5727, None)]\n",
    "tester = GenRAPredValueHybrid(n_neighbors = 8, slices = slices, hybrid_weights=[0,1,0,0,0],  metric = 'jaccard')\n",
    "tester.fit(ld50.iloc[:,1:], ld50.iloc[:,0])\n",
    "y_preds = tester.predict()"
   ]
  },
  {
   "cell_type": "code",
   "execution_count": 220,
   "metadata": {},
   "outputs": [
    {
     "data": {
      "text/plain": [
       "0.5291021179031044"
      ]
     },
     "execution_count": 220,
     "metadata": {},
     "output_type": "execute_result"
    }
   ],
   "source": [
    "r2_score(ld50.iloc[:,0], y_preds)"
   ]
  },
  {
   "cell_type": "code",
   "execution_count": 221,
   "metadata": {},
   "outputs": [
    {
     "name": "stderr",
     "output_type": "stream",
     "text": [
      "c:\\Users\\aleary\\OneDrive - Environmental Protection Agency (EPA)\\Profile\\Documents\\genra_py_edits\\genra-py\\venv\\Lib\\site-packages\\sklearn\\metrics\\pairwise.py:2317: DataConversionWarning: Data was converted to boolean for metric jaccard\n",
      "  warnings.warn(msg, DataConversionWarning)\n",
      "c:\\Users\\aleary\\OneDrive - Environmental Protection Agency (EPA)\\Profile\\Documents\\genra_py_edits\\genra-py\\venv\\Lib\\site-packages\\sklearn\\metrics\\pairwise.py:2317: DataConversionWarning: Data was converted to boolean for metric jaccard\n",
      "  warnings.warn(msg, DataConversionWarning)\n"
     ]
    },
    {
     "data": {
      "text/plain": [
       "0.5289070399583202"
      ]
     },
     "execution_count": 221,
     "metadata": {},
     "output_type": "execute_result"
    }
   ],
   "source": [
    "#Test that Pred and PredHybrid are making the same calculations if fed the same prints and metric\n",
    "from sklearn.metrics import r2_score\n",
    "slices = [slice(0,729),slice(729,2777), slice(2777,4825), slice(4825, 5727), slice(5727, None)]\n",
    "value_tester = GenRAPredValue(n_neighbors = 8,  metric = 'jaccard')\n",
    "value_tester.fit(ld50.iloc[:,730:2778], ld50.iloc[:,0])\n",
    "y_preds_value = value_tester.predict()\n",
    "r2_score(ld50.iloc[:,0], y_preds_value)"
   ]
  },
  {
   "cell_type": "code",
   "execution_count": 223,
   "metadata": {},
   "outputs": [
    {
     "data": {
      "text/plain": [
       "1895"
      ]
     },
     "execution_count": 223,
     "metadata": {},
     "output_type": "execute_result"
    }
   ],
   "source": [
    "diffs2 = y_preds - y_preds_value\n",
    "list(diffs2).index(diffs2.max())"
   ]
  },
  {
   "cell_type": "code",
   "execution_count": 224,
   "metadata": {},
   "outputs": [
    {
     "data": {
      "text/plain": [
       "1.71038745566"
      ]
     },
     "execution_count": 224,
     "metadata": {},
     "output_type": "execute_result"
    }
   ],
   "source": [
    "ld50.iloc[1895, 0]"
   ]
  },
  {
   "cell_type": "code",
   "execution_count": 225,
   "metadata": {},
   "outputs": [
    {
     "data": {
      "text/plain": [
       "0.3525366596899835"
      ]
     },
     "execution_count": 225,
     "metadata": {},
     "output_type": "execute_result"
    }
   ],
   "source": [
    "diffs2.max()"
   ]
  },
  {
   "cell_type": "markdown",
   "metadata": {},
   "source": [
    "Weight (100 vs. 1) is not affecting results, query_is_train True vs. False is not affecting results. Hybrid vs. traditional IS affecting results. Results yielding worse r2 scores than usual. Problem persists through Jaccard use, so should not be a result of Problem 1 fixes.\n",
    "\n",
    "With new query_is_train functionality, kneighbors and kneighbors_sim working appropriately and match for both sets even where final results do not."
   ]
  },
  {
   "cell_type": "code",
   "execution_count": 147,
   "metadata": {},
   "outputs": [
    {
     "name": "stderr",
     "output_type": "stream",
     "text": [
      "c:\\Users\\aleary\\OneDrive - Environmental Protection Agency (EPA)\\Profile\\Documents\\genra_py_edits\\genra-py\\venv\\Lib\\site-packages\\sklearn\\metrics\\pairwise.py:2317: DataConversionWarning: Data was converted to boolean for metric jaccard\n",
      "  warnings.warn(msg, DataConversionWarning)\n",
      "c:\\Users\\aleary\\OneDrive - Environmental Protection Agency (EPA)\\Profile\\Documents\\genra_py_edits\\genra-py\\venv\\Lib\\site-packages\\sklearn\\metrics\\pairwise.py:2317: DataConversionWarning: Data was converted to boolean for metric jaccard\n",
      "  warnings.warn(msg, DataConversionWarning)\n",
      "c:\\Users\\aleary\\OneDrive - Environmental Protection Agency (EPA)\\Profile\\Documents\\genra_py_edits\\genra-py\\venv\\Lib\\site-packages\\sklearn\\metrics\\pairwise.py:2317: DataConversionWarning: Data was converted to boolean for metric jaccard\n",
      "  warnings.warn(msg, DataConversionWarning)\n",
      "c:\\Users\\aleary\\OneDrive - Environmental Protection Agency (EPA)\\Profile\\Documents\\genra_py_edits\\genra-py\\venv\\Lib\\site-packages\\sklearn\\metrics\\pairwise.py:2317: DataConversionWarning: Data was converted to boolean for metric jaccard\n",
      "  warnings.warn(msg, DataConversionWarning)\n",
      "c:\\Users\\aleary\\OneDrive - Environmental Protection Agency (EPA)\\Profile\\Documents\\genra_py_edits\\genra-py\\venv\\Lib\\site-packages\\sklearn\\metrics\\pairwise.py:2317: DataConversionWarning: Data was converted to boolean for metric jaccard\n",
      "  warnings.warn(msg, DataConversionWarning)\n",
      "c:\\Users\\aleary\\OneDrive - Environmental Protection Agency (EPA)\\Profile\\Documents\\genra_py_edits\\genra-py\\venv\\Lib\\site-packages\\sklearn\\metrics\\pairwise.py:2317: DataConversionWarning: Data was converted to boolean for metric jaccard\n",
      "  warnings.warn(msg, DataConversionWarning)\n",
      "c:\\Users\\aleary\\OneDrive - Environmental Protection Agency (EPA)\\Profile\\Documents\\genra_py_edits\\genra-py\\venv\\Lib\\site-packages\\sklearn\\metrics\\pairwise.py:2317: DataConversionWarning: Data was converted to boolean for metric jaccard\n",
      "  warnings.warn(msg, DataConversionWarning)\n",
      "c:\\Users\\aleary\\OneDrive - Environmental Protection Agency (EPA)\\Profile\\Documents\\genra_py_edits\\genra-py\\venv\\Lib\\site-packages\\sklearn\\metrics\\pairwise.py:2317: DataConversionWarning: Data was converted to boolean for metric jaccard\n",
      "  warnings.warn(msg, DataConversionWarning)\n",
      "c:\\Users\\aleary\\OneDrive - Environmental Protection Agency (EPA)\\Profile\\Documents\\genra_py_edits\\genra-py\\venv\\Lib\\site-packages\\sklearn\\metrics\\pairwise.py:2317: DataConversionWarning: Data was converted to boolean for metric jaccard\n",
      "  warnings.warn(msg, DataConversionWarning)\n",
      "c:\\Users\\aleary\\OneDrive - Environmental Protection Agency (EPA)\\Profile\\Documents\\genra_py_edits\\genra-py\\venv\\Lib\\site-packages\\sklearn\\metrics\\pairwise.py:2317: DataConversionWarning: Data was converted to boolean for metric jaccard\n",
      "  warnings.warn(msg, DataConversionWarning)\n"
     ]
    }
   ],
   "source": [
    "sim_test = tester.kneighbors_sim()\n"
   ]
  },
  {
   "cell_type": "code",
   "execution_count": 148,
   "metadata": {},
   "outputs": [
    {
     "name": "stderr",
     "output_type": "stream",
     "text": [
      "c:\\Users\\aleary\\OneDrive - Environmental Protection Agency (EPA)\\Profile\\Documents\\genra_py_edits\\genra-py\\venv\\Lib\\site-packages\\sklearn\\metrics\\pairwise.py:2317: DataConversionWarning: Data was converted to boolean for metric jaccard\n",
      "  warnings.warn(msg, DataConversionWarning)\n"
     ]
    },
    {
     "name": "stderr",
     "output_type": "stream",
     "text": [
      "c:\\Users\\aleary\\OneDrive - Environmental Protection Agency (EPA)\\Profile\\Documents\\genra_py_edits\\genra-py\\venv\\Lib\\site-packages\\sklearn\\metrics\\pairwise.py:2317: DataConversionWarning: Data was converted to boolean for metric jaccard\n",
      "  warnings.warn(msg, DataConversionWarning)\n"
     ]
    }
   ],
   "source": [
    "value_sim_test = value_tester.kneighbors_sim()"
   ]
  },
  {
   "cell_type": "markdown",
   "metadata": {},
   "source": [
    "We see here that a difference arises between what the two tests consider to be the neighbors. Despite having identical distances, the neighbor indices do not match. This is true in the version of GenRA from before my edits began. It appears that the two different predictors prioritize equivalently distanced chemicals differently, which can alter predictions based on which indices are kept in the neighborhood. "
   ]
  },
  {
   "cell_type": "code",
   "execution_count": 149,
   "metadata": {},
   "outputs": [
    {
     "data": {
      "text/plain": [
       "array([0.71428571, 0.53488372, 0.36363636, 0.29411765, 0.29411765,\n",
       "       0.27777778, 0.27777778, 0.27027027])"
      ]
     },
     "execution_count": 149,
     "metadata": {},
     "output_type": "execute_result"
    }
   ],
   "source": [
    "sim_test[0][1895]"
   ]
  },
  {
   "cell_type": "code",
   "execution_count": 180,
   "metadata": {},
   "outputs": [
    {
     "data": {
      "text/plain": [
       "array([5602, 5648, 2644, 1342, 4955, 4954, 5105,  349], dtype=int64)"
      ]
     },
     "execution_count": 180,
     "metadata": {},
     "output_type": "execute_result"
    }
   ],
   "source": [
    "sim_test[1][1895]"
   ]
  },
  {
   "cell_type": "code",
   "execution_count": 150,
   "metadata": {},
   "outputs": [
    {
     "data": {
      "text/plain": [
       "array([0.71428571, 0.53488372, 0.36363636, 0.29411765, 0.29411765,\n",
       "       0.27777778, 0.27777778, 0.27027027])"
      ]
     },
     "execution_count": 150,
     "metadata": {},
     "output_type": "execute_result"
    }
   ],
   "source": [
    "value_sim_test[0][1895]"
   ]
  },
  {
   "cell_type": "code",
   "execution_count": 181,
   "metadata": {},
   "outputs": [
    {
     "data": {
      "text/plain": [
       "array([5602, 5648, 2644, 4955, 1342, 4954, 5105, 4718], dtype=int64)"
      ]
     },
     "execution_count": 181,
     "metadata": {},
     "output_type": "execute_result"
    }
   ],
   "source": [
    "value_sim_test[1][1895]"
   ]
  },
  {
   "cell_type": "code",
   "execution_count": 152,
   "metadata": {},
   "outputs": [
    {
     "data": {
      "text/plain": [
       "(0.9205860407023327, 0.5680493810123493)"
      ]
     },
     "execution_count": 152,
     "metadata": {},
     "output_type": "execute_result"
    }
   ],
   "source": [
    "y_preds[1895], y_preds_value[1895]"
   ]
  },
  {
   "cell_type": "code",
   "execution_count": 213,
   "metadata": {},
   "outputs": [
    {
     "data": {
      "text/plain": [
       "-0.8158115911278622"
      ]
     },
     "execution_count": 213,
     "metadata": {},
     "output_type": "execute_result"
    }
   ],
   "source": [
    "#Manual calculation on problem chemical (1895) using hybrid similarity\n",
    "np.dot(ld50.iloc[list(sim_test[1][1895]), 0], sim_test[0][1895]/sum(sim_test[0][1895]))"
   ]
  },
  {
   "cell_type": "code",
   "execution_count": 179,
   "metadata": {},
   "outputs": [
    {
     "data": {
      "text/plain": [
       "0.5680493810123494"
      ]
     },
     "execution_count": 179,
     "metadata": {},
     "output_type": "execute_result"
    }
   ],
   "source": [
    "#Manual calculation on problem chemical (1895) using plain similarity\n",
    "np.dot(ld50.iloc[list(value_sim_test[1][1895]), 0], value_sim_test[0][1895]/sum(value_sim_test[0][1895]))"
   ]
  },
  {
   "cell_type": "code",
   "execution_count": 155,
   "metadata": {},
   "outputs": [
    {
     "name": "stderr",
     "output_type": "stream",
     "text": [
      "c:\\Users\\aleary\\OneDrive - Environmental Protection Agency (EPA)\\Profile\\Documents\\genra_py_edits\\genra-py\\venv\\Lib\\site-packages\\sklearn\\metrics\\pairwise.py:2317: DataConversionWarning: Data was converted to boolean for metric jaccard\n",
      "  warnings.warn(msg, DataConversionWarning)\n",
      "c:\\Users\\aleary\\OneDrive - Environmental Protection Agency (EPA)\\Profile\\Documents\\genra_py_edits\\genra-py\\venv\\Lib\\site-packages\\sklearn\\metrics\\pairwise.py:2317: DataConversionWarning: Data was converted to boolean for metric jaccard\n",
      "  warnings.warn(msg, DataConversionWarning)\n",
      "c:\\Users\\aleary\\OneDrive - Environmental Protection Agency (EPA)\\Profile\\Documents\\genra_py_edits\\genra-py\\venv\\Lib\\site-packages\\sklearn\\metrics\\pairwise.py:2317: DataConversionWarning: Data was converted to boolean for metric jaccard\n",
      "  warnings.warn(msg, DataConversionWarning)\n",
      "c:\\Users\\aleary\\OneDrive - Environmental Protection Agency (EPA)\\Profile\\Documents\\genra_py_edits\\genra-py\\venv\\Lib\\site-packages\\sklearn\\metrics\\pairwise.py:2317: DataConversionWarning: Data was converted to boolean for metric jaccard\n",
      "  warnings.warn(msg, DataConversionWarning)\n",
      "c:\\Users\\aleary\\OneDrive - Environmental Protection Agency (EPA)\\Profile\\Documents\\genra_py_edits\\genra-py\\venv\\Lib\\site-packages\\sklearn\\metrics\\pairwise.py:2317: DataConversionWarning: Data was converted to boolean for metric jaccard\n",
      "  warnings.warn(msg, DataConversionWarning)\n",
      "c:\\Users\\aleary\\OneDrive - Environmental Protection Agency (EPA)\\Profile\\Documents\\genra_py_edits\\genra-py\\venv\\Lib\\site-packages\\sklearn\\metrics\\pairwise.py:2317: DataConversionWarning: Data was converted to boolean for metric jaccard\n",
      "  warnings.warn(msg, DataConversionWarning)\n",
      "c:\\Users\\aleary\\OneDrive - Environmental Protection Agency (EPA)\\Profile\\Documents\\genra_py_edits\\genra-py\\venv\\Lib\\site-packages\\sklearn\\metrics\\pairwise.py:2317: DataConversionWarning: Data was converted to boolean for metric jaccard\n",
      "  warnings.warn(msg, DataConversionWarning)\n",
      "c:\\Users\\aleary\\OneDrive - Environmental Protection Agency (EPA)\\Profile\\Documents\\genra_py_edits\\genra-py\\venv\\Lib\\site-packages\\sklearn\\metrics\\pairwise.py:2317: DataConversionWarning: Data was converted to boolean for metric jaccard\n",
      "  warnings.warn(msg, DataConversionWarning)\n",
      "c:\\Users\\aleary\\OneDrive - Environmental Protection Agency (EPA)\\Profile\\Documents\\genra_py_edits\\genra-py\\venv\\Lib\\site-packages\\sklearn\\metrics\\pairwise.py:2317: DataConversionWarning: Data was converted to boolean for metric jaccard\n",
      "  warnings.warn(msg, DataConversionWarning)\n",
      "c:\\Users\\aleary\\OneDrive - Environmental Protection Agency (EPA)\\Profile\\Documents\\genra_py_edits\\genra-py\\venv\\Lib\\site-packages\\sklearn\\metrics\\pairwise.py:2317: DataConversionWarning: Data was converted to boolean for metric jaccard\n",
      "  warnings.warn(msg, DataConversionWarning)\n"
     ]
    }
   ],
   "source": [
    "checking = tester.kneighbors_sim()"
   ]
  },
  {
   "cell_type": "code",
   "execution_count": 169,
   "metadata": {},
   "outputs": [
    {
     "data": {
      "text/plain": [
       "array([   2,    4,    1, 5805,  837,  870,  103, 3701], dtype=int64)"
      ]
     },
     "execution_count": 169,
     "metadata": {},
     "output_type": "execute_result"
    }
   ],
   "source": [
    "checking[1][0]"
   ]
  },
  {
   "cell_type": "code",
   "execution_count": 170,
   "metadata": {},
   "outputs": [
    {
     "data": {
      "text/plain": [
       "-0.8992473910260691"
      ]
     },
     "execution_count": 170,
     "metadata": {},
     "output_type": "execute_result"
    }
   ],
   "source": [
    "#Manual calculation on first chemical\n",
    "np.dot(ld50.iloc[list(checking[1][0]), 0], checking[0][0]/sum(checking[0][0]))"
   ]
  },
  {
   "cell_type": "code",
   "execution_count": 171,
   "metadata": {},
   "outputs": [],
   "source": [
    "#Manually produce predictions\n",
    "neigh_sim = checking[0][0:10]\n",
    "neigh_ind = checking[1][0:10]\n",
    "_y = np.array(ld50.iloc[:, 0]).reshape((-1,1))\n",
    "y_pred = np.empty((10, _y.shape[1]), dtype=np.float64)\n",
    "\n",
    "denom=np.sum(neigh_sim, axis=1)\n",
    "for j in range(_y.shape[1]):\n",
    "    num = np.sum(_y[neigh_ind, j] * neigh_sim, axis=1)\n",
    "    if 0 in denom:\n",
    "        denom[denom == 0] = neigh_sim.shape[1]\n",
    "        num = np.sum(_y[neigh_ind, j], axis = 1)\n",
    "    y_pred[:, j] = num / denom"
   ]
  },
  {
   "cell_type": "code",
   "execution_count": 172,
   "metadata": {},
   "outputs": [
    {
     "data": {
      "text/plain": [
       "([2, 4, 1, 5805, 837, 870, 103, 0],\n",
       " [0.5172413793103448,\n",
       "  0.46875,\n",
       "  0.4666666666666667,\n",
       "  0.4666666666666667,\n",
       "  0.4545454545454546,\n",
       "  0.4516129032258065,\n",
       "  0.4411764705882353,\n",
       "  1])"
      ]
     },
     "execution_count": 172,
     "metadata": {},
     "output_type": "execute_result"
    }
   ],
   "source": [
    "# Put the chem in its own prediction to check whether the model is doing the same\n",
    "neighbors_and_self = list(checking[1][0])[:7]\n",
    "neighbors_and_self.append(0)\n",
    "\n",
    "filtered_sims = list(checking[0][0])[:7]\n",
    "filtered_sims.append(1)\n",
    "neighbors_and_self, filtered_sims"
   ]
  },
  {
   "cell_type": "code",
   "execution_count": 173,
   "metadata": {},
   "outputs": [
    {
     "data": {
      "text/plain": [
       "-0.7366903749546412"
      ]
     },
     "execution_count": 173,
     "metadata": {},
     "output_type": "execute_result"
    }
   ],
   "source": [
    "#We see here whether the prediction engine is still cheating, as the y_preds value should not match\n",
    "# what we obtain if we use the chemical in its own prediction\n",
    "np.dot(ld50.iloc[neighbors_and_self, 0], filtered_sims/sum(filtered_sims))"
   ]
  },
  {
   "cell_type": "code",
   "execution_count": 174,
   "metadata": {},
   "outputs": [
    {
     "data": {
      "text/plain": [
       "array([-0.89924739, -0.81581159, -0.83386653, -1.09043454, -0.73886316,\n",
       "        0.47486605, -1.2055316 , -1.02671351, -0.73293375,  0.42294367])"
      ]
     },
     "execution_count": 174,
     "metadata": {},
     "output_type": "execute_result"
    }
   ],
   "source": [
    "#Predicted value\n",
    "y_preds[0:10]"
   ]
  },
  {
   "cell_type": "code",
   "execution_count": 175,
   "metadata": {},
   "outputs": [
    {
     "data": {
      "text/plain": [
       "Unnamed: 0\n",
       "DTXSID5020281    -0.465339\n",
       "DTXSID8020961    -0.734786\n",
       "DTXSID0021834    -0.087091\n",
       "DTXSID2044347    -1.058925\n",
       "DTXSID4025745    -1.022972\n",
       "DTXSID9059208    -1.176648\n",
       "DTXSID7026653    -1.090401\n",
       "DTXSID6026080    -1.071803\n",
       "DTXSID80870440   -0.988958\n",
       "DTXSID7026655    -1.295371\n",
       "Name: LD50_LM, dtype: float64"
      ]
     },
     "execution_count": 175,
     "metadata": {},
     "output_type": "execute_result"
    }
   ],
   "source": [
    "#Actual value\n",
    "ld50.iloc[0:10,0]"
   ]
  },
  {
   "cell_type": "code",
   "execution_count": 187,
   "metadata": {},
   "outputs": [
    {
     "name": "stdout",
     "output_type": "stream",
     "text": [
      "scp aleary@v2626umcth031.rtord.epa.gov:/home/aleary/Grid-Search_Optimization/outputs/pre-edit_hybrids.csv data/\n"
     ]
    }
   ],
   "source": [
    "#This is a check that the numbers are the same between old calculations and new, excepting where we have fixed the calculations\n",
    "print('scp aleary@v2626umcth031.rtord.epa.gov:/home/aleary/Grid-Search_Optimization/outputs/pre-edit_hybrids.csv data/')"
   ]
  },
  {
   "cell_type": "code",
   "execution_count": 188,
   "metadata": {},
   "outputs": [],
   "source": [
    "#Import the slow version of the results done on a VM\n",
    "old_df = pd.read_csv('pre-edit_hybrids.csv').set_index(\"Unnamed: 0\")"
   ]
  },
  {
   "cell_type": "code",
   "execution_count": 206,
   "metadata": {},
   "outputs": [
    {
     "data": {
      "text/plain": [
       "0\n",
       "False    5829\n",
       "True        1\n",
       "Name: count, dtype: int64"
      ]
     },
     "execution_count": 206,
     "metadata": {},
     "output_type": "execute_result"
    }
   ],
   "source": [
    "#Check for significant (non-rounding) differences\n",
    "((old_df['0'] - y_preds) > 0.001).value_counts()"
   ]
  },
  {
   "cell_type": "code",
   "execution_count": 197,
   "metadata": {},
   "outputs": [
    {
     "data": {
      "text/plain": [
       "Unnamed: 0\n",
       "0       0.000000e+00\n",
       "1       2.027197e-01\n",
       "2       0.000000e+00\n",
       "3       0.000000e+00\n",
       "4       0.000000e+00\n",
       "            ...     \n",
       "5825   -1.110223e-16\n",
       "5826    0.000000e+00\n",
       "5827   -8.326673e-17\n",
       "5828    0.000000e+00\n",
       "5829    1.110223e-16\n",
       "Name: 0, Length: 5830, dtype: float64"
      ]
     },
     "execution_count": 197,
     "metadata": {},
     "output_type": "execute_result"
    }
   ],
   "source": [
    "#The only difference occurs at chemical 1 (note that other differences are just rounding issues, as they\n",
    "# are extremely small)\n",
    "old_df['0']-y_preds"
   ]
  },
  {
   "cell_type": "code",
   "execution_count": 216,
   "metadata": {},
   "outputs": [
    {
     "data": {
      "text/plain": [
       "(array([0.46666667, 0.46666667, 0.46666667, 0.45454545, 0.4516129 ,\n",
       "        0.4375    , 0.42424242, 0.42424242]),\n",
       " array([   0,    2, 5805, 4143,  870, 3701,    4,    5], dtype=int64))"
      ]
     },
     "execution_count": 216,
     "metadata": {},
     "output_type": "execute_result"
    }
   ],
   "source": [
    "#Checking this with VM results, we find that this is because of differences in selecting between equidistant\n",
    "#neighbors, a change which we've seen also creates differences between GenraPredValue and GenraPredHybridValue\n",
    "sim_test[0][1], sim_test[1][1]"
   ]
  },
  {
   "cell_type": "markdown",
   "metadata": {},
   "source": [
    "## universal_distance"
   ]
  },
  {
   "cell_type": "code",
   "execution_count": 4,
   "metadata": {},
   "outputs": [
    {
     "data": {
      "text/plain": [
       "0.40869731381220464"
      ]
     },
     "execution_count": 4,
     "metadata": {},
     "output_type": "execute_result"
    }
   ],
   "source": [
    "from sklearn.metrics import r2_score\n",
    "from genra.rax.skl.reg import GenRAPredValue\n",
    "slices = [slice(0,729),slice(729,2777), slice(2777,4825), slice(4825, 5727), slice(5727, None)]\n",
    "value_tester = GenRAPredValue(n_neighbors = 8,  metric = 'canberra', universal_distance = False)\n",
    "value_tester.fit(ld50.iloc[:,730:2778], ld50.iloc[:,0])\n",
    "y_preds_value = value_tester.predict()\n",
    "r2_score(ld50.iloc[:,0], y_preds_value)"
   ]
  },
  {
   "cell_type": "code",
   "execution_count": 5,
   "metadata": {},
   "outputs": [
    {
     "data": {
      "text/plain": [
       "0.4085822190914844"
      ]
     },
     "execution_count": 5,
     "metadata": {},
     "output_type": "execute_result"
    }
   ],
   "source": [
    "from genra.rax.skl.hybrid import GenRAPredValueHybrid\n",
    "slices = [slice(0,729),slice(729,2777), slice(2777,4825), slice(4825, 5727), slice(5727, None)]\n",
    "tester = GenRAPredValueHybrid(n_neighbors = 8, slices = slices, hybrid_weights=[0,1,0,0,0],  metric = 'canberra', universal_distance = False)\n",
    "tester.fit(ld50.iloc[:,1:], ld50.iloc[:,0])\n",
    "y_preds = tester.predict()\n",
    "r2_score(ld50.iloc[:, 0], y_preds)"
   ]
  },
  {
   "cell_type": "code",
   "execution_count": 6,
   "metadata": {},
   "outputs": [
    {
     "data": {
      "text/plain": [
       "0.3208001073985547"
      ]
     },
     "execution_count": 6,
     "metadata": {},
     "output_type": "execute_result"
    }
   ],
   "source": [
    "from sklearn.metrics import r2_score\n",
    "from genra.rax.skl.reg import GenRAPredValue\n",
    "slices = [slice(0,729),slice(729,2777), slice(2777,4825), slice(4825, 5727), slice(5727, None)]\n",
    "value_tester = GenRAPredValue(n_neighbors = 8,  metric = 'canberra', universal_distance = True)\n",
    "value_tester.fit(ld50.iloc[:,730:2778], ld50.iloc[:,0])\n",
    "y_preds_value = value_tester.predict()\n",
    "r2_score(ld50.iloc[:,0], y_preds_value)"
   ]
  },
  {
   "cell_type": "code",
   "execution_count": 7,
   "metadata": {},
   "outputs": [
    {
     "data": {
      "text/plain": [
       "0.32413184429146624"
      ]
     },
     "execution_count": 7,
     "metadata": {},
     "output_type": "execute_result"
    }
   ],
   "source": [
    "from genra.rax.skl.hybrid import GenRAPredValueHybrid\n",
    "slices = [slice(0,729),slice(729,2777), slice(2777,4825), slice(4825, 5727), slice(5727, None)]\n",
    "tester = GenRAPredValueHybrid(n_neighbors = 8, slices = slices, hybrid_weights=[0,1,0,0,0],  metric = 'canberra', universal_distance = True)\n",
    "tester.fit(ld50.iloc[:,1:], ld50.iloc[:,0])\n",
    "y_preds = tester.predict()\n",
    "r2_score(ld50.iloc[:, 0], y_preds)"
   ]
  },
  {
   "cell_type": "markdown",
   "metadata": {},
   "source": [
    "# Grid Search"
   ]
  },
  {
   "cell_type": "code",
   "execution_count": 44,
   "metadata": {},
   "outputs": [],
   "source": [
    "from sklearn.model_selection import ShuffleSplit\n",
    "from sklearn.model_selection import ParameterGrid\n",
    "from sklearn.metrics import get_scorer, r2_score, root_mean_squared_error\n",
    "\n",
    "def GenRAGridSearch(X, y, params, estimator, scoring, scorer_names = None, n_splits = 5, refit = None):\n",
    "    cv = ShuffleSplit(n_splits = n_splits, test_size = 0.25)\n",
    "    cv_results = {}\n",
    "    number_names = scorer_names is None\n",
    "    if number_names:\n",
    "        scorer_names = range(len(scoring))\n",
    "    for param in params.keys():\n",
    "        cv_results[param] = []\n",
    "    for split in range(n_splits):\n",
    "        for scorer in scorer_names:\n",
    "            cv_results[f'split{split}_scorer_{scorer}'] = []\n",
    "    params_list = ParameterGrid(params)\n",
    "    X = ld50.iloc[:, 1:]\n",
    "    for test_case in params_list:\n",
    "        for key, value in test_case.items():\n",
    "            setattr(estimator, key, value)\n",
    "            cv_results[key].append(value)\n",
    "        estimator.fit(X,y)\n",
    "        y_preds = estimator.predict()\n",
    "        split = 0\n",
    "        for train, test in cv.split(X):\n",
    "        \n",
    "            for x in range(len(scoring)):\n",
    "                cv_results[f'split{split}_scorer_{scorer_names[x]}'].append(scoring[x](y.iloc[test].values, y_preds[test]))\n",
    "            split += 1\n",
    "    return cv_results"
   ]
  },
  {
   "cell_type": "code",
   "execution_count": 19,
   "metadata": {},
   "outputs": [
    {
     "data": {
      "text/plain": [
       "-7.741799641215682"
      ]
     },
     "execution_count": 19,
     "metadata": {},
     "output_type": "execute_result"
    }
   ],
   "source": [
    "get_scorer('r2')(y_true = [1,0,1], estimator = estimator, X = ld50.iloc[:3, 1:])"
   ]
  },
  {
   "cell_type": "code",
   "execution_count": 29,
   "metadata": {},
   "outputs": [],
   "source": [
    "import numpy as np\n",
    "\n",
    "def generalJaccard(row1, row2):\n",
    "    diff = np.array(row1)-np.array(row2)\n",
    "    denom = (np.dot(diff, diff)+np.dot(row1, row2))\n",
    "    if denom != 0:\n",
    "        similarity = np.dot(row1, row2)/(np.dot(diff, diff)+np.dot(row1, row2))\n",
    "    else:\n",
    "        similarity = 0\n",
    "    return similarity\n",
    "\n",
    "def generalJaccardDistance(row1, row2):\n",
    "    similarity = generalJaccard(row1, row2)\n",
    "    distance = 1 - similarity\n",
    "    return distance"
   ]
  },
  {
   "cell_type": "code",
   "execution_count": 45,
   "metadata": {},
   "outputs": [],
   "source": [
    "#Test without score names\n",
    "from genra.rax.skl.hybrid import GenRAPredValueHybrid\n",
    "\n",
    "estimator = GenRAPredValueHybrid(slices = slices, hybrid_weights = [0,10,0,0,0])\n",
    "params = {'n_neighbors': [5,3], 'metric':['cosine', 'canberra']}\n",
    "results = GenRAGridSearch(ld50.iloc[:, 1:], ld50.iloc[:,0], estimator = estimator, params = params, scoring = [r2_score, root_mean_squared_error])"
   ]
  },
  {
   "cell_type": "code",
   "execution_count": 46,
   "metadata": {},
   "outputs": [
    {
     "data": {
      "text/html": [
       "<div>\n",
       "<style scoped>\n",
       "    .dataframe tbody tr th:only-of-type {\n",
       "        vertical-align: middle;\n",
       "    }\n",
       "\n",
       "    .dataframe tbody tr th {\n",
       "        vertical-align: top;\n",
       "    }\n",
       "\n",
       "    .dataframe thead th {\n",
       "        text-align: right;\n",
       "    }\n",
       "</style>\n",
       "<table border=\"1\" class=\"dataframe\">\n",
       "  <thead>\n",
       "    <tr style=\"text-align: right;\">\n",
       "      <th></th>\n",
       "      <th>n_neighbors</th>\n",
       "      <th>metric</th>\n",
       "      <th>split0_scorer_0</th>\n",
       "      <th>split0_scorer_1</th>\n",
       "      <th>split1_scorer_0</th>\n",
       "      <th>split1_scorer_1</th>\n",
       "      <th>split2_scorer_0</th>\n",
       "      <th>split2_scorer_1</th>\n",
       "      <th>split3_scorer_0</th>\n",
       "      <th>split3_scorer_1</th>\n",
       "      <th>split4_scorer_0</th>\n",
       "      <th>split4_scorer_1</th>\n",
       "    </tr>\n",
       "  </thead>\n",
       "  <tbody>\n",
       "    <tr>\n",
       "      <th>0</th>\n",
       "      <td>5</td>\n",
       "      <td>cosine</td>\n",
       "      <td>0.552874</td>\n",
       "      <td>0.620729</td>\n",
       "      <td>0.477578</td>\n",
       "      <td>0.625033</td>\n",
       "      <td>0.517619</td>\n",
       "      <td>0.610308</td>\n",
       "      <td>0.482408</td>\n",
       "      <td>0.640060</td>\n",
       "      <td>0.493000</td>\n",
       "      <td>0.655923</td>\n",
       "    </tr>\n",
       "    <tr>\n",
       "      <th>1</th>\n",
       "      <td>3</td>\n",
       "      <td>cosine</td>\n",
       "      <td>0.435959</td>\n",
       "      <td>0.656569</td>\n",
       "      <td>0.442906</td>\n",
       "      <td>0.660034</td>\n",
       "      <td>0.447501</td>\n",
       "      <td>0.678343</td>\n",
       "      <td>0.461575</td>\n",
       "      <td>0.661315</td>\n",
       "      <td>0.466902</td>\n",
       "      <td>0.649122</td>\n",
       "    </tr>\n",
       "    <tr>\n",
       "      <th>2</th>\n",
       "      <td>5</td>\n",
       "      <td>canberra</td>\n",
       "      <td>0.346869</td>\n",
       "      <td>0.751469</td>\n",
       "      <td>0.393115</td>\n",
       "      <td>0.715251</td>\n",
       "      <td>0.372982</td>\n",
       "      <td>0.736750</td>\n",
       "      <td>0.360284</td>\n",
       "      <td>0.723898</td>\n",
       "      <td>0.310428</td>\n",
       "      <td>0.781357</td>\n",
       "    </tr>\n",
       "    <tr>\n",
       "      <th>3</th>\n",
       "      <td>3</td>\n",
       "      <td>canberra</td>\n",
       "      <td>0.310255</td>\n",
       "      <td>0.769751</td>\n",
       "      <td>0.303151</td>\n",
       "      <td>0.728380</td>\n",
       "      <td>0.308976</td>\n",
       "      <td>0.748938</td>\n",
       "      <td>0.359187</td>\n",
       "      <td>0.722717</td>\n",
       "      <td>0.339781</td>\n",
       "      <td>0.727279</td>\n",
       "    </tr>\n",
       "  </tbody>\n",
       "</table>\n",
       "</div>"
      ],
      "text/plain": [
       "   n_neighbors    metric  split0_scorer_0  split0_scorer_1  split1_scorer_0  \\\n",
       "0            5    cosine         0.552874         0.620729         0.477578   \n",
       "1            3    cosine         0.435959         0.656569         0.442906   \n",
       "2            5  canberra         0.346869         0.751469         0.393115   \n",
       "3            3  canberra         0.310255         0.769751         0.303151   \n",
       "\n",
       "   split1_scorer_1  split2_scorer_0  split2_scorer_1  split3_scorer_0  \\\n",
       "0         0.625033         0.517619         0.610308         0.482408   \n",
       "1         0.660034         0.447501         0.678343         0.461575   \n",
       "2         0.715251         0.372982         0.736750         0.360284   \n",
       "3         0.728380         0.308976         0.748938         0.359187   \n",
       "\n",
       "   split3_scorer_1  split4_scorer_0  split4_scorer_1  \n",
       "0         0.640060         0.493000         0.655923  \n",
       "1         0.661315         0.466902         0.649122  \n",
       "2         0.723898         0.310428         0.781357  \n",
       "3         0.722717         0.339781         0.727279  "
      ]
     },
     "execution_count": 46,
     "metadata": {},
     "output_type": "execute_result"
    }
   ],
   "source": [
    "#View and check results\n",
    "import pandas as pd\n",
    "pd.DataFrame(results)"
   ]
  },
  {
   "cell_type": "code",
   "execution_count": 47,
   "metadata": {},
   "outputs": [],
   "source": [
    "#Test with score names\n",
    "from genra.rax.skl.hybrid import GenRAPredValueHybrid\n",
    "\n",
    "estimator = GenRAPredValueHybrid(slices = slices, hybrid_weights = [0,10,0,0,0])\n",
    "params = {'n_neighbors': [5,3], 'metric':['cosine', 'canberra']}\n",
    "results = GenRAGridSearch(ld50.iloc[:, 1:], ld50.iloc[:,0], estimator = estimator, params = params, scoring = [r2_score, root_mean_squared_error], scorer_names = ['r2', 'rmse'])"
   ]
  },
  {
   "cell_type": "code",
   "execution_count": 48,
   "metadata": {},
   "outputs": [
    {
     "data": {
      "text/html": [
       "<div>\n",
       "<style scoped>\n",
       "    .dataframe tbody tr th:only-of-type {\n",
       "        vertical-align: middle;\n",
       "    }\n",
       "\n",
       "    .dataframe tbody tr th {\n",
       "        vertical-align: top;\n",
       "    }\n",
       "\n",
       "    .dataframe thead th {\n",
       "        text-align: right;\n",
       "    }\n",
       "</style>\n",
       "<table border=\"1\" class=\"dataframe\">\n",
       "  <thead>\n",
       "    <tr style=\"text-align: right;\">\n",
       "      <th></th>\n",
       "      <th>n_neighbors</th>\n",
       "      <th>metric</th>\n",
       "      <th>split0_scorer_r2</th>\n",
       "      <th>split0_scorer_rmse</th>\n",
       "      <th>split1_scorer_r2</th>\n",
       "      <th>split1_scorer_rmse</th>\n",
       "      <th>split2_scorer_r2</th>\n",
       "      <th>split2_scorer_rmse</th>\n",
       "      <th>split3_scorer_r2</th>\n",
       "      <th>split3_scorer_rmse</th>\n",
       "      <th>split4_scorer_r2</th>\n",
       "      <th>split4_scorer_rmse</th>\n",
       "    </tr>\n",
       "  </thead>\n",
       "  <tbody>\n",
       "    <tr>\n",
       "      <th>0</th>\n",
       "      <td>5</td>\n",
       "      <td>cosine</td>\n",
       "      <td>0.502115</td>\n",
       "      <td>0.657672</td>\n",
       "      <td>0.509102</td>\n",
       "      <td>0.656562</td>\n",
       "      <td>0.490355</td>\n",
       "      <td>0.651194</td>\n",
       "      <td>0.451952</td>\n",
       "      <td>0.646172</td>\n",
       "      <td>0.476466</td>\n",
       "      <td>0.670157</td>\n",
       "    </tr>\n",
       "    <tr>\n",
       "      <th>1</th>\n",
       "      <td>3</td>\n",
       "      <td>cosine</td>\n",
       "      <td>0.470067</td>\n",
       "      <td>0.688506</td>\n",
       "      <td>0.491152</td>\n",
       "      <td>0.656325</td>\n",
       "      <td>0.510373</td>\n",
       "      <td>0.633938</td>\n",
       "      <td>0.493559</td>\n",
       "      <td>0.663551</td>\n",
       "      <td>0.460882</td>\n",
       "      <td>0.665037</td>\n",
       "    </tr>\n",
       "    <tr>\n",
       "      <th>2</th>\n",
       "      <td>5</td>\n",
       "      <td>canberra</td>\n",
       "      <td>0.337227</td>\n",
       "      <td>0.722201</td>\n",
       "      <td>0.346824</td>\n",
       "      <td>0.715709</td>\n",
       "      <td>0.315082</td>\n",
       "      <td>0.752058</td>\n",
       "      <td>0.294600</td>\n",
       "      <td>0.748112</td>\n",
       "      <td>0.315651</td>\n",
       "      <td>0.737620</td>\n",
       "    </tr>\n",
       "    <tr>\n",
       "      <th>3</th>\n",
       "      <td>3</td>\n",
       "      <td>canberra</td>\n",
       "      <td>0.363521</td>\n",
       "      <td>0.736552</td>\n",
       "      <td>0.380568</td>\n",
       "      <td>0.720413</td>\n",
       "      <td>0.352519</td>\n",
       "      <td>0.739160</td>\n",
       "      <td>0.321911</td>\n",
       "      <td>0.747936</td>\n",
       "      <td>0.386011</td>\n",
       "      <td>0.699463</td>\n",
       "    </tr>\n",
       "  </tbody>\n",
       "</table>\n",
       "</div>"
      ],
      "text/plain": [
       "   n_neighbors    metric  split0_scorer_r2  split0_scorer_rmse  \\\n",
       "0            5    cosine          0.502115            0.657672   \n",
       "1            3    cosine          0.470067            0.688506   \n",
       "2            5  canberra          0.337227            0.722201   \n",
       "3            3  canberra          0.363521            0.736552   \n",
       "\n",
       "   split1_scorer_r2  split1_scorer_rmse  split2_scorer_r2  split2_scorer_rmse  \\\n",
       "0          0.509102            0.656562          0.490355            0.651194   \n",
       "1          0.491152            0.656325          0.510373            0.633938   \n",
       "2          0.346824            0.715709          0.315082            0.752058   \n",
       "3          0.380568            0.720413          0.352519            0.739160   \n",
       "\n",
       "   split3_scorer_r2  split3_scorer_rmse  split4_scorer_r2  split4_scorer_rmse  \n",
       "0          0.451952            0.646172          0.476466            0.670157  \n",
       "1          0.493559            0.663551          0.460882            0.665037  \n",
       "2          0.294600            0.748112          0.315651            0.737620  \n",
       "3          0.321911            0.747936          0.386011            0.699463  "
      ]
     },
     "execution_count": 48,
     "metadata": {},
     "output_type": "execute_result"
    }
   ],
   "source": [
    "#View and check results\n",
    "import pandas as pd\n",
    "pd.DataFrame(results)"
   ]
  },
  {
   "cell_type": "code",
   "execution_count": null,
   "metadata": {},
   "outputs": [
    {
     "name": "stdout",
     "output_type": "stream",
     "text": [
      "{'metric': 'jaccard', 'n_neighbors': 0}\n",
      "{'metric': 'jaccard', 'n_neighbors': 1}\n",
      "{'metric': 'jaccard', 'n_neighbors': 3}\n",
      "{'metric': 'canberra', 'n_neighbors': 0}\n",
      "{'metric': 'canberra', 'n_neighbors': 1}\n",
      "{'metric': 'canberra', 'n_neighbors': 3}\n"
     ]
    },
    {
     "data": {
      "text/html": [
       "<style>#sk-container-id-10 {\n",
       "  /* Definition of color scheme common for light and dark mode */\n",
       "  --sklearn-color-text: black;\n",
       "  --sklearn-color-line: gray;\n",
       "  /* Definition of color scheme for unfitted estimators */\n",
       "  --sklearn-color-unfitted-level-0: #fff5e6;\n",
       "  --sklearn-color-unfitted-level-1: #f6e4d2;\n",
       "  --sklearn-color-unfitted-level-2: #ffe0b3;\n",
       "  --sklearn-color-unfitted-level-3: chocolate;\n",
       "  /* Definition of color scheme for fitted estimators */\n",
       "  --sklearn-color-fitted-level-0: #f0f8ff;\n",
       "  --sklearn-color-fitted-level-1: #d4ebff;\n",
       "  --sklearn-color-fitted-level-2: #b3dbfd;\n",
       "  --sklearn-color-fitted-level-3: cornflowerblue;\n",
       "\n",
       "  /* Specific color for light theme */\n",
       "  --sklearn-color-text-on-default-background: var(--sg-text-color, var(--theme-code-foreground, var(--jp-content-font-color1, black)));\n",
       "  --sklearn-color-background: var(--sg-background-color, var(--theme-background, var(--jp-layout-color0, white)));\n",
       "  --sklearn-color-border-box: var(--sg-text-color, var(--theme-code-foreground, var(--jp-content-font-color1, black)));\n",
       "  --sklearn-color-icon: #696969;\n",
       "\n",
       "  @media (prefers-color-scheme: dark) {\n",
       "    /* Redefinition of color scheme for dark theme */\n",
       "    --sklearn-color-text-on-default-background: var(--sg-text-color, var(--theme-code-foreground, var(--jp-content-font-color1, white)));\n",
       "    --sklearn-color-background: var(--sg-background-color, var(--theme-background, var(--jp-layout-color0, #111)));\n",
       "    --sklearn-color-border-box: var(--sg-text-color, var(--theme-code-foreground, var(--jp-content-font-color1, white)));\n",
       "    --sklearn-color-icon: #878787;\n",
       "  }\n",
       "}\n",
       "\n",
       "#sk-container-id-10 {\n",
       "  color: var(--sklearn-color-text);\n",
       "}\n",
       "\n",
       "#sk-container-id-10 pre {\n",
       "  padding: 0;\n",
       "}\n",
       "\n",
       "#sk-container-id-10 input.sk-hidden--visually {\n",
       "  border: 0;\n",
       "  clip: rect(1px 1px 1px 1px);\n",
       "  clip: rect(1px, 1px, 1px, 1px);\n",
       "  height: 1px;\n",
       "  margin: -1px;\n",
       "  overflow: hidden;\n",
       "  padding: 0;\n",
       "  position: absolute;\n",
       "  width: 1px;\n",
       "}\n",
       "\n",
       "#sk-container-id-10 div.sk-dashed-wrapped {\n",
       "  border: 1px dashed var(--sklearn-color-line);\n",
       "  margin: 0 0.4em 0.5em 0.4em;\n",
       "  box-sizing: border-box;\n",
       "  padding-bottom: 0.4em;\n",
       "  background-color: var(--sklearn-color-background);\n",
       "}\n",
       "\n",
       "#sk-container-id-10 div.sk-container {\n",
       "  /* jupyter's `normalize.less` sets `[hidden] { display: none; }`\n",
       "     but bootstrap.min.css set `[hidden] { display: none !important; }`\n",
       "     so we also need the `!important` here to be able to override the\n",
       "     default hidden behavior on the sphinx rendered scikit-learn.org.\n",
       "     See: https://github.com/scikit-learn/scikit-learn/issues/21755 */\n",
       "  display: inline-block !important;\n",
       "  position: relative;\n",
       "}\n",
       "\n",
       "#sk-container-id-10 div.sk-text-repr-fallback {\n",
       "  display: none;\n",
       "}\n",
       "\n",
       "div.sk-parallel-item,\n",
       "div.sk-serial,\n",
       "div.sk-item {\n",
       "  /* draw centered vertical line to link estimators */\n",
       "  background-image: linear-gradient(var(--sklearn-color-text-on-default-background), var(--sklearn-color-text-on-default-background));\n",
       "  background-size: 2px 100%;\n",
       "  background-repeat: no-repeat;\n",
       "  background-position: center center;\n",
       "}\n",
       "\n",
       "/* Parallel-specific style estimator block */\n",
       "\n",
       "#sk-container-id-10 div.sk-parallel-item::after {\n",
       "  content: \"\";\n",
       "  width: 100%;\n",
       "  border-bottom: 2px solid var(--sklearn-color-text-on-default-background);\n",
       "  flex-grow: 1;\n",
       "}\n",
       "\n",
       "#sk-container-id-10 div.sk-parallel {\n",
       "  display: flex;\n",
       "  align-items: stretch;\n",
       "  justify-content: center;\n",
       "  background-color: var(--sklearn-color-background);\n",
       "  position: relative;\n",
       "}\n",
       "\n",
       "#sk-container-id-10 div.sk-parallel-item {\n",
       "  display: flex;\n",
       "  flex-direction: column;\n",
       "}\n",
       "\n",
       "#sk-container-id-10 div.sk-parallel-item:first-child::after {\n",
       "  align-self: flex-end;\n",
       "  width: 50%;\n",
       "}\n",
       "\n",
       "#sk-container-id-10 div.sk-parallel-item:last-child::after {\n",
       "  align-self: flex-start;\n",
       "  width: 50%;\n",
       "}\n",
       "\n",
       "#sk-container-id-10 div.sk-parallel-item:only-child::after {\n",
       "  width: 0;\n",
       "}\n",
       "\n",
       "/* Serial-specific style estimator block */\n",
       "\n",
       "#sk-container-id-10 div.sk-serial {\n",
       "  display: flex;\n",
       "  flex-direction: column;\n",
       "  align-items: center;\n",
       "  background-color: var(--sklearn-color-background);\n",
       "  padding-right: 1em;\n",
       "  padding-left: 1em;\n",
       "}\n",
       "\n",
       "\n",
       "/* Toggleable style: style used for estimator/Pipeline/ColumnTransformer box that is\n",
       "clickable and can be expanded/collapsed.\n",
       "- Pipeline and ColumnTransformer use this feature and define the default style\n",
       "- Estimators will overwrite some part of the style using the `sk-estimator` class\n",
       "*/\n",
       "\n",
       "/* Pipeline and ColumnTransformer style (default) */\n",
       "\n",
       "#sk-container-id-10 div.sk-toggleable {\n",
       "  /* Default theme specific background. It is overwritten whether we have a\n",
       "  specific estimator or a Pipeline/ColumnTransformer */\n",
       "  background-color: var(--sklearn-color-background);\n",
       "}\n",
       "\n",
       "/* Toggleable label */\n",
       "#sk-container-id-10 label.sk-toggleable__label {\n",
       "  cursor: pointer;\n",
       "  display: block;\n",
       "  width: 100%;\n",
       "  margin-bottom: 0;\n",
       "  padding: 0.5em;\n",
       "  box-sizing: border-box;\n",
       "  text-align: center;\n",
       "}\n",
       "\n",
       "#sk-container-id-10 label.sk-toggleable__label-arrow:before {\n",
       "  /* Arrow on the left of the label */\n",
       "  content: \"▸\";\n",
       "  float: left;\n",
       "  margin-right: 0.25em;\n",
       "  color: var(--sklearn-color-icon);\n",
       "}\n",
       "\n",
       "#sk-container-id-10 label.sk-toggleable__label-arrow:hover:before {\n",
       "  color: var(--sklearn-color-text);\n",
       "}\n",
       "\n",
       "/* Toggleable content - dropdown */\n",
       "\n",
       "#sk-container-id-10 div.sk-toggleable__content {\n",
       "  max-height: 0;\n",
       "  max-width: 0;\n",
       "  overflow: hidden;\n",
       "  text-align: left;\n",
       "  /* unfitted */\n",
       "  background-color: var(--sklearn-color-unfitted-level-0);\n",
       "}\n",
       "\n",
       "#sk-container-id-10 div.sk-toggleable__content.fitted {\n",
       "  /* fitted */\n",
       "  background-color: var(--sklearn-color-fitted-level-0);\n",
       "}\n",
       "\n",
       "#sk-container-id-10 div.sk-toggleable__content pre {\n",
       "  margin: 0.2em;\n",
       "  border-radius: 0.25em;\n",
       "  color: var(--sklearn-color-text);\n",
       "  /* unfitted */\n",
       "  background-color: var(--sklearn-color-unfitted-level-0);\n",
       "}\n",
       "\n",
       "#sk-container-id-10 div.sk-toggleable__content.fitted pre {\n",
       "  /* unfitted */\n",
       "  background-color: var(--sklearn-color-fitted-level-0);\n",
       "}\n",
       "\n",
       "#sk-container-id-10 input.sk-toggleable__control:checked~div.sk-toggleable__content {\n",
       "  /* Expand drop-down */\n",
       "  max-height: 200px;\n",
       "  max-width: 100%;\n",
       "  overflow: auto;\n",
       "}\n",
       "\n",
       "#sk-container-id-10 input.sk-toggleable__control:checked~label.sk-toggleable__label-arrow:before {\n",
       "  content: \"▾\";\n",
       "}\n",
       "\n",
       "/* Pipeline/ColumnTransformer-specific style */\n",
       "\n",
       "#sk-container-id-10 div.sk-label input.sk-toggleable__control:checked~label.sk-toggleable__label {\n",
       "  color: var(--sklearn-color-text);\n",
       "  background-color: var(--sklearn-color-unfitted-level-2);\n",
       "}\n",
       "\n",
       "#sk-container-id-10 div.sk-label.fitted input.sk-toggleable__control:checked~label.sk-toggleable__label {\n",
       "  background-color: var(--sklearn-color-fitted-level-2);\n",
       "}\n",
       "\n",
       "/* Estimator-specific style */\n",
       "\n",
       "/* Colorize estimator box */\n",
       "#sk-container-id-10 div.sk-estimator input.sk-toggleable__control:checked~label.sk-toggleable__label {\n",
       "  /* unfitted */\n",
       "  background-color: var(--sklearn-color-unfitted-level-2);\n",
       "}\n",
       "\n",
       "#sk-container-id-10 div.sk-estimator.fitted input.sk-toggleable__control:checked~label.sk-toggleable__label {\n",
       "  /* fitted */\n",
       "  background-color: var(--sklearn-color-fitted-level-2);\n",
       "}\n",
       "\n",
       "#sk-container-id-10 div.sk-label label.sk-toggleable__label,\n",
       "#sk-container-id-10 div.sk-label label {\n",
       "  /* The background is the default theme color */\n",
       "  color: var(--sklearn-color-text-on-default-background);\n",
       "}\n",
       "\n",
       "/* On hover, darken the color of the background */\n",
       "#sk-container-id-10 div.sk-label:hover label.sk-toggleable__label {\n",
       "  color: var(--sklearn-color-text);\n",
       "  background-color: var(--sklearn-color-unfitted-level-2);\n",
       "}\n",
       "\n",
       "/* Label box, darken color on hover, fitted */\n",
       "#sk-container-id-10 div.sk-label.fitted:hover label.sk-toggleable__label.fitted {\n",
       "  color: var(--sklearn-color-text);\n",
       "  background-color: var(--sklearn-color-fitted-level-2);\n",
       "}\n",
       "\n",
       "/* Estimator label */\n",
       "\n",
       "#sk-container-id-10 div.sk-label label {\n",
       "  font-family: monospace;\n",
       "  font-weight: bold;\n",
       "  display: inline-block;\n",
       "  line-height: 1.2em;\n",
       "}\n",
       "\n",
       "#sk-container-id-10 div.sk-label-container {\n",
       "  text-align: center;\n",
       "}\n",
       "\n",
       "/* Estimator-specific */\n",
       "#sk-container-id-10 div.sk-estimator {\n",
       "  font-family: monospace;\n",
       "  border: 1px dotted var(--sklearn-color-border-box);\n",
       "  border-radius: 0.25em;\n",
       "  box-sizing: border-box;\n",
       "  margin-bottom: 0.5em;\n",
       "  /* unfitted */\n",
       "  background-color: var(--sklearn-color-unfitted-level-0);\n",
       "}\n",
       "\n",
       "#sk-container-id-10 div.sk-estimator.fitted {\n",
       "  /* fitted */\n",
       "  background-color: var(--sklearn-color-fitted-level-0);\n",
       "}\n",
       "\n",
       "/* on hover */\n",
       "#sk-container-id-10 div.sk-estimator:hover {\n",
       "  /* unfitted */\n",
       "  background-color: var(--sklearn-color-unfitted-level-2);\n",
       "}\n",
       "\n",
       "#sk-container-id-10 div.sk-estimator.fitted:hover {\n",
       "  /* fitted */\n",
       "  background-color: var(--sklearn-color-fitted-level-2);\n",
       "}\n",
       "\n",
       "/* Specification for estimator info (e.g. \"i\" and \"?\") */\n",
       "\n",
       "/* Common style for \"i\" and \"?\" */\n",
       "\n",
       ".sk-estimator-doc-link,\n",
       "a:link.sk-estimator-doc-link,\n",
       "a:visited.sk-estimator-doc-link {\n",
       "  float: right;\n",
       "  font-size: smaller;\n",
       "  line-height: 1em;\n",
       "  font-family: monospace;\n",
       "  background-color: var(--sklearn-color-background);\n",
       "  border-radius: 1em;\n",
       "  height: 1em;\n",
       "  width: 1em;\n",
       "  text-decoration: none !important;\n",
       "  margin-left: 1ex;\n",
       "  /* unfitted */\n",
       "  border: var(--sklearn-color-unfitted-level-1) 1pt solid;\n",
       "  color: var(--sklearn-color-unfitted-level-1);\n",
       "}\n",
       "\n",
       ".sk-estimator-doc-link.fitted,\n",
       "a:link.sk-estimator-doc-link.fitted,\n",
       "a:visited.sk-estimator-doc-link.fitted {\n",
       "  /* fitted */\n",
       "  border: var(--sklearn-color-fitted-level-1) 1pt solid;\n",
       "  color: var(--sklearn-color-fitted-level-1);\n",
       "}\n",
       "\n",
       "/* On hover */\n",
       "div.sk-estimator:hover .sk-estimator-doc-link:hover,\n",
       ".sk-estimator-doc-link:hover,\n",
       "div.sk-label-container:hover .sk-estimator-doc-link:hover,\n",
       ".sk-estimator-doc-link:hover {\n",
       "  /* unfitted */\n",
       "  background-color: var(--sklearn-color-unfitted-level-3);\n",
       "  color: var(--sklearn-color-background);\n",
       "  text-decoration: none;\n",
       "}\n",
       "\n",
       "div.sk-estimator.fitted:hover .sk-estimator-doc-link.fitted:hover,\n",
       ".sk-estimator-doc-link.fitted:hover,\n",
       "div.sk-label-container:hover .sk-estimator-doc-link.fitted:hover,\n",
       ".sk-estimator-doc-link.fitted:hover {\n",
       "  /* fitted */\n",
       "  background-color: var(--sklearn-color-fitted-level-3);\n",
       "  color: var(--sklearn-color-background);\n",
       "  text-decoration: none;\n",
       "}\n",
       "\n",
       "/* Span, style for the box shown on hovering the info icon */\n",
       ".sk-estimator-doc-link span {\n",
       "  display: none;\n",
       "  z-index: 9999;\n",
       "  position: relative;\n",
       "  font-weight: normal;\n",
       "  right: .2ex;\n",
       "  padding: .5ex;\n",
       "  margin: .5ex;\n",
       "  width: min-content;\n",
       "  min-width: 20ex;\n",
       "  max-width: 50ex;\n",
       "  color: var(--sklearn-color-text);\n",
       "  box-shadow: 2pt 2pt 4pt #999;\n",
       "  /* unfitted */\n",
       "  background: var(--sklearn-color-unfitted-level-0);\n",
       "  border: .5pt solid var(--sklearn-color-unfitted-level-3);\n",
       "}\n",
       "\n",
       ".sk-estimator-doc-link.fitted span {\n",
       "  /* fitted */\n",
       "  background: var(--sklearn-color-fitted-level-0);\n",
       "  border: var(--sklearn-color-fitted-level-3);\n",
       "}\n",
       "\n",
       ".sk-estimator-doc-link:hover span {\n",
       "  display: block;\n",
       "}\n",
       "\n",
       "/* \"?\"-specific style due to the `<a>` HTML tag */\n",
       "\n",
       "#sk-container-id-10 a.estimator_doc_link {\n",
       "  float: right;\n",
       "  font-size: 1rem;\n",
       "  line-height: 1em;\n",
       "  font-family: monospace;\n",
       "  background-color: var(--sklearn-color-background);\n",
       "  border-radius: 1rem;\n",
       "  height: 1rem;\n",
       "  width: 1rem;\n",
       "  text-decoration: none;\n",
       "  /* unfitted */\n",
       "  color: var(--sklearn-color-unfitted-level-1);\n",
       "  border: var(--sklearn-color-unfitted-level-1) 1pt solid;\n",
       "}\n",
       "\n",
       "#sk-container-id-10 a.estimator_doc_link.fitted {\n",
       "  /* fitted */\n",
       "  border: var(--sklearn-color-fitted-level-1) 1pt solid;\n",
       "  color: var(--sklearn-color-fitted-level-1);\n",
       "}\n",
       "\n",
       "/* On hover */\n",
       "#sk-container-id-10 a.estimator_doc_link:hover {\n",
       "  /* unfitted */\n",
       "  background-color: var(--sklearn-color-unfitted-level-3);\n",
       "  color: var(--sklearn-color-background);\n",
       "  text-decoration: none;\n",
       "}\n",
       "\n",
       "#sk-container-id-10 a.estimator_doc_link.fitted:hover {\n",
       "  /* fitted */\n",
       "  background-color: var(--sklearn-color-fitted-level-3);\n",
       "}\n",
       "</style><div id=\"sk-container-id-10\" class=\"sk-top-container\"><div class=\"sk-text-repr-fallback\"><pre>GenRAPredValueHybrid(hybrid_weights=[0, 1, 0, 0, 0], metric=&#x27;canberra&#x27;,\n",
       "                     n_neighbors=3,\n",
       "                     slices=[slice(0, 729, None), slice(729, 2777, None),\n",
       "                             slice(2777, 4825, None), slice(4825, 5727, None),\n",
       "                             slice(5727, None, None)])</pre><b>In a Jupyter environment, please rerun this cell to show the HTML representation or trust the notebook. <br />On GitHub, the HTML representation is unable to render, please try loading this page with nbviewer.org.</b></div><div class=\"sk-container\" hidden><div class=\"sk-item\"><div class=\"sk-estimator  sk-toggleable\"><input class=\"sk-toggleable__control sk-hidden--visually\" id=\"sk-estimator-id-10\" type=\"checkbox\" checked><label for=\"sk-estimator-id-10\" class=\"sk-toggleable__label  sk-toggleable__label-arrow \">&nbsp;GenRAPredValueHybrid<span class=\"sk-estimator-doc-link \">i<span>Not fitted</span></span></label><div class=\"sk-toggleable__content \"><pre>GenRAPredValueHybrid(hybrid_weights=[0, 1, 0, 0, 0], metric=&#x27;canberra&#x27;,\n",
       "                     n_neighbors=3,\n",
       "                     slices=[slice(0, 729, None), slice(729, 2777, None),\n",
       "                             slice(2777, 4825, None), slice(4825, 5727, None),\n",
       "                             slice(5727, None, None)])</pre></div> </div></div></div></div>"
      ],
      "text/plain": [
       "GenRAPredValueHybrid(hybrid_weights=[0, 1, 0, 0, 0], metric='canberra',\n",
       "                     n_neighbors=3,\n",
       "                     slices=[slice(0, 729, None), slice(729, 2777, None),\n",
       "                             slice(2777, 4825, None), slice(4825, 5727, None),\n",
       "                             slice(5727, None, None)])"
      ]
     },
     "execution_count": 77,
     "metadata": {},
     "output_type": "execute_result"
    }
   ],
   "source": [
    "from genra.rax.skl.hybrid import GenRAPredValueHybrid\n",
    "from sklearn.base import BaseEstimator, clone\n",
    "from sklearn.model_selection._validation import _fit_and_score\n",
    "\n",
    "\n",
    "params = {'n_neighbors': [0,1,3], 'metric':['jaccard', 'canberra']}\n",
    "params_list = ParameterGrid(params)\n",
    "for i in params_list:\n",
    "    [print(i)]\n",
    "\n",
    "estimator = GenRAPredValueHybrid(hybrid_weights = [0,1,0,0,0], slices = slices)\n",
    "for key, value in i.items():\n",
    "    setattr(estimator, key, value)\n",
    "estimator"
   ]
  },
  {
   "cell_type": "code",
   "execution_count": 46,
   "metadata": {},
   "outputs": [
    {
     "ename": "TypeError",
     "evalue": "BaseEstimator.set_params() takes 1 positional argument but 2 were given",
     "output_type": "error",
     "traceback": [
      "\u001b[1;31m---------------------------------------------------------------------------\u001b[0m",
      "\u001b[1;31mTypeError\u001b[0m                                 Traceback (most recent call last)",
      "Cell \u001b[1;32mIn[46], line 2\u001b[0m\n\u001b[0;32m      1\u001b[0m base_estimator \u001b[38;5;241m=\u001b[39m clone(estimator)\n\u001b[1;32m----> 2\u001b[0m \u001b[43mbase_estimator\u001b[49m\u001b[38;5;241;43m.\u001b[39;49m\u001b[43mset_params\u001b[49m\u001b[43m(\u001b[49m\u001b[43mi\u001b[49m\u001b[43m)\u001b[49m\n\u001b[0;32m      3\u001b[0m base_estimator\n",
      "\u001b[1;31mTypeError\u001b[0m: BaseEstimator.set_params() takes 1 positional argument but 2 were given"
     ]
    }
   ],
   "source": [
    "base_estimator = clone(estimator)\n",
    "base_estimator.set_params(n_neighbors = 8)\n",
    "base_estimator"
   ]
  },
  {
   "cell_type": "code",
   "execution_count": 16,
   "metadata": {},
   "outputs": [
    {
     "data": {
      "text/html": [
       "<div>\n",
       "<style scoped>\n",
       "    .dataframe tbody tr th:only-of-type {\n",
       "        vertical-align: middle;\n",
       "    }\n",
       "\n",
       "    .dataframe tbody tr th {\n",
       "        vertical-align: top;\n",
       "    }\n",
       "\n",
       "    .dataframe thead th {\n",
       "        text-align: right;\n",
       "    }\n",
       "</style>\n",
       "<table border=\"1\" class=\"dataframe\">\n",
       "  <thead>\n",
       "    <tr style=\"text-align: right;\">\n",
       "      <th></th>\n",
       "      <th>tp_fp1</th>\n",
       "      <th>tp_fp2</th>\n",
       "      <th>tp_fp3</th>\n",
       "      <th>tp_fp4</th>\n",
       "      <th>tp_fp5</th>\n",
       "      <th>tp_fp6</th>\n",
       "      <th>tp_fp7</th>\n",
       "      <th>tp_fp8</th>\n",
       "      <th>tp_fp9</th>\n",
       "      <th>tp_fp10</th>\n",
       "      <th>...</th>\n",
       "      <th>P=S</th>\n",
       "      <th>-CF3 [aliphatic attach]</th>\n",
       "      <th>-CF3 [aromatic attach]</th>\n",
       "      <th>-CCl3 [aromatic attach]</th>\n",
       "      <th>-CCl3 [aliphatic attach]</th>\n",
       "      <th>Halogen [Nitrogen attach]</th>\n",
       "      <th>As(=O)</th>\n",
       "      <th>-N=C=S</th>\n",
       "      <th>Sn=O</th>\n",
       "      <th>-N=S=O</th>\n",
       "    </tr>\n",
       "    <tr>\n",
       "      <th>Unnamed: 0</th>\n",
       "      <th></th>\n",
       "      <th></th>\n",
       "      <th></th>\n",
       "      <th></th>\n",
       "      <th></th>\n",
       "      <th></th>\n",
       "      <th></th>\n",
       "      <th></th>\n",
       "      <th></th>\n",
       "      <th></th>\n",
       "      <th></th>\n",
       "      <th></th>\n",
       "      <th></th>\n",
       "      <th></th>\n",
       "      <th></th>\n",
       "      <th></th>\n",
       "      <th></th>\n",
       "      <th></th>\n",
       "      <th></th>\n",
       "      <th></th>\n",
       "      <th></th>\n",
       "    </tr>\n",
       "  </thead>\n",
       "  <tbody>\n",
       "    <tr>\n",
       "      <th>DTXSID3040649</th>\n",
       "      <td>0</td>\n",
       "      <td>0</td>\n",
       "      <td>0</td>\n",
       "      <td>0</td>\n",
       "      <td>0</td>\n",
       "      <td>0</td>\n",
       "      <td>0</td>\n",
       "      <td>0</td>\n",
       "      <td>0</td>\n",
       "      <td>0</td>\n",
       "      <td>...</td>\n",
       "      <td>0.0</td>\n",
       "      <td>0.0</td>\n",
       "      <td>0.0</td>\n",
       "      <td>0.0</td>\n",
       "      <td>0.0</td>\n",
       "      <td>0.0</td>\n",
       "      <td>0.0</td>\n",
       "      <td>0.0</td>\n",
       "      <td>0.0</td>\n",
       "      <td>0.0</td>\n",
       "    </tr>\n",
       "    <tr>\n",
       "      <th>DTXSID3047477</th>\n",
       "      <td>0</td>\n",
       "      <td>0</td>\n",
       "      <td>0</td>\n",
       "      <td>0</td>\n",
       "      <td>0</td>\n",
       "      <td>0</td>\n",
       "      <td>0</td>\n",
       "      <td>0</td>\n",
       "      <td>0</td>\n",
       "      <td>0</td>\n",
       "      <td>...</td>\n",
       "      <td>0.0</td>\n",
       "      <td>0.0</td>\n",
       "      <td>0.0</td>\n",
       "      <td>0.0</td>\n",
       "      <td>0.0</td>\n",
       "      <td>0.0</td>\n",
       "      <td>0.0</td>\n",
       "      <td>0.0</td>\n",
       "      <td>0.0</td>\n",
       "      <td>0.0</td>\n",
       "    </tr>\n",
       "    <tr>\n",
       "      <th>DTXSID3059397</th>\n",
       "      <td>0</td>\n",
       "      <td>0</td>\n",
       "      <td>0</td>\n",
       "      <td>0</td>\n",
       "      <td>0</td>\n",
       "      <td>0</td>\n",
       "      <td>0</td>\n",
       "      <td>0</td>\n",
       "      <td>0</td>\n",
       "      <td>0</td>\n",
       "      <td>...</td>\n",
       "      <td>0.0</td>\n",
       "      <td>0.0</td>\n",
       "      <td>0.0</td>\n",
       "      <td>0.0</td>\n",
       "      <td>0.0</td>\n",
       "      <td>0.0</td>\n",
       "      <td>0.0</td>\n",
       "      <td>0.0</td>\n",
       "      <td>0.0</td>\n",
       "      <td>0.0</td>\n",
       "    </tr>\n",
       "    <tr>\n",
       "      <th>DTXSID7044974</th>\n",
       "      <td>0</td>\n",
       "      <td>0</td>\n",
       "      <td>0</td>\n",
       "      <td>0</td>\n",
       "      <td>0</td>\n",
       "      <td>0</td>\n",
       "      <td>0</td>\n",
       "      <td>0</td>\n",
       "      <td>0</td>\n",
       "      <td>0</td>\n",
       "      <td>...</td>\n",
       "      <td>0.0</td>\n",
       "      <td>0.0</td>\n",
       "      <td>0.0</td>\n",
       "      <td>0.0</td>\n",
       "      <td>0.0</td>\n",
       "      <td>0.0</td>\n",
       "      <td>0.0</td>\n",
       "      <td>0.0</td>\n",
       "      <td>0.0</td>\n",
       "      <td>0.0</td>\n",
       "    </tr>\n",
       "    <tr>\n",
       "      <th>DTXSID30604010</th>\n",
       "      <td>0</td>\n",
       "      <td>0</td>\n",
       "      <td>0</td>\n",
       "      <td>0</td>\n",
       "      <td>0</td>\n",
       "      <td>0</td>\n",
       "      <td>0</td>\n",
       "      <td>0</td>\n",
       "      <td>0</td>\n",
       "      <td>0</td>\n",
       "      <td>...</td>\n",
       "      <td>0.0</td>\n",
       "      <td>0.0</td>\n",
       "      <td>0.0</td>\n",
       "      <td>0.0</td>\n",
       "      <td>0.0</td>\n",
       "      <td>0.0</td>\n",
       "      <td>0.0</td>\n",
       "      <td>0.0</td>\n",
       "      <td>0.0</td>\n",
       "      <td>0.0</td>\n",
       "    </tr>\n",
       "    <tr>\n",
       "      <th>...</th>\n",
       "      <td>...</td>\n",
       "      <td>...</td>\n",
       "      <td>...</td>\n",
       "      <td>...</td>\n",
       "      <td>...</td>\n",
       "      <td>...</td>\n",
       "      <td>...</td>\n",
       "      <td>...</td>\n",
       "      <td>...</td>\n",
       "      <td>...</td>\n",
       "      <td>...</td>\n",
       "      <td>...</td>\n",
       "      <td>...</td>\n",
       "      <td>...</td>\n",
       "      <td>...</td>\n",
       "      <td>...</td>\n",
       "      <td>...</td>\n",
       "      <td>...</td>\n",
       "      <td>...</td>\n",
       "      <td>...</td>\n",
       "      <td>...</td>\n",
       "    </tr>\n",
       "    <tr>\n",
       "      <th>DTXSID10188045</th>\n",
       "      <td>0</td>\n",
       "      <td>0</td>\n",
       "      <td>0</td>\n",
       "      <td>0</td>\n",
       "      <td>0</td>\n",
       "      <td>0</td>\n",
       "      <td>0</td>\n",
       "      <td>0</td>\n",
       "      <td>0</td>\n",
       "      <td>0</td>\n",
       "      <td>...</td>\n",
       "      <td>0.0</td>\n",
       "      <td>0.0</td>\n",
       "      <td>0.0</td>\n",
       "      <td>0.0</td>\n",
       "      <td>0.0</td>\n",
       "      <td>0.0</td>\n",
       "      <td>0.0</td>\n",
       "      <td>0.0</td>\n",
       "      <td>0.0</td>\n",
       "      <td>0.0</td>\n",
       "    </tr>\n",
       "    <tr>\n",
       "      <th>DTXSID9023889</th>\n",
       "      <td>0</td>\n",
       "      <td>0</td>\n",
       "      <td>0</td>\n",
       "      <td>0</td>\n",
       "      <td>0</td>\n",
       "      <td>0</td>\n",
       "      <td>0</td>\n",
       "      <td>0</td>\n",
       "      <td>0</td>\n",
       "      <td>0</td>\n",
       "      <td>...</td>\n",
       "      <td>0.0</td>\n",
       "      <td>0.0</td>\n",
       "      <td>0.0</td>\n",
       "      <td>0.0</td>\n",
       "      <td>0.0</td>\n",
       "      <td>0.0</td>\n",
       "      <td>0.0</td>\n",
       "      <td>0.0</td>\n",
       "      <td>0.0</td>\n",
       "      <td>0.0</td>\n",
       "    </tr>\n",
       "    <tr>\n",
       "      <th>DTXSID4045638</th>\n",
       "      <td>0</td>\n",
       "      <td>0</td>\n",
       "      <td>0</td>\n",
       "      <td>0</td>\n",
       "      <td>0</td>\n",
       "      <td>0</td>\n",
       "      <td>0</td>\n",
       "      <td>0</td>\n",
       "      <td>0</td>\n",
       "      <td>0</td>\n",
       "      <td>...</td>\n",
       "      <td>0.0</td>\n",
       "      <td>0.0</td>\n",
       "      <td>0.0</td>\n",
       "      <td>0.0</td>\n",
       "      <td>0.0</td>\n",
       "      <td>0.0</td>\n",
       "      <td>0.0</td>\n",
       "      <td>0.0</td>\n",
       "      <td>0.0</td>\n",
       "      <td>0.0</td>\n",
       "    </tr>\n",
       "    <tr>\n",
       "      <th>DTXSID20213352</th>\n",
       "      <td>0</td>\n",
       "      <td>0</td>\n",
       "      <td>0</td>\n",
       "      <td>0</td>\n",
       "      <td>0</td>\n",
       "      <td>0</td>\n",
       "      <td>0</td>\n",
       "      <td>0</td>\n",
       "      <td>0</td>\n",
       "      <td>0</td>\n",
       "      <td>...</td>\n",
       "      <td>0.0</td>\n",
       "      <td>0.0</td>\n",
       "      <td>0.0</td>\n",
       "      <td>0.0</td>\n",
       "      <td>0.0</td>\n",
       "      <td>0.0</td>\n",
       "      <td>0.0</td>\n",
       "      <td>0.0</td>\n",
       "      <td>0.0</td>\n",
       "      <td>0.0</td>\n",
       "    </tr>\n",
       "    <tr>\n",
       "      <th>DTXSID5029265</th>\n",
       "      <td>0</td>\n",
       "      <td>0</td>\n",
       "      <td>0</td>\n",
       "      <td>0</td>\n",
       "      <td>0</td>\n",
       "      <td>0</td>\n",
       "      <td>0</td>\n",
       "      <td>0</td>\n",
       "      <td>0</td>\n",
       "      <td>0</td>\n",
       "      <td>...</td>\n",
       "      <td>0.0</td>\n",
       "      <td>0.0</td>\n",
       "      <td>0.0</td>\n",
       "      <td>0.0</td>\n",
       "      <td>0.0</td>\n",
       "      <td>0.0</td>\n",
       "      <td>0.0</td>\n",
       "      <td>0.0</td>\n",
       "      <td>0.0</td>\n",
       "      <td>0.0</td>\n",
       "    </tr>\n",
       "  </tbody>\n",
       "</table>\n",
       "<p>4372 rows × 6523 columns</p>\n",
       "</div>"
      ],
      "text/plain": [
       "                tp_fp1  tp_fp2  tp_fp3  tp_fp4  tp_fp5  tp_fp6  tp_fp7  \\\n",
       "Unnamed: 0                                                               \n",
       "DTXSID3040649        0       0       0       0       0       0       0   \n",
       "DTXSID3047477        0       0       0       0       0       0       0   \n",
       "DTXSID3059397        0       0       0       0       0       0       0   \n",
       "DTXSID7044974        0       0       0       0       0       0       0   \n",
       "DTXSID30604010       0       0       0       0       0       0       0   \n",
       "...                ...     ...     ...     ...     ...     ...     ...   \n",
       "DTXSID10188045       0       0       0       0       0       0       0   \n",
       "DTXSID9023889        0       0       0       0       0       0       0   \n",
       "DTXSID4045638        0       0       0       0       0       0       0   \n",
       "DTXSID20213352       0       0       0       0       0       0       0   \n",
       "DTXSID5029265        0       0       0       0       0       0       0   \n",
       "\n",
       "                tp_fp8  tp_fp9  tp_fp10  ...  P=S  -CF3 [aliphatic attach]  \\\n",
       "Unnamed: 0                               ...                                 \n",
       "DTXSID3040649        0       0        0  ...  0.0                      0.0   \n",
       "DTXSID3047477        0       0        0  ...  0.0                      0.0   \n",
       "DTXSID3059397        0       0        0  ...  0.0                      0.0   \n",
       "DTXSID7044974        0       0        0  ...  0.0                      0.0   \n",
       "DTXSID30604010       0       0        0  ...  0.0                      0.0   \n",
       "...                ...     ...      ...  ...  ...                      ...   \n",
       "DTXSID10188045       0       0        0  ...  0.0                      0.0   \n",
       "DTXSID9023889        0       0        0  ...  0.0                      0.0   \n",
       "DTXSID4045638        0       0        0  ...  0.0                      0.0   \n",
       "DTXSID20213352       0       0        0  ...  0.0                      0.0   \n",
       "DTXSID5029265        0       0        0  ...  0.0                      0.0   \n",
       "\n",
       "                -CF3 [aromatic attach]  -CCl3 [aromatic attach]  \\\n",
       "Unnamed: 0                                                        \n",
       "DTXSID3040649                      0.0                      0.0   \n",
       "DTXSID3047477                      0.0                      0.0   \n",
       "DTXSID3059397                      0.0                      0.0   \n",
       "DTXSID7044974                      0.0                      0.0   \n",
       "DTXSID30604010                     0.0                      0.0   \n",
       "...                                ...                      ...   \n",
       "DTXSID10188045                     0.0                      0.0   \n",
       "DTXSID9023889                      0.0                      0.0   \n",
       "DTXSID4045638                      0.0                      0.0   \n",
       "DTXSID20213352                     0.0                      0.0   \n",
       "DTXSID5029265                      0.0                      0.0   \n",
       "\n",
       "                -CCl3 [aliphatic attach]  Halogen [Nitrogen attach]  As(=O)  \\\n",
       "Unnamed: 0                                                                    \n",
       "DTXSID3040649                        0.0                        0.0     0.0   \n",
       "DTXSID3047477                        0.0                        0.0     0.0   \n",
       "DTXSID3059397                        0.0                        0.0     0.0   \n",
       "DTXSID7044974                        0.0                        0.0     0.0   \n",
       "DTXSID30604010                       0.0                        0.0     0.0   \n",
       "...                                  ...                        ...     ...   \n",
       "DTXSID10188045                       0.0                        0.0     0.0   \n",
       "DTXSID9023889                        0.0                        0.0     0.0   \n",
       "DTXSID4045638                        0.0                        0.0     0.0   \n",
       "DTXSID20213352                       0.0                        0.0     0.0   \n",
       "DTXSID5029265                        0.0                        0.0     0.0   \n",
       "\n",
       "                -N=C=S  Sn=O  -N=S=O  \n",
       "Unnamed: 0                            \n",
       "DTXSID3040649      0.0   0.0     0.0  \n",
       "DTXSID3047477      0.0   0.0     0.0  \n",
       "DTXSID3059397      0.0   0.0     0.0  \n",
       "DTXSID7044974      0.0   0.0     0.0  \n",
       "DTXSID30604010     0.0   0.0     0.0  \n",
       "...                ...   ...     ...  \n",
       "DTXSID10188045     0.0   0.0     0.0  \n",
       "DTXSID9023889      0.0   0.0     0.0  \n",
       "DTXSID4045638      0.0   0.0     0.0  \n",
       "DTXSID20213352     0.0   0.0     0.0  \n",
       "DTXSID5029265      0.0   0.0     0.0  \n",
       "\n",
       "[4372 rows x 6523 columns]"
      ]
     },
     "execution_count": 16,
     "metadata": {},
     "output_type": "execute_result"
    }
   ],
   "source": [
    "X.iloc[train, 1:]"
   ]
  }
 ],
 "metadata": {
  "kernelspec": {
   "display_name": "venv",
   "language": "python",
   "name": "python3"
  },
  "language_info": {
   "codemirror_mode": {
    "name": "ipython",
    "version": 3
   },
   "file_extension": ".py",
   "mimetype": "text/x-python",
   "name": "python",
   "nbconvert_exporter": "python",
   "pygments_lexer": "ipython3",
   "version": "3.12.2"
  }
 },
 "nbformat": 4,
 "nbformat_minor": 2
}
